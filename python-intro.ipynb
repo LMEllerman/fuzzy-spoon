{
  "cells": [
    {
      "cell_type": "markdown",
      "metadata": {
        "id": "view-in-github",
        "colab_type": "text"
      },
      "source": [
        "<a href=\"https://colab.research.google.com/github/LMEllerman/fuzzy-spoon/blob/main/python-intro.ipynb\" target=\"_parent\"><img src=\"https://colab.research.google.com/assets/colab-badge.svg\" alt=\"Open In Colab\"/></a>"
      ]
    },
    {
      "cell_type": "code",
      "source": [
        "from google.colab import drive\n",
        "drive.mount('/content/drive')"
      ],
      "metadata": {
        "id": "2lF5Gl3ZXA0a"
      },
      "execution_count": null,
      "outputs": []
    },
    {
      "cell_type": "markdown",
      "source": [
        "# Wow!\n",
        "**This** is my *first* time creating a notebook\n"
      ],
      "metadata": {
        "id": "J4AnduYr3qoj"
      }
    },
    {
      "cell_type": "code",
      "source": [
        "age = 53\n",
        "name = \"Laurie\""
      ],
      "metadata": {
        "id": "eA0lXlKZ4n8D"
      },
      "execution_count": 1,
      "outputs": []
    },
    {
      "cell_type": "code",
      "source": [
        "print(age)\n"
      ],
      "metadata": {
        "colab": {
          "base_uri": "https://localhost:8080/"
        },
        "id": "By3BrYk456YX",
        "outputId": "bbe49217-bb58-4a34-c3f5-7c640035a2f3"
      },
      "execution_count": 2,
      "outputs": [
        {
          "output_type": "stream",
          "name": "stdout",
          "text": [
            "53\n"
          ]
        }
      ]
    },
    {
      "cell_type": "code",
      "source": [
        "print(name, \"is\", age, \"years old\", \".\")"
      ],
      "metadata": {
        "colab": {
          "base_uri": "https://localhost:8080/"
        },
        "id": "zQj_ly4h5-3Z",
        "outputId": "1ad2301c-64d3-47a3-f079-37db50aab2b3"
      },
      "execution_count": 3,
      "outputs": [
        {
          "output_type": "stream",
          "name": "stdout",
          "text": [
            "Laurie is 53 years old .\n"
          ]
        }
      ]
    },
    {
      "cell_type": "code",
      "source": [
        "print(name,\"is\",age,\"years old\",\".\")\n"
      ],
      "metadata": {
        "colab": {
          "base_uri": "https://localhost:8080/"
        },
        "id": "y9ixjEXf6vjY",
        "outputId": "69ecd0dd-1e2f-4a89-a2a2-c5e6f5805a06"
      },
      "execution_count": 4,
      "outputs": [
        {
          "output_type": "stream",
          "name": "stdout",
          "text": [
            "Laurie is 53 years old .\n"
          ]
        }
      ]
    },
    {
      "cell_type": "code",
      "source": [
        "print(last_name)\n"
      ],
      "metadata": {
        "colab": {
          "base_uri": "https://localhost:8080/"
        },
        "id": "ZWXAQrlQ7Bh3",
        "outputId": "fa6c56de-bbd0-4325-f02b-c0219554615f"
      },
      "execution_count": 7,
      "outputs": [
        {
          "output_type": "stream",
          "name": "stdout",
          "text": [
            "Ellerman\n"
          ]
        }
      ]
    },
    {
      "cell_type": "code",
      "source": [
        "last_name = \"Ellerman\"\n"
      ],
      "metadata": {
        "id": "c6GdGfog7YiY"
      },
      "execution_count": 6,
      "outputs": []
    },
    {
      "cell_type": "code",
      "source": [
        "print(name,\"will be\",age+10,\"in ten years.\")\n"
      ],
      "metadata": {
        "colab": {
          "base_uri": "https://localhost:8080/"
        },
        "id": "7NWPXxSM7qrL",
        "outputId": "fe743eb4-7ac7-4778-a3d3-8da27e9ace10"
      },
      "execution_count": 8,
      "outputs": [
        {
          "output_type": "stream",
          "name": "stdout",
          "text": [
            "Laurie will be 63 in ten years.\n"
          ]
        }
      ]
    },
    {
      "cell_type": "code",
      "source": [
        "print(name[2])"
      ],
      "metadata": {
        "colab": {
          "base_uri": "https://localhost:8080/"
        },
        "id": "JUB9wbvN8Q_u",
        "outputId": "251b6ccc-6874-4fa5-945f-0b1d255b76bb"
      },
      "execution_count": 9,
      "outputs": [
        {
          "output_type": "stream",
          "name": "stdout",
          "text": [
            "u\n"
          ]
        }
      ]
    },
    {
      "cell_type": "code",
      "source": [
        "print(name[0])"
      ],
      "metadata": {
        "colab": {
          "base_uri": "https://localhost:8080/"
        },
        "id": "YfQlKUzF8zso",
        "outputId": "8c6d9850-65c4-405d-e510-d2fabdcb205e"
      },
      "execution_count": 10,
      "outputs": [
        {
          "output_type": "stream",
          "name": "stdout",
          "text": [
            "L\n"
          ]
        }
      ]
    },
    {
      "cell_type": "code",
      "source": [
        "name_substring = name[0:4]"
      ],
      "metadata": {
        "id": "gJ2Dvk-682bN"
      },
      "execution_count": 11,
      "outputs": []
    },
    {
      "cell_type": "code",
      "source": [
        "print(name_substring)"
      ],
      "metadata": {
        "colab": {
          "base_uri": "https://localhost:8080/"
        },
        "id": "cSnwAcOM9Msb",
        "outputId": "cbaa2592-4920-41ad-914a-9d1aaf4a4969"
      },
      "execution_count": 14,
      "outputs": [
        {
          "output_type": "stream",
          "name": "stdout",
          "text": [
            "Laur\n"
          ]
        }
      ]
    },
    {
      "cell_type": "code",
      "source": [
        "len(last_name)"
      ],
      "metadata": {
        "colab": {
          "base_uri": "https://localhost:8080/"
        },
        "id": "bAyQxi2y90HI",
        "outputId": "927bead3-085d-4b70-90fa-4f0131456120"
      },
      "execution_count": 15,
      "outputs": [
        {
          "output_type": "execute_result",
          "data": {
            "text/plain": [
              "8"
            ]
          },
          "metadata": {},
          "execution_count": 15
        }
      ]
    },
    {
      "cell_type": "code",
      "source": [
        "length_ln=len(last_name)"
      ],
      "metadata": {
        "id": "Dq6_V3BL9-YK"
      },
      "execution_count": 16,
      "outputs": []
    },
    {
      "cell_type": "code",
      "source": [
        "print (length_ln)"
      ],
      "metadata": {
        "colab": {
          "base_uri": "https://localhost:8080/"
        },
        "id": "YS2PjdiQ-Frj",
        "outputId": "cd66973e-4e0e-4777-e427-abd1b25bd368"
      },
      "execution_count": 17,
      "outputs": [
        {
          "output_type": "stream",
          "name": "stdout",
          "text": [
            "8\n"
          ]
        }
      ]
    },
    {
      "cell_type": "code",
      "source": [
        "print (length_ln/2)\n"
      ],
      "metadata": {
        "colab": {
          "base_uri": "https://localhost:8080/"
        },
        "id": "jSYVediT-KoV",
        "outputId": "da56f043-f155-43d4-daa3-393a3f211beb"
      },
      "execution_count": 18,
      "outputs": [
        {
          "output_type": "stream",
          "name": "stdout",
          "text": [
            "4.0\n"
          ]
        }
      ]
    },
    {
      "cell_type": "code",
      "source": [
        "uglycode = 1\n"
      ],
      "metadata": {
        "id": "bA_6NCoo-sRk"
      },
      "execution_count": 19,
      "outputs": []
    },
    {
      "cell_type": "code",
      "source": [
        "uGlycode = 7\n"
      ],
      "metadata": {
        "id": "ekRlz3F0-vdf"
      },
      "execution_count": 20,
      "outputs": []
    },
    {
      "cell_type": "code",
      "source": [
        "print (uglycode)"
      ],
      "metadata": {
        "colab": {
          "base_uri": "https://localhost:8080/"
        },
        "id": "3tvPQRwb-1y4",
        "outputId": "6201072b-7dab-4127-a831-a820322e9ace"
      },
      "execution_count": 21,
      "outputs": [
        {
          "output_type": "stream",
          "name": "stdout",
          "text": [
            "1\n"
          ]
        }
      ]
    },
    {
      "cell_type": "code",
      "source": [
        "name = \"Michelle\""
      ],
      "metadata": {
        "id": "bWuFbqk0_Sy6"
      },
      "execution_count": 24,
      "outputs": []
    },
    {
      "cell_type": "code",
      "source": [
        "print (name)\n"
      ],
      "metadata": {
        "colab": {
          "base_uri": "https://localhost:8080/"
        },
        "id": "PcKtP_GK_mpk",
        "outputId": "805e18d0-4cba-42b9-afd5-c1726631a1a6"
      },
      "execution_count": 25,
      "outputs": [
        {
          "output_type": "stream",
          "name": "stdout",
          "text": [
            "Michelle\n"
          ]
        }
      ]
    },
    {
      "cell_type": "code",
      "source": [
        "type(age)"
      ],
      "metadata": {
        "colab": {
          "base_uri": "https://localhost:8080/"
        },
        "id": "p6hSVKuAAL8Z",
        "outputId": "56c88b89-b9ad-4980-fdcb-ddac092f8424"
      },
      "execution_count": 32,
      "outputs": [
        {
          "output_type": "execute_result",
          "data": {
            "text/plain": [
              "int"
            ]
          },
          "metadata": {},
          "execution_count": 32
        }
      ]
    },
    {
      "cell_type": "code",
      "source": [
        "type(name)"
      ],
      "metadata": {
        "colab": {
          "base_uri": "https://localhost:8080/"
        },
        "id": "-seZE8YYAdJZ",
        "outputId": "11d23825-2093-45fe-c890-8d457bffcc9c"
      },
      "execution_count": 33,
      "outputs": [
        {
          "output_type": "execute_result",
          "data": {
            "text/plain": [
              "str"
            ]
          },
          "metadata": {},
          "execution_count": 33
        }
      ]
    },
    {
      "cell_type": "code",
      "source": [
        "new_age= \"20\""
      ],
      "metadata": {
        "id": "7cqP44HYAhTQ"
      },
      "execution_count": 37,
      "outputs": []
    },
    {
      "cell_type": "code",
      "source": [
        "print(new_age + 15)"
      ],
      "metadata": {
        "colab": {
          "base_uri": "https://localhost:8080/",
          "height": 141
        },
        "id": "nEQOzkmgA1XV",
        "outputId": "4fa55217-cef0-4321-ddc5-f87995245ee2"
      },
      "execution_count": 35,
      "outputs": [
        {
          "output_type": "error",
          "ename": "TypeError",
          "evalue": "can only concatenate str (not \"int\") to str",
          "traceback": [
            "\u001b[0;31m---------------------------------------------------------------------------\u001b[0m",
            "\u001b[0;31mTypeError\u001b[0m                                 Traceback (most recent call last)",
            "\u001b[0;32m<ipython-input-35-19da1e182381>\u001b[0m in \u001b[0;36m<cell line: 0>\u001b[0;34m()\u001b[0m\n\u001b[0;32m----> 1\u001b[0;31m \u001b[0mprint\u001b[0m\u001b[0;34m(\u001b[0m\u001b[0mnew_age\u001b[0m \u001b[0;34m+\u001b[0m \u001b[0;36m15\u001b[0m\u001b[0;34m)\u001b[0m\u001b[0;34m\u001b[0m\u001b[0;34m\u001b[0m\u001b[0m\n\u001b[0m",
            "\u001b[0;31mTypeError\u001b[0m: can only concatenate str (not \"int\") to str"
          ]
        }
      ]
    },
    {
      "cell_type": "code",
      "source": [
        "new_age= int(new_age)"
      ],
      "metadata": {
        "id": "pS6l__nOA5pr"
      },
      "execution_count": 38,
      "outputs": []
    },
    {
      "cell_type": "code",
      "source": [
        "new_age = 50"
      ],
      "metadata": {
        "id": "drT0EEgpBnfL"
      },
      "execution_count": 39,
      "outputs": []
    },
    {
      "cell_type": "code",
      "source": [
        "print (new_age)"
      ],
      "metadata": {
        "colab": {
          "base_uri": "https://localhost:8080/"
        },
        "id": "SoQnRBS2Bs4L",
        "outputId": "f39e8053-f8e4-42b9-b466-32cdea1073ce"
      },
      "execution_count": 40,
      "outputs": [
        {
          "output_type": "stream",
          "name": "stdout",
          "text": [
            "50\n"
          ]
        }
      ]
    },
    {
      "cell_type": "code",
      "source": [
        "uglycode = \"ugly\""
      ],
      "metadata": {
        "id": "rrZ4J4wlBv1h"
      },
      "execution_count": 41,
      "outputs": []
    },
    {
      "cell_type": "code",
      "source": [
        "print (uglycode + y)\n"
      ],
      "metadata": {
        "colab": {
          "base_uri": "https://localhost:8080/",
          "height": 141
        },
        "id": "05p_cnMvB-6o",
        "outputId": "33781700-5d98-4e08-8105-73fcc68c588f"
      },
      "execution_count": 42,
      "outputs": [
        {
          "output_type": "error",
          "ename": "NameError",
          "evalue": "name 'y' is not defined",
          "traceback": [
            "\u001b[0;31m---------------------------------------------------------------------------\u001b[0m",
            "\u001b[0;31mNameError\u001b[0m                                 Traceback (most recent call last)",
            "\u001b[0;32m<ipython-input-42-087f3a44b656>\u001b[0m in \u001b[0;36m<cell line: 0>\u001b[0;34m()\u001b[0m\n\u001b[0;32m----> 1\u001b[0;31m \u001b[0mprint\u001b[0m \u001b[0;34m(\u001b[0m\u001b[0muglycode\u001b[0m \u001b[0;34m+\u001b[0m \u001b[0my\u001b[0m\u001b[0;34m)\u001b[0m\u001b[0;34m\u001b[0m\u001b[0;34m\u001b[0m\u001b[0m\n\u001b[0m",
            "\u001b[0;31mNameError\u001b[0m: name 'y' is not defined"
          ]
        }
      ]
    },
    {
      "cell_type": "code",
      "source": [
        "num = 5.093"
      ],
      "metadata": {
        "id": "AQhTR6LkCEND"
      },
      "execution_count": 43,
      "outputs": []
    },
    {
      "cell_type": "code",
      "source": [
        "type (num)"
      ],
      "metadata": {
        "colab": {
          "base_uri": "https://localhost:8080/"
        },
        "id": "eu8R4mC1Cino",
        "outputId": "19b72e1a-5336-4308-d386-9ba102a6c54e"
      },
      "execution_count": 44,
      "outputs": [
        {
          "output_type": "execute_result",
          "data": {
            "text/plain": [
              "float"
            ]
          },
          "metadata": {},
          "execution_count": 44
        }
      ]
    },
    {
      "cell_type": "code",
      "source": [
        "num - 3.9"
      ],
      "metadata": {
        "colab": {
          "base_uri": "https://localhost:8080/"
        },
        "id": "Bit0-tw6Cj2Y",
        "outputId": "c469d56e-cb50-4025-9005-642a37fc692c"
      },
      "execution_count": 45,
      "outputs": [
        {
          "output_type": "execute_result",
          "data": {
            "text/plain": [
              "1.193"
            ]
          },
          "metadata": {},
          "execution_count": 45
        }
      ]
    },
    {
      "cell_type": "code",
      "source": [
        "num * 3"
      ],
      "metadata": {
        "colab": {
          "base_uri": "https://localhost:8080/"
        },
        "id": "zwDu3r7LCnsf",
        "outputId": "7fa2dca0-55c7-4649-9891-4a6773490358"
      },
      "execution_count": 46,
      "outputs": [
        {
          "output_type": "execute_result",
          "data": {
            "text/plain": [
              "15.279"
            ]
          },
          "metadata": {},
          "execution_count": 46
        }
      ]
    },
    {
      "cell_type": "code",
      "source": [
        "num / 2"
      ],
      "metadata": {
        "colab": {
          "base_uri": "https://localhost:8080/"
        },
        "id": "mLiwz5XxCpnk",
        "outputId": "978f5259-8533-4692-90b5-c02a54666908"
      },
      "execution_count": 47,
      "outputs": [
        {
          "output_type": "execute_result",
          "data": {
            "text/plain": [
              "2.5465"
            ]
          },
          "metadata": {},
          "execution_count": 47
        }
      ]
    },
    {
      "cell_type": "code",
      "source": [
        "num ^ 10"
      ],
      "metadata": {
        "colab": {
          "base_uri": "https://localhost:8080/",
          "height": 141
        },
        "id": "CHm0LaYVCrFH",
        "outputId": "4555e98e-b7d7-485b-92bd-edf835aa993b"
      },
      "execution_count": 48,
      "outputs": [
        {
          "output_type": "error",
          "ename": "TypeError",
          "evalue": "unsupported operand type(s) for ^: 'float' and 'int'",
          "traceback": [
            "\u001b[0;31m---------------------------------------------------------------------------\u001b[0m",
            "\u001b[0;31mTypeError\u001b[0m                                 Traceback (most recent call last)",
            "\u001b[0;32m<ipython-input-48-fbf5cf773596>\u001b[0m in \u001b[0;36m<cell line: 0>\u001b[0;34m()\u001b[0m\n\u001b[0;32m----> 1\u001b[0;31m \u001b[0mnum\u001b[0m \u001b[0;34m^\u001b[0m \u001b[0;36m10\u001b[0m\u001b[0;34m\u001b[0m\u001b[0;34m\u001b[0m\u001b[0m\n\u001b[0m",
            "\u001b[0;31mTypeError\u001b[0m: unsupported operand type(s) for ^: 'float' and 'int'"
          ]
        }
      ]
    },
    {
      "cell_type": "code",
      "source": [
        "name + \".\""
      ],
      "metadata": {
        "colab": {
          "base_uri": "https://localhost:8080/",
          "height": 36
        },
        "id": "sK2fcJxQCsyr",
        "outputId": "8d3c3007-df31-49aa-b2d5-197e52684bf9"
      },
      "execution_count": 49,
      "outputs": [
        {
          "output_type": "execute_result",
          "data": {
            "text/plain": [
              "'Michelle.'"
            ],
            "application/vnd.google.colaboratory.intrinsic+json": {
              "type": "string"
            }
          },
          "metadata": {},
          "execution_count": 49
        }
      ]
    },
    {
      "cell_type": "code",
      "source": [
        "print(name)+\".\""
      ],
      "metadata": {
        "colab": {
          "base_uri": "https://localhost:8080/",
          "height": 158
        },
        "id": "0FCzwHk7EIFe",
        "outputId": "9d0526f3-6aea-4900-a3be-b91c13f1858b"
      },
      "execution_count": 50,
      "outputs": [
        {
          "output_type": "stream",
          "name": "stdout",
          "text": [
            "Michelle\n"
          ]
        },
        {
          "output_type": "error",
          "ename": "TypeError",
          "evalue": "unsupported operand type(s) for +: 'NoneType' and 'str'",
          "traceback": [
            "\u001b[0;31m---------------------------------------------------------------------------\u001b[0m",
            "\u001b[0;31mTypeError\u001b[0m                                 Traceback (most recent call last)",
            "\u001b[0;32m<ipython-input-50-e1eb116111f5>\u001b[0m in \u001b[0;36m<cell line: 0>\u001b[0;34m()\u001b[0m\n\u001b[0;32m----> 1\u001b[0;31m \u001b[0mprint\u001b[0m\u001b[0;34m(\u001b[0m\u001b[0mname\u001b[0m\u001b[0;34m)\u001b[0m\u001b[0;34m+\u001b[0m\u001b[0;34m\".\"\u001b[0m\u001b[0;34m\u001b[0m\u001b[0;34m\u001b[0m\u001b[0m\n\u001b[0m",
            "\u001b[0;31mTypeError\u001b[0m: unsupported operand type(s) for +: 'NoneType' and 'str'"
          ]
        }
      ]
    },
    {
      "cell_type": "code",
      "source": [
        "##This is ignored by Python\n",
        "print (length_ln) #this is ignored also"
      ],
      "metadata": {
        "colab": {
          "base_uri": "https://localhost:8080/"
        },
        "id": "7SfZWN1IEWT0",
        "outputId": "782d89f6-a7eb-43d1-a2f5-55a53a1e5e5f"
      },
      "execution_count": 51,
      "outputs": [
        {
          "output_type": "stream",
          "name": "stdout",
          "text": [
            "8\n"
          ]
        }
      ]
    },
    {
      "cell_type": "code",
      "source": [
        "print(\"hello world\")\n",
        "print()\n",
        "print(\"hello again\")"
      ],
      "metadata": {
        "colab": {
          "base_uri": "https://localhost:8080/"
        },
        "id": "Q3qAQeVUIY-J",
        "outputId": "05748683-51d4-4c38-f777-ae3fabec7a09"
      },
      "execution_count": 53,
      "outputs": [
        {
          "output_type": "stream",
          "name": "stdout",
          "text": [
            "hello world\n",
            "\n",
            "hello again\n"
          ]
        }
      ]
    },
    {
      "cell_type": "code",
      "source": [
        "result = print(\"example\")\n",
        "print(\"result of print is:\", result)"
      ],
      "metadata": {
        "colab": {
          "base_uri": "https://localhost:8080/"
        },
        "id": "mTRrXhFCJRab",
        "outputId": "6bfdc2b3-628a-42e2-9a6d-db85f56a1feb"
      },
      "execution_count": 54,
      "outputs": [
        {
          "output_type": "stream",
          "name": "stdout",
          "text": [
            "example\n",
            "result of print is: None\n"
          ]
        }
      ]
    },
    {
      "cell_type": "code",
      "source": [
        "print(max(0,1,2,3))\n",
        "print(min(\"a\",\"A\",\"0\"))"
      ],
      "metadata": {
        "colab": {
          "base_uri": "https://localhost:8080/"
        },
        "id": "Q95E5KrJJ2kz",
        "outputId": "a347848c-e5e1-4fce-fad8-34f9b024bf67"
      },
      "execution_count": 55,
      "outputs": [
        {
          "output_type": "stream",
          "name": "stdout",
          "text": [
            "3\n",
            "0\n"
          ]
        }
      ]
    },
    {
      "cell_type": "code",
      "source": [
        "round(3.1436, ndigits=2)"
      ],
      "metadata": {
        "colab": {
          "base_uri": "https://localhost:8080/",
          "height": 106
        },
        "id": "pgcA_-HDKW2f",
        "outputId": "ef7db20a-afee-42e0-8db0-5ff50205ae78"
      },
      "execution_count": 56,
      "outputs": [
        {
          "output_type": "error",
          "ename": "SyntaxError",
          "evalue": "invalid syntax (<ipython-input-56-475bbb80780f>, line 1)",
          "traceback": [
            "\u001b[0;36m  File \u001b[0;32m\"<ipython-input-56-475bbb80780f>\"\u001b[0;36m, line \u001b[0;32m1\u001b[0m\n\u001b[0;31m    round (3.1436, ndigits:2)\u001b[0m\n\u001b[0m                          ^\u001b[0m\n\u001b[0;31mSyntaxError\u001b[0m\u001b[0;31m:\u001b[0m invalid syntax\n"
          ]
        }
      ]
    },
    {
      "cell_type": "code",
      "source": [
        "round (3.15739, 2)"
      ],
      "metadata": {
        "colab": {
          "base_uri": "https://localhost:8080/"
        },
        "id": "yaO0GhCSLKlf",
        "outputId": "117bd038-f90e-42e9-f94a-aa84de013ff5"
      },
      "execution_count": 57,
      "outputs": [
        {
          "output_type": "execute_result",
          "data": {
            "text/plain": [
              "3.16"
            ]
          },
          "metadata": {},
          "execution_count": 57
        }
      ]
    },
    {
      "cell_type": "code",
      "source": [
        "my_string = \"Hello World!\"\n",
        "print(len(my_string)) #print the length of my_string\n",
        "print(my_string.swapcase())"
      ],
      "metadata": {
        "colab": {
          "base_uri": "https://localhost:8080/"
        },
        "id": "t2aFjOIqLRl3",
        "outputId": "873cdd97-8387-4d01-bcde-6c7ad1528dbc"
      },
      "execution_count": 59,
      "outputs": [
        {
          "output_type": "stream",
          "name": "stdout",
          "text": [
            "12\n",
            "hELLO wORLD!\n"
          ]
        }
      ]
    },
    {
      "cell_type": "code",
      "source": [
        "print(my_string.upper())"
      ],
      "metadata": {
        "colab": {
          "base_uri": "https://localhost:8080/"
        },
        "id": "62dkC9T2LzmA",
        "outputId": "d6c81f1b-01e2-4bed-e243-78c889fbb099"
      },
      "execution_count": 60,
      "outputs": [
        {
          "output_type": "stream",
          "name": "stdout",
          "text": [
            "HELLO WORLD!\n"
          ]
        }
      ]
    },
    {
      "cell_type": "code",
      "source": [
        "print(my_string.isupper())"
      ],
      "metadata": {
        "colab": {
          "base_uri": "https://localhost:8080/"
        },
        "id": "X4Gm6z8LMxGc",
        "outputId": "fa6421a5-42b7-4995-f4bf-c56f96546800"
      },
      "execution_count": 61,
      "outputs": [
        {
          "output_type": "stream",
          "name": "stdout",
          "text": [
            "False\n"
          ]
        }
      ]
    },
    {
      "cell_type": "code",
      "source": [
        "print(my_string.upper().isupper())"
      ],
      "metadata": {
        "colab": {
          "base_uri": "https://localhost:8080/"
        },
        "id": "V6tLyp6JM1PQ",
        "outputId": "8e758c37-90a4-4729-880b-3d0d1999585b"
      },
      "execution_count": 63,
      "outputs": [
        {
          "output_type": "stream",
          "name": "stdout",
          "text": [
            "True\n"
          ]
        }
      ]
    },
    {
      "cell_type": "code",
      "source": [
        "help(round)"
      ],
      "metadata": {
        "colab": {
          "base_uri": "https://localhost:8080/"
        },
        "id": "fHO87hxnJNRW",
        "outputId": "dfc33e93-98fb-487b-cab9-bb8079775044"
      },
      "execution_count": 64,
      "outputs": [
        {
          "output_type": "stream",
          "name": "stdout",
          "text": [
            "Help on built-in function round in module builtins:\n",
            "\n",
            "round(number, ndigits=None)\n",
            "    Round a number to a given precision in decimal digits.\n",
            "    \n",
            "    The return value is an integer if ndigits is omitted or None.  Otherwise\n",
            "    the return value has the same type as the number.  ndigits may be negative.\n",
            "\n"
          ]
        }
      ]
    },
    {
      "cell_type": "code",
      "source": [
        "radiance = 1.0\n",
        "radiance = max(2.1, 2.0 + min(radiance, 1.1 * radiance - 0.5))"
      ],
      "metadata": {
        "id": "hJmgYjjuOhqY"
      },
      "execution_count": 65,
      "outputs": []
    },
    {
      "cell_type": "code",
      "source": [
        "print(radiance)"
      ],
      "metadata": {
        "colab": {
          "base_uri": "https://localhost:8080/"
        },
        "id": "hASNH9rQOx-G",
        "outputId": "15d03300-abe1-45f1-a087-7ac62bda75d7"
      },
      "execution_count": 66,
      "outputs": [
        {
          "output_type": "stream",
          "name": "stdout",
          "text": [
            "2.6\n"
          ]
        }
      ]
    },
    {
      "cell_type": "code",
      "source": [
        "radiance = max(2.1, 2.0 + min(radiance, 1.1 * radiance - 0.5))"
      ],
      "metadata": {
        "id": "gRWz2V8fPA_d"
      },
      "execution_count": 67,
      "outputs": []
    },
    {
      "cell_type": "code",
      "source": [
        "print(radiance)"
      ],
      "metadata": {
        "colab": {
          "base_uri": "https://localhost:8080/"
        },
        "id": "v7kYVh_LPu2L",
        "outputId": "679bc192-c743-42ae-ede2-6cc8d38153e8"
      },
      "execution_count": 68,
      "outputs": [
        {
          "output_type": "stream",
          "name": "stdout",
          "text": [
            "4.36\n"
          ]
        }
      ]
    },
    {
      "cell_type": "code",
      "source": [
        "import math\n",
        "\n",
        "print('pi is', math.pi)\n",
        "print('cos(pi) is', math.cos(math.pi))"
      ],
      "metadata": {
        "colab": {
          "base_uri": "https://localhost:8080/"
        },
        "id": "jA1l5U9qPwNN",
        "outputId": "9513fe18-2a59-431a-9279-9a927553b7ee"
      },
      "execution_count": 69,
      "outputs": [
        {
          "output_type": "stream",
          "name": "stdout",
          "text": [
            "pi is 3.141592653589793\n",
            "cos(pi) is -1.0\n"
          ]
        }
      ]
    },
    {
      "cell_type": "code",
      "source": [],
      "metadata": {
        "id": "rYLxJ5TCRbXk"
      },
      "execution_count": null,
      "outputs": []
    },
    {
      "cell_type": "code",
      "source": [
        "import sklearn"
      ],
      "metadata": {
        "id": "oKk8xJ8iUToS"
      },
      "execution_count": 70,
      "outputs": []
    },
    {
      "cell_type": "code",
      "source": [
        "import pandas as pd"
      ],
      "metadata": {
        "id": "RJBNCw_RV2GB"
      },
      "execution_count": 71,
      "outputs": []
    },
    {
      "cell_type": "code",
      "source": [
        "data_oceania = pd.read_csv('/gapminder_gdp_oceania.csv', index_col='country')\n",
        "print(data_oceania)"
      ],
      "metadata": {
        "colab": {
          "base_uri": "https://localhost:8080/"
        },
        "id": "0ENowKCfWYLC",
        "outputId": "1c380193-4cbb-4140-bc2d-565ba9b03980"
      },
      "execution_count": 80,
      "outputs": [
        {
          "output_type": "stream",
          "name": "stdout",
          "text": [
            "             gdpPercap_1952  gdpPercap_1957  gdpPercap_1962  gdpPercap_1967  \\\n",
            "country                                                                       \n",
            "Australia       10039.59564     10949.64959     12217.22686     14526.12465   \n",
            "New Zealand     10556.57566     12247.39532     13175.67800     14463.91893   \n",
            "\n",
            "             gdpPercap_1972  gdpPercap_1977  gdpPercap_1982  gdpPercap_1987  \\\n",
            "country                                                                       \n",
            "Australia       16788.62948     18334.19751     19477.00928     21888.88903   \n",
            "New Zealand     16046.03728     16233.71770     17632.41040     19007.19129   \n",
            "\n",
            "             gdpPercap_1992  gdpPercap_1997  gdpPercap_2002  gdpPercap_2007  \n",
            "country                                                                      \n",
            "Australia       23424.76683     26997.93657     30687.75473     34435.36744  \n",
            "New Zealand     18363.32494     21050.41377     23189.80135     25185.00911  \n"
          ]
        }
      ]
    },
    {
      "cell_type": "code",
      "source": [
        "data_oceania.info()"
      ],
      "metadata": {
        "colab": {
          "base_uri": "https://localhost:8080/"
        },
        "id": "N-D993leWtDO",
        "outputId": "4a1bcdce-e047-421a-fa6b-8e438f426aac"
      },
      "execution_count": 81,
      "outputs": [
        {
          "output_type": "stream",
          "name": "stdout",
          "text": [
            "<class 'pandas.core.frame.DataFrame'>\n",
            "Index: 2 entries, Australia to New Zealand\n",
            "Data columns (total 12 columns):\n",
            " #   Column          Non-Null Count  Dtype  \n",
            "---  ------          --------------  -----  \n",
            " 0   gdpPercap_1952  2 non-null      float64\n",
            " 1   gdpPercap_1957  2 non-null      float64\n",
            " 2   gdpPercap_1962  2 non-null      float64\n",
            " 3   gdpPercap_1967  2 non-null      float64\n",
            " 4   gdpPercap_1972  2 non-null      float64\n",
            " 5   gdpPercap_1977  2 non-null      float64\n",
            " 6   gdpPercap_1982  2 non-null      float64\n",
            " 7   gdpPercap_1987  2 non-null      float64\n",
            " 8   gdpPercap_1992  2 non-null      float64\n",
            " 9   gdpPercap_1997  2 non-null      float64\n",
            " 10  gdpPercap_2002  2 non-null      float64\n",
            " 11  gdpPercap_2007  2 non-null      float64\n",
            "dtypes: float64(12)\n",
            "memory usage: 208.0+ bytes\n"
          ]
        }
      ]
    },
    {
      "cell_type": "code",
      "source": [
        "print(data_oceania.columns)"
      ],
      "metadata": {
        "colab": {
          "base_uri": "https://localhost:8080/"
        },
        "id": "ut1J4QzqXx_g",
        "outputId": "b6e4899f-2e22-4575-969c-4d04ee0c97e1"
      },
      "execution_count": 82,
      "outputs": [
        {
          "output_type": "stream",
          "name": "stdout",
          "text": [
            "Index(['gdpPercap_1952', 'gdpPercap_1957', 'gdpPercap_1962', 'gdpPercap_1967',\n",
            "       'gdpPercap_1972', 'gdpPercap_1977', 'gdpPercap_1982', 'gdpPercap_1987',\n",
            "       'gdpPercap_1992', 'gdpPercap_1997', 'gdpPercap_2002', 'gdpPercap_2007'],\n",
            "      dtype='object')\n"
          ]
        }
      ]
    },
    {
      "cell_type": "code",
      "source": [
        "print(data_oceania.T)"
      ],
      "metadata": {
        "colab": {
          "base_uri": "https://localhost:8080/"
        },
        "id": "Lfj3jDMNYDcn",
        "outputId": "08be1c38-ffb5-4fcd-d20b-a1d24785d600"
      },
      "execution_count": 83,
      "outputs": [
        {
          "output_type": "stream",
          "name": "stdout",
          "text": [
            "country           Australia  New Zealand\n",
            "gdpPercap_1952  10039.59564  10556.57566\n",
            "gdpPercap_1957  10949.64959  12247.39532\n",
            "gdpPercap_1962  12217.22686  13175.67800\n",
            "gdpPercap_1967  14526.12465  14463.91893\n",
            "gdpPercap_1972  16788.62948  16046.03728\n",
            "gdpPercap_1977  18334.19751  16233.71770\n",
            "gdpPercap_1982  19477.00928  17632.41040\n",
            "gdpPercap_1987  21888.88903  19007.19129\n",
            "gdpPercap_1992  23424.76683  18363.32494\n",
            "gdpPercap_1997  26997.93657  21050.41377\n",
            "gdpPercap_2002  30687.75473  23189.80135\n",
            "gdpPercap_2007  34435.36744  25185.00911\n"
          ]
        }
      ]
    },
    {
      "cell_type": "code",
      "source": [
        "!mv *.csv data"
      ],
      "metadata": {
        "id": "zL8VX5adYUU4"
      },
      "execution_count": 84,
      "outputs": []
    },
    {
      "cell_type": "code",
      "source": [
        "ls"
      ],
      "metadata": {
        "colab": {
          "base_uri": "https://localhost:8080/"
        },
        "id": "LNIoUC1Hm-iY",
        "outputId": "4b82d512-9540-4cd1-d634-f42f6a980aa0"
      },
      "execution_count": 85,
      "outputs": [
        {
          "output_type": "stream",
          "name": "stdout",
          "text": [
            "\u001b[0m\u001b[01;34mdata\u001b[0m/  \u001b[01;34msample_data\u001b[0m/\n"
          ]
        }
      ]
    },
    {
      "cell_type": "code",
      "source": [
        "data_americas = pd.read_csv('/gapminder_gdp_americas.csv', index_col='country')\n",
        "print(data_americas)"
      ],
      "metadata": {
        "colab": {
          "base_uri": "https://localhost:8080/"
        },
        "id": "nqcKCrhmnBZ0",
        "outputId": "d5f8cf0b-7955-42e7-85e8-fe824c372f8c"
      },
      "execution_count": 86,
      "outputs": [
        {
          "output_type": "stream",
          "name": "stdout",
          "text": [
            "                    continent  gdpPercap_1952  gdpPercap_1957  gdpPercap_1962  \\\n",
            "country                                                                         \n",
            "Argentina            Americas     5911.315053     6856.856212     7133.166023   \n",
            "Bolivia              Americas     2677.326347     2127.686326     2180.972546   \n",
            "Brazil               Americas     2108.944355     2487.365989     3336.585802   \n",
            "Canada               Americas    11367.161120    12489.950060    13462.485550   \n",
            "Chile                Americas     3939.978789     4315.622723     4519.094331   \n",
            "Colombia             Americas     2144.115096     2323.805581     2492.351109   \n",
            "Costa Rica           Americas     2627.009471     2990.010802     3460.937025   \n",
            "Cuba                 Americas     5586.538780     6092.174359     5180.755910   \n",
            "Dominican Republic   Americas     1397.717137     1544.402995     1662.137359   \n",
            "Ecuador              Americas     3522.110717     3780.546651     4086.114078   \n",
            "El Salvador          Americas     3048.302900     3421.523218     3776.803627   \n",
            "Guatemala            Americas     2428.237769     2617.155967     2750.364446   \n",
            "Haiti                Americas     1840.366939     1726.887882     1796.589032   \n",
            "Honduras             Americas     2194.926204     2220.487682     2291.156835   \n",
            "Jamaica              Americas     2898.530881     4756.525781     5246.107524   \n",
            "Mexico               Americas     3478.125529     4131.546641     4581.609385   \n",
            "Nicaragua            Americas     3112.363948     3457.415947     3634.364406   \n",
            "Panama               Americas     2480.380334     2961.800905     3536.540301   \n",
            "Paraguay             Americas     1952.308701     2046.154706     2148.027146   \n",
            "Peru                 Americas     3758.523437     4245.256698     4957.037982   \n",
            "Puerto Rico          Americas     3081.959785     3907.156189     5108.344630   \n",
            "Trinidad and Tobago  Americas     3023.271928     4100.393400     4997.523971   \n",
            "United States        Americas    13990.482080    14847.127120    16173.145860   \n",
            "Uruguay              Americas     5716.766744     6150.772969     5603.357717   \n",
            "Venezuela            Americas     7689.799761     9802.466526     8422.974165   \n",
            "\n",
            "                     gdpPercap_1967  gdpPercap_1972  gdpPercap_1977  \\\n",
            "country                                                               \n",
            "Argentina               8052.953021     9443.038526    10079.026740   \n",
            "Bolivia                 2586.886053     2980.331339     3548.097832   \n",
            "Brazil                  3429.864357     4985.711467     6660.118654   \n",
            "Canada                 16076.588030    18970.570860    22090.883060   \n",
            "Chile                   5106.654313     5494.024437     4756.763836   \n",
            "Colombia                2678.729839     3264.660041     3815.807870   \n",
            "Costa Rica              4161.727834     5118.146939     5926.876967   \n",
            "Cuba                    5690.268015     5305.445256     6380.494966   \n",
            "Dominican Republic      1653.723003     2189.874499     2681.988900   \n",
            "Ecuador                 4579.074215     5280.994710     6679.623260   \n",
            "El Salvador             4358.595393     4520.246008     5138.922374   \n",
            "Guatemala               3242.531147     4031.408271     4879.992748   \n",
            "Haiti                   1452.057666     1654.456946     1874.298931   \n",
            "Honduras                2538.269358     2529.842345     3203.208066   \n",
            "Jamaica                 6124.703451     7433.889293     6650.195573   \n",
            "Mexico                  5754.733883     6809.406690     7674.929108   \n",
            "Nicaragua               4643.393534     4688.593267     5486.371089   \n",
            "Panama                  4421.009084     5364.249663     5351.912144   \n",
            "Paraguay                2299.376311     2523.337977     3248.373311   \n",
            "Peru                    5788.093330     5937.827283     6281.290855   \n",
            "Puerto Rico             6929.277714     9123.041742     9770.524921   \n",
            "Trinidad and Tobago     5621.368472     6619.551419     7899.554209   \n",
            "United States          19530.365570    21806.035940    24072.632130   \n",
            "Uruguay                 5444.619620     5703.408898     6504.339663   \n",
            "Venezuela               9541.474188    10505.259660    13143.950950   \n",
            "\n",
            "                     gdpPercap_1982  gdpPercap_1987  gdpPercap_1992  \\\n",
            "country                                                               \n",
            "Argentina               8997.897412     9139.671389     9308.418710   \n",
            "Bolivia                 3156.510452     2753.691490     2961.699694   \n",
            "Brazil                  7030.835878     7807.095818     6950.283021   \n",
            "Canada                 22898.792140    26626.515030    26342.884260   \n",
            "Chile                   5095.665738     5547.063754     7596.125964   \n",
            "Colombia                4397.575659     4903.219100     5444.648617   \n",
            "Costa Rica              5262.734751     5629.915318     6160.416317   \n",
            "Cuba                    7316.918107     7532.924763     5592.843963   \n",
            "Dominican Republic      2861.092386     2899.842175     3044.214214   \n",
            "Ecuador                 7213.791267     6481.776993     7103.702595   \n",
            "El Salvador             4098.344175     4140.442097     4444.231700   \n",
            "Guatemala               4820.494790     4246.485974     4439.450840   \n",
            "Haiti                   2011.159549     1823.015995     1456.309517   \n",
            "Honduras                3121.760794     3023.096699     3081.694603   \n",
            "Jamaica                 6068.051350     6351.237495     7404.923685   \n",
            "Mexico                  9611.147541     8688.156003     9472.384295   \n",
            "Nicaragua               3470.338156     2955.984375     2170.151724   \n",
            "Panama                  7009.601598     7034.779161     6618.743050   \n",
            "Paraguay                4258.503604     3998.875695     4196.411078   \n",
            "Peru                    6434.501797     6360.943444     4446.380924   \n",
            "Puerto Rico            10330.989150    12281.341910    14641.587110   \n",
            "Trinidad and Tobago     9119.528607     7388.597823     7370.990932   \n",
            "United States          25009.559140    29884.350410    32003.932240   \n",
            "Uruguay                 6920.223051     7452.398969     8137.004775   \n",
            "Venezuela              11152.410110     9883.584648    10733.926310   \n",
            "\n",
            "                     gdpPercap_1997  gdpPercap_2002  gdpPercap_2007  \n",
            "country                                                              \n",
            "Argentina              10967.281950     8797.640716    12779.379640  \n",
            "Bolivia                 3326.143191     3413.262690     3822.137084  \n",
            "Brazil                  7957.980824     8131.212843     9065.800825  \n",
            "Canada                 28954.925890    33328.965070    36319.235010  \n",
            "Chile                  10118.053180    10778.783850    13171.638850  \n",
            "Colombia                6117.361746     5755.259962     7006.580419  \n",
            "Costa Rica              6677.045314     7723.447195     9645.061420  \n",
            "Cuba                    5431.990415     6340.646683     8948.102923  \n",
            "Dominican Republic      3614.101285     4563.808154     6025.374752  \n",
            "Ecuador                 7429.455877     5773.044512     6873.262326  \n",
            "El Salvador             5154.825496     5351.568666     5728.353514  \n",
            "Guatemala               4684.313807     4858.347495     5186.050003  \n",
            "Haiti                   1341.726931     1270.364932     1201.637154  \n",
            "Honduras                3160.454906     3099.728660     3548.330846  \n",
            "Jamaica                 7121.924704     6994.774861     7320.880262  \n",
            "Mexico                  9767.297530    10742.440530    11977.574960  \n",
            "Nicaragua               2253.023004     2474.548819     2749.320965  \n",
            "Panama                  7113.692252     7356.031934     9809.185636  \n",
            "Paraguay                4247.400261     3783.674243     4172.838464  \n",
            "Peru                    5838.347657     5909.020073     7408.905561  \n",
            "Puerto Rico            16999.433300    18855.606180    19328.709010  \n",
            "Trinidad and Tobago     8792.573126    11460.600230    18008.509240  \n",
            "United States          35767.433030    39097.099550    42951.653090  \n",
            "Uruguay                 9230.240708     7727.002004    10611.462990  \n",
            "Venezuela              10165.495180     8605.047831    11415.805690  \n"
          ]
        }
      ]
    },
    {
      "cell_type": "code",
      "source": [
        "data_americas.info"
      ],
      "metadata": {
        "colab": {
          "base_uri": "https://localhost:8080/",
          "height": 203
        },
        "id": "2cMDxFbenbt0",
        "outputId": "b3885f91-b5ed-419a-b129-841236a540f0"
      },
      "execution_count": 87,
      "outputs": [
        {
          "output_type": "execute_result",
          "data": {
            "text/plain": [
              "<bound method DataFrame.info of                     continent  gdpPercap_1952  gdpPercap_1957  gdpPercap_1962  \\\n",
              "country                                                                         \n",
              "Argentina            Americas     5911.315053     6856.856212     7133.166023   \n",
              "Bolivia              Americas     2677.326347     2127.686326     2180.972546   \n",
              "Brazil               Americas     2108.944355     2487.365989     3336.585802   \n",
              "Canada               Americas    11367.161120    12489.950060    13462.485550   \n",
              "Chile                Americas     3939.978789     4315.622723     4519.094331   \n",
              "Colombia             Americas     2144.115096     2323.805581     2492.351109   \n",
              "Costa Rica           Americas     2627.009471     2990.010802     3460.937025   \n",
              "Cuba                 Americas     5586.538780     6092.174359     5180.755910   \n",
              "Dominican Republic   Americas     1397.717137     1544.402995     1662.137359   \n",
              "Ecuador              Americas     3522.110717     3780.546651     4086.114078   \n",
              "El Salvador          Americas     3048.302900     3421.523218     3776.803627   \n",
              "Guatemala            Americas     2428.237769     2617.155967     2750.364446   \n",
              "Haiti                Americas     1840.366939     1726.887882     1796.589032   \n",
              "Honduras             Americas     2194.926204     2220.487682     2291.156835   \n",
              "Jamaica              Americas     2898.530881     4756.525781     5246.107524   \n",
              "Mexico               Americas     3478.125529     4131.546641     4581.609385   \n",
              "Nicaragua            Americas     3112.363948     3457.415947     3634.364406   \n",
              "Panama               Americas     2480.380334     2961.800905     3536.540301   \n",
              "Paraguay             Americas     1952.308701     2046.154706     2148.027146   \n",
              "Peru                 Americas     3758.523437     4245.256698     4957.037982   \n",
              "Puerto Rico          Americas     3081.959785     3907.156189     5108.344630   \n",
              "Trinidad and Tobago  Americas     3023.271928     4100.393400     4997.523971   \n",
              "United States        Americas    13990.482080    14847.127120    16173.145860   \n",
              "Uruguay              Americas     5716.766744     6150.772969     5603.357717   \n",
              "Venezuela            Americas     7689.799761     9802.466526     8422.974165   \n",
              "\n",
              "                     gdpPercap_1967  gdpPercap_1972  gdpPercap_1977  \\\n",
              "country                                                               \n",
              "Argentina               8052.953021     9443.038526    10079.026740   \n",
              "Bolivia                 2586.886053     2980.331339     3548.097832   \n",
              "Brazil                  3429.864357     4985.711467     6660.118654   \n",
              "Canada                 16076.588030    18970.570860    22090.883060   \n",
              "Chile                   5106.654313     5494.024437     4756.763836   \n",
              "Colombia                2678.729839     3264.660041     3815.807870   \n",
              "Costa Rica              4161.727834     5118.146939     5926.876967   \n",
              "Cuba                    5690.268015     5305.445256     6380.494966   \n",
              "Dominican Republic      1653.723003     2189.874499     2681.988900   \n",
              "Ecuador                 4579.074215     5280.994710     6679.623260   \n",
              "El Salvador             4358.595393     4520.246008     5138.922374   \n",
              "Guatemala               3242.531147     4031.408271     4879.992748   \n",
              "Haiti                   1452.057666     1654.456946     1874.298931   \n",
              "Honduras                2538.269358     2529.842345     3203.208066   \n",
              "Jamaica                 6124.703451     7433.889293     6650.195573   \n",
              "Mexico                  5754.733883     6809.406690     7674.929108   \n",
              "Nicaragua               4643.393534     4688.593267     5486.371089   \n",
              "Panama                  4421.009084     5364.249663     5351.912144   \n",
              "Paraguay                2299.376311     2523.337977     3248.373311   \n",
              "Peru                    5788.093330     5937.827283     6281.290855   \n",
              "Puerto Rico             6929.277714     9123.041742     9770.524921   \n",
              "Trinidad and Tobago     5621.368472     6619.551419     7899.554209   \n",
              "United States          19530.365570    21806.035940    24072.632130   \n",
              "Uruguay                 5444.619620     5703.408898     6504.339663   \n",
              "Venezuela               9541.474188    10505.259660    13143.950950   \n",
              "\n",
              "                     gdpPercap_1982  gdpPercap_1987  gdpPercap_1992  \\\n",
              "country                                                               \n",
              "Argentina               8997.897412     9139.671389     9308.418710   \n",
              "Bolivia                 3156.510452     2753.691490     2961.699694   \n",
              "Brazil                  7030.835878     7807.095818     6950.283021   \n",
              "Canada                 22898.792140    26626.515030    26342.884260   \n",
              "Chile                   5095.665738     5547.063754     7596.125964   \n",
              "Colombia                4397.575659     4903.219100     5444.648617   \n",
              "Costa Rica              5262.734751     5629.915318     6160.416317   \n",
              "Cuba                    7316.918107     7532.924763     5592.843963   \n",
              "Dominican Republic      2861.092386     2899.842175     3044.214214   \n",
              "Ecuador                 7213.791267     6481.776993     7103.702595   \n",
              "El Salvador             4098.344175     4140.442097     4444.231700   \n",
              "Guatemala               4820.494790     4246.485974     4439.450840   \n",
              "Haiti                   2011.159549     1823.015995     1456.309517   \n",
              "Honduras                3121.760794     3023.096699     3081.694603   \n",
              "Jamaica                 6068.051350     6351.237495     7404.923685   \n",
              "Mexico                  9611.147541     8688.156003     9472.384295   \n",
              "Nicaragua               3470.338156     2955.984375     2170.151724   \n",
              "Panama                  7009.601598     7034.779161     6618.743050   \n",
              "Paraguay                4258.503604     3998.875695     4196.411078   \n",
              "Peru                    6434.501797     6360.943444     4446.380924   \n",
              "Puerto Rico            10330.989150    12281.341910    14641.587110   \n",
              "Trinidad and Tobago     9119.528607     7388.597823     7370.990932   \n",
              "United States          25009.559140    29884.350410    32003.932240   \n",
              "Uruguay                 6920.223051     7452.398969     8137.004775   \n",
              "Venezuela              11152.410110     9883.584648    10733.926310   \n",
              "\n",
              "                     gdpPercap_1997  gdpPercap_2002  gdpPercap_2007  \n",
              "country                                                              \n",
              "Argentina              10967.281950     8797.640716    12779.379640  \n",
              "Bolivia                 3326.143191     3413.262690     3822.137084  \n",
              "Brazil                  7957.980824     8131.212843     9065.800825  \n",
              "Canada                 28954.925890    33328.965070    36319.235010  \n",
              "Chile                  10118.053180    10778.783850    13171.638850  \n",
              "Colombia                6117.361746     5755.259962     7006.580419  \n",
              "Costa Rica              6677.045314     7723.447195     9645.061420  \n",
              "Cuba                    5431.990415     6340.646683     8948.102923  \n",
              "Dominican Republic      3614.101285     4563.808154     6025.374752  \n",
              "Ecuador                 7429.455877     5773.044512     6873.262326  \n",
              "El Salvador             5154.825496     5351.568666     5728.353514  \n",
              "Guatemala               4684.313807     4858.347495     5186.050003  \n",
              "Haiti                   1341.726931     1270.364932     1201.637154  \n",
              "Honduras                3160.454906     3099.728660     3548.330846  \n",
              "Jamaica                 7121.924704     6994.774861     7320.880262  \n",
              "Mexico                  9767.297530    10742.440530    11977.574960  \n",
              "Nicaragua               2253.023004     2474.548819     2749.320965  \n",
              "Panama                  7113.692252     7356.031934     9809.185636  \n",
              "Paraguay                4247.400261     3783.674243     4172.838464  \n",
              "Peru                    5838.347657     5909.020073     7408.905561  \n",
              "Puerto Rico            16999.433300    18855.606180    19328.709010  \n",
              "Trinidad and Tobago     8792.573126    11460.600230    18008.509240  \n",
              "United States          35767.433030    39097.099550    42951.653090  \n",
              "Uruguay                 9230.240708     7727.002004    10611.462990  \n",
              "Venezuela              10165.495180     8605.047831    11415.805690  >"
            ],
            "text/html": [
              "<div style=\"max-width:800px; border: 1px solid var(--colab-border-color);\"><style>\n",
              "      pre.function-repr-contents {\n",
              "        overflow-x: auto;\n",
              "        padding: 8px 12px;\n",
              "        max-height: 500px;\n",
              "      }\n",
              "\n",
              "      pre.function-repr-contents.function-repr-contents-collapsed {\n",
              "        cursor: pointer;\n",
              "        max-height: 100px;\n",
              "      }\n",
              "    </style>\n",
              "    <pre style=\"white-space: initial; background:\n",
              "         var(--colab-secondary-surface-color); padding: 8px 12px;\n",
              "         border-bottom: 1px solid var(--colab-border-color);\"><b>pandas.core.frame.DataFrame.info</b><br/>def info(verbose: bool | None=None, buf: WriteBuffer[str] | None=None, max_cols: int | None=None, memory_usage: bool | str | None=None, show_counts: bool | None=None) -&gt; None</pre><pre class=\"function-repr-contents function-repr-contents-collapsed\" style=\"\"><a class=\"filepath\" style=\"display:none\" href=\"#\">/usr/local/lib/python3.11/dist-packages/pandas/core/frame.py</a>Print a concise summary of a DataFrame.\n",
              "\n",
              "This method prints information about a DataFrame including\n",
              "the index dtype and columns, non-null values and memory usage.\n",
              "\n",
              "Parameters\n",
              "----------\n",
              "verbose : bool, optional\n",
              "    Whether to print the full summary. By default, the setting in\n",
              "    ``pandas.options.display.max_info_columns`` is followed.\n",
              "buf : writable buffer, defaults to sys.stdout\n",
              "    Where to send the output. By default, the output is printed to\n",
              "    sys.stdout. Pass a writable buffer if you need to further process\n",
              "    the output.\n",
              "max_cols : int, optional\n",
              "    When to switch from the verbose to the truncated output. If the\n",
              "    DataFrame has more than `max_cols` columns, the truncated output\n",
              "    is used. By default, the setting in\n",
              "    ``pandas.options.display.max_info_columns`` is used.\n",
              "memory_usage : bool, str, optional\n",
              "    Specifies whether total memory usage of the DataFrame\n",
              "    elements (including the index) should be displayed. By default,\n",
              "    this follows the ``pandas.options.display.memory_usage`` setting.\n",
              "\n",
              "    True always show memory usage. False never shows memory usage.\n",
              "    A value of &#x27;deep&#x27; is equivalent to &quot;True with deep introspection&quot;.\n",
              "    Memory usage is shown in human-readable units (base-2\n",
              "    representation). Without deep introspection a memory estimation is\n",
              "    made based in column dtype and number of rows assuming values\n",
              "    consume the same memory amount for corresponding dtypes. With deep\n",
              "    memory introspection, a real memory usage calculation is performed\n",
              "    at the cost of computational resources. See the\n",
              "    :ref:`Frequently Asked Questions &lt;df-memory-usage&gt;` for more\n",
              "    details.\n",
              "show_counts : bool, optional\n",
              "    Whether to show the non-null counts. By default, this is shown\n",
              "    only if the DataFrame is smaller than\n",
              "    ``pandas.options.display.max_info_rows`` and\n",
              "    ``pandas.options.display.max_info_columns``. A value of True always\n",
              "    shows the counts, and False never shows the counts.\n",
              "\n",
              "Returns\n",
              "-------\n",
              "None\n",
              "    This method prints a summary of a DataFrame and returns None.\n",
              "\n",
              "See Also\n",
              "--------\n",
              "DataFrame.describe: Generate descriptive statistics of DataFrame\n",
              "    columns.\n",
              "DataFrame.memory_usage: Memory usage of DataFrame columns.\n",
              "\n",
              "Examples\n",
              "--------\n",
              "&gt;&gt;&gt; int_values = [1, 2, 3, 4, 5]\n",
              "&gt;&gt;&gt; text_values = [&#x27;alpha&#x27;, &#x27;beta&#x27;, &#x27;gamma&#x27;, &#x27;delta&#x27;, &#x27;epsilon&#x27;]\n",
              "&gt;&gt;&gt; float_values = [0.0, 0.25, 0.5, 0.75, 1.0]\n",
              "&gt;&gt;&gt; df = pd.DataFrame({&quot;int_col&quot;: int_values, &quot;text_col&quot;: text_values,\n",
              "...                   &quot;float_col&quot;: float_values})\n",
              "&gt;&gt;&gt; df\n",
              "    int_col text_col  float_col\n",
              "0        1    alpha       0.00\n",
              "1        2     beta       0.25\n",
              "2        3    gamma       0.50\n",
              "3        4    delta       0.75\n",
              "4        5  epsilon       1.00\n",
              "\n",
              "Prints information of all columns:\n",
              "\n",
              "&gt;&gt;&gt; df.info(verbose=True)\n",
              "&lt;class &#x27;pandas.core.frame.DataFrame&#x27;&gt;\n",
              "RangeIndex: 5 entries, 0 to 4\n",
              "Data columns (total 3 columns):\n",
              " #   Column     Non-Null Count  Dtype\n",
              "---  ------     --------------  -----\n",
              " 0   int_col    5 non-null      int64\n",
              " 1   text_col   5 non-null      object\n",
              " 2   float_col  5 non-null      float64\n",
              "dtypes: float64(1), int64(1), object(1)\n",
              "memory usage: 248.0+ bytes\n",
              "\n",
              "Prints a summary of columns count and its dtypes but not per column\n",
              "information:\n",
              "\n",
              "&gt;&gt;&gt; df.info(verbose=False)\n",
              "&lt;class &#x27;pandas.core.frame.DataFrame&#x27;&gt;\n",
              "RangeIndex: 5 entries, 0 to 4\n",
              "Columns: 3 entries, int_col to float_col\n",
              "dtypes: float64(1), int64(1), object(1)\n",
              "memory usage: 248.0+ bytes\n",
              "\n",
              "Pipe output of DataFrame.info to buffer instead of sys.stdout, get\n",
              "buffer content and writes to a text file:\n",
              "\n",
              "&gt;&gt;&gt; import io\n",
              "&gt;&gt;&gt; buffer = io.StringIO()\n",
              "&gt;&gt;&gt; df.info(buf=buffer)\n",
              "&gt;&gt;&gt; s = buffer.getvalue()\n",
              "&gt;&gt;&gt; with open(&quot;df_info.txt&quot;, &quot;w&quot;,\n",
              "...           encoding=&quot;utf-8&quot;) as f:  # doctest: +SKIP\n",
              "...     f.write(s)\n",
              "260\n",
              "\n",
              "The `memory_usage` parameter allows deep introspection mode, specially\n",
              "useful for big DataFrames and fine-tune memory optimization:\n",
              "\n",
              "&gt;&gt;&gt; random_strings_array = np.random.choice([&#x27;a&#x27;, &#x27;b&#x27;, &#x27;c&#x27;], 10 ** 6)\n",
              "&gt;&gt;&gt; df = pd.DataFrame({\n",
              "...     &#x27;column_1&#x27;: np.random.choice([&#x27;a&#x27;, &#x27;b&#x27;, &#x27;c&#x27;], 10 ** 6),\n",
              "...     &#x27;column_2&#x27;: np.random.choice([&#x27;a&#x27;, &#x27;b&#x27;, &#x27;c&#x27;], 10 ** 6),\n",
              "...     &#x27;column_3&#x27;: np.random.choice([&#x27;a&#x27;, &#x27;b&#x27;, &#x27;c&#x27;], 10 ** 6)\n",
              "... })\n",
              "&gt;&gt;&gt; df.info()\n",
              "&lt;class &#x27;pandas.core.frame.DataFrame&#x27;&gt;\n",
              "RangeIndex: 1000000 entries, 0 to 999999\n",
              "Data columns (total 3 columns):\n",
              " #   Column    Non-Null Count    Dtype\n",
              "---  ------    --------------    -----\n",
              " 0   column_1  1000000 non-null  object\n",
              " 1   column_2  1000000 non-null  object\n",
              " 2   column_3  1000000 non-null  object\n",
              "dtypes: object(3)\n",
              "memory usage: 22.9+ MB\n",
              "\n",
              "&gt;&gt;&gt; df.info(memory_usage=&#x27;deep&#x27;)\n",
              "&lt;class &#x27;pandas.core.frame.DataFrame&#x27;&gt;\n",
              "RangeIndex: 1000000 entries, 0 to 999999\n",
              "Data columns (total 3 columns):\n",
              " #   Column    Non-Null Count    Dtype\n",
              "---  ------    --------------    -----\n",
              " 0   column_1  1000000 non-null  object\n",
              " 1   column_2  1000000 non-null  object\n",
              " 2   column_3  1000000 non-null  object\n",
              "dtypes: object(3)\n",
              "memory usage: 165.9 MB</pre>\n",
              "      <script>\n",
              "      if (google.colab.kernel.accessAllowed && google.colab.files && google.colab.files.view) {\n",
              "        for (const element of document.querySelectorAll('.filepath')) {\n",
              "          element.style.display = 'block'\n",
              "          element.onclick = (event) => {\n",
              "            event.preventDefault();\n",
              "            event.stopPropagation();\n",
              "            google.colab.files.view(element.textContent, 3646);\n",
              "          };\n",
              "        }\n",
              "      }\n",
              "      for (const element of document.querySelectorAll('.function-repr-contents')) {\n",
              "        element.onclick = (event) => {\n",
              "          event.preventDefault();\n",
              "          event.stopPropagation();\n",
              "          element.classList.toggle('function-repr-contents-collapsed');\n",
              "        };\n",
              "      }\n",
              "      </script>\n",
              "      </div>"
            ]
          },
          "metadata": {},
          "execution_count": 87
        }
      ]
    },
    {
      "cell_type": "code",
      "source": [
        "help(data_americas.head)"
      ],
      "metadata": {
        "colab": {
          "base_uri": "https://localhost:8080/"
        },
        "id": "uBzknzIwoJtT",
        "outputId": "06dbabca-8e2f-41c7-cf6a-a5fe93c017d3"
      },
      "execution_count": 88,
      "outputs": [
        {
          "output_type": "stream",
          "name": "stdout",
          "text": [
            "Help on method head in module pandas.core.generic:\n",
            "\n",
            "head(n: 'int' = 5) -> 'Self' method of pandas.core.frame.DataFrame instance\n",
            "    Return the first `n` rows.\n",
            "    \n",
            "    This function returns the first `n` rows for the object based\n",
            "    on position. It is useful for quickly testing if your object\n",
            "    has the right type of data in it.\n",
            "    \n",
            "    For negative values of `n`, this function returns all rows except\n",
            "    the last `|n|` rows, equivalent to ``df[:n]``.\n",
            "    \n",
            "    If n is larger than the number of rows, this function returns all rows.\n",
            "    \n",
            "    Parameters\n",
            "    ----------\n",
            "    n : int, default 5\n",
            "        Number of rows to select.\n",
            "    \n",
            "    Returns\n",
            "    -------\n",
            "    same type as caller\n",
            "        The first `n` rows of the caller object.\n",
            "    \n",
            "    See Also\n",
            "    --------\n",
            "    DataFrame.tail: Returns the last `n` rows.\n",
            "    \n",
            "    Examples\n",
            "    --------\n",
            "    >>> df = pd.DataFrame({'animal': ['alligator', 'bee', 'falcon', 'lion',\n",
            "    ...                    'monkey', 'parrot', 'shark', 'whale', 'zebra']})\n",
            "    >>> df\n",
            "          animal\n",
            "    0  alligator\n",
            "    1        bee\n",
            "    2     falcon\n",
            "    3       lion\n",
            "    4     monkey\n",
            "    5     parrot\n",
            "    6      shark\n",
            "    7      whale\n",
            "    8      zebra\n",
            "    \n",
            "    Viewing the first 5 lines\n",
            "    \n",
            "    >>> df.head()\n",
            "          animal\n",
            "    0  alligator\n",
            "    1        bee\n",
            "    2     falcon\n",
            "    3       lion\n",
            "    4     monkey\n",
            "    \n",
            "    Viewing the first `n` lines (three in this case)\n",
            "    \n",
            "    >>> df.head(3)\n",
            "          animal\n",
            "    0  alligator\n",
            "    1        bee\n",
            "    2     falcon\n",
            "    \n",
            "    For negative values of `n`\n",
            "    \n",
            "    >>> df.head(-3)\n",
            "          animal\n",
            "    0  alligator\n",
            "    1        bee\n",
            "    2     falcon\n",
            "    3       lion\n",
            "    4     monkey\n",
            "    5     parrot\n",
            "\n"
          ]
        }
      ]
    },
    {
      "cell_type": "code",
      "source": [
        "data_americas.head(3)"
      ],
      "metadata": {
        "colab": {
          "base_uri": "https://localhost:8080/",
          "height": 195
        },
        "id": "y-J2xiOWoZ1m",
        "outputId": "fe91682b-a6bb-4dcf-c85e-2fcaec439c42"
      },
      "execution_count": 89,
      "outputs": [
        {
          "output_type": "execute_result",
          "data": {
            "text/plain": [
              "          continent  gdpPercap_1952  gdpPercap_1957  gdpPercap_1962  \\\n",
              "country                                                               \n",
              "Argentina  Americas     5911.315053     6856.856212     7133.166023   \n",
              "Bolivia    Americas     2677.326347     2127.686326     2180.972546   \n",
              "Brazil     Americas     2108.944355     2487.365989     3336.585802   \n",
              "\n",
              "           gdpPercap_1967  gdpPercap_1972  gdpPercap_1977  gdpPercap_1982  \\\n",
              "country                                                                     \n",
              "Argentina     8052.953021     9443.038526    10079.026740     8997.897412   \n",
              "Bolivia       2586.886053     2980.331339     3548.097832     3156.510452   \n",
              "Brazil        3429.864357     4985.711467     6660.118654     7030.835878   \n",
              "\n",
              "           gdpPercap_1987  gdpPercap_1992  gdpPercap_1997  gdpPercap_2002  \\\n",
              "country                                                                     \n",
              "Argentina     9139.671389     9308.418710    10967.281950     8797.640716   \n",
              "Bolivia       2753.691490     2961.699694     3326.143191     3413.262690   \n",
              "Brazil        7807.095818     6950.283021     7957.980824     8131.212843   \n",
              "\n",
              "           gdpPercap_2007  \n",
              "country                    \n",
              "Argentina    12779.379640  \n",
              "Bolivia       3822.137084  \n",
              "Brazil        9065.800825  "
            ],
            "text/html": [
              "\n",
              "  <div id=\"df-448b7ca7-c59c-4850-97c4-e959c91a574b\" class=\"colab-df-container\">\n",
              "    <div>\n",
              "<style scoped>\n",
              "    .dataframe tbody tr th:only-of-type {\n",
              "        vertical-align: middle;\n",
              "    }\n",
              "\n",
              "    .dataframe tbody tr th {\n",
              "        vertical-align: top;\n",
              "    }\n",
              "\n",
              "    .dataframe thead th {\n",
              "        text-align: right;\n",
              "    }\n",
              "</style>\n",
              "<table border=\"1\" class=\"dataframe\">\n",
              "  <thead>\n",
              "    <tr style=\"text-align: right;\">\n",
              "      <th></th>\n",
              "      <th>continent</th>\n",
              "      <th>gdpPercap_1952</th>\n",
              "      <th>gdpPercap_1957</th>\n",
              "      <th>gdpPercap_1962</th>\n",
              "      <th>gdpPercap_1967</th>\n",
              "      <th>gdpPercap_1972</th>\n",
              "      <th>gdpPercap_1977</th>\n",
              "      <th>gdpPercap_1982</th>\n",
              "      <th>gdpPercap_1987</th>\n",
              "      <th>gdpPercap_1992</th>\n",
              "      <th>gdpPercap_1997</th>\n",
              "      <th>gdpPercap_2002</th>\n",
              "      <th>gdpPercap_2007</th>\n",
              "    </tr>\n",
              "    <tr>\n",
              "      <th>country</th>\n",
              "      <th></th>\n",
              "      <th></th>\n",
              "      <th></th>\n",
              "      <th></th>\n",
              "      <th></th>\n",
              "      <th></th>\n",
              "      <th></th>\n",
              "      <th></th>\n",
              "      <th></th>\n",
              "      <th></th>\n",
              "      <th></th>\n",
              "      <th></th>\n",
              "      <th></th>\n",
              "    </tr>\n",
              "  </thead>\n",
              "  <tbody>\n",
              "    <tr>\n",
              "      <th>Argentina</th>\n",
              "      <td>Americas</td>\n",
              "      <td>5911.315053</td>\n",
              "      <td>6856.856212</td>\n",
              "      <td>7133.166023</td>\n",
              "      <td>8052.953021</td>\n",
              "      <td>9443.038526</td>\n",
              "      <td>10079.026740</td>\n",
              "      <td>8997.897412</td>\n",
              "      <td>9139.671389</td>\n",
              "      <td>9308.418710</td>\n",
              "      <td>10967.281950</td>\n",
              "      <td>8797.640716</td>\n",
              "      <td>12779.379640</td>\n",
              "    </tr>\n",
              "    <tr>\n",
              "      <th>Bolivia</th>\n",
              "      <td>Americas</td>\n",
              "      <td>2677.326347</td>\n",
              "      <td>2127.686326</td>\n",
              "      <td>2180.972546</td>\n",
              "      <td>2586.886053</td>\n",
              "      <td>2980.331339</td>\n",
              "      <td>3548.097832</td>\n",
              "      <td>3156.510452</td>\n",
              "      <td>2753.691490</td>\n",
              "      <td>2961.699694</td>\n",
              "      <td>3326.143191</td>\n",
              "      <td>3413.262690</td>\n",
              "      <td>3822.137084</td>\n",
              "    </tr>\n",
              "    <tr>\n",
              "      <th>Brazil</th>\n",
              "      <td>Americas</td>\n",
              "      <td>2108.944355</td>\n",
              "      <td>2487.365989</td>\n",
              "      <td>3336.585802</td>\n",
              "      <td>3429.864357</td>\n",
              "      <td>4985.711467</td>\n",
              "      <td>6660.118654</td>\n",
              "      <td>7030.835878</td>\n",
              "      <td>7807.095818</td>\n",
              "      <td>6950.283021</td>\n",
              "      <td>7957.980824</td>\n",
              "      <td>8131.212843</td>\n",
              "      <td>9065.800825</td>\n",
              "    </tr>\n",
              "  </tbody>\n",
              "</table>\n",
              "</div>\n",
              "    <div class=\"colab-df-buttons\">\n",
              "\n",
              "  <div class=\"colab-df-container\">\n",
              "    <button class=\"colab-df-convert\" onclick=\"convertToInteractive('df-448b7ca7-c59c-4850-97c4-e959c91a574b')\"\n",
              "            title=\"Convert this dataframe to an interactive table.\"\n",
              "            style=\"display:none;\">\n",
              "\n",
              "  <svg xmlns=\"http://www.w3.org/2000/svg\" height=\"24px\" viewBox=\"0 -960 960 960\">\n",
              "    <path d=\"M120-120v-720h720v720H120Zm60-500h600v-160H180v160Zm220 220h160v-160H400v160Zm0 220h160v-160H400v160ZM180-400h160v-160H180v160Zm440 0h160v-160H620v160ZM180-180h160v-160H180v160Zm440 0h160v-160H620v160Z\"/>\n",
              "  </svg>\n",
              "    </button>\n",
              "\n",
              "  <style>\n",
              "    .colab-df-container {\n",
              "      display:flex;\n",
              "      gap: 12px;\n",
              "    }\n",
              "\n",
              "    .colab-df-convert {\n",
              "      background-color: #E8F0FE;\n",
              "      border: none;\n",
              "      border-radius: 50%;\n",
              "      cursor: pointer;\n",
              "      display: none;\n",
              "      fill: #1967D2;\n",
              "      height: 32px;\n",
              "      padding: 0 0 0 0;\n",
              "      width: 32px;\n",
              "    }\n",
              "\n",
              "    .colab-df-convert:hover {\n",
              "      background-color: #E2EBFA;\n",
              "      box-shadow: 0px 1px 2px rgba(60, 64, 67, 0.3), 0px 1px 3px 1px rgba(60, 64, 67, 0.15);\n",
              "      fill: #174EA6;\n",
              "    }\n",
              "\n",
              "    .colab-df-buttons div {\n",
              "      margin-bottom: 4px;\n",
              "    }\n",
              "\n",
              "    [theme=dark] .colab-df-convert {\n",
              "      background-color: #3B4455;\n",
              "      fill: #D2E3FC;\n",
              "    }\n",
              "\n",
              "    [theme=dark] .colab-df-convert:hover {\n",
              "      background-color: #434B5C;\n",
              "      box-shadow: 0px 1px 3px 1px rgba(0, 0, 0, 0.15);\n",
              "      filter: drop-shadow(0px 1px 2px rgba(0, 0, 0, 0.3));\n",
              "      fill: #FFFFFF;\n",
              "    }\n",
              "  </style>\n",
              "\n",
              "    <script>\n",
              "      const buttonEl =\n",
              "        document.querySelector('#df-448b7ca7-c59c-4850-97c4-e959c91a574b button.colab-df-convert');\n",
              "      buttonEl.style.display =\n",
              "        google.colab.kernel.accessAllowed ? 'block' : 'none';\n",
              "\n",
              "      async function convertToInteractive(key) {\n",
              "        const element = document.querySelector('#df-448b7ca7-c59c-4850-97c4-e959c91a574b');\n",
              "        const dataTable =\n",
              "          await google.colab.kernel.invokeFunction('convertToInteractive',\n",
              "                                                    [key], {});\n",
              "        if (!dataTable) return;\n",
              "\n",
              "        const docLinkHtml = 'Like what you see? Visit the ' +\n",
              "          '<a target=\"_blank\" href=https://colab.research.google.com/notebooks/data_table.ipynb>data table notebook</a>'\n",
              "          + ' to learn more about interactive tables.';\n",
              "        element.innerHTML = '';\n",
              "        dataTable['output_type'] = 'display_data';\n",
              "        await google.colab.output.renderOutput(dataTable, element);\n",
              "        const docLink = document.createElement('div');\n",
              "        docLink.innerHTML = docLinkHtml;\n",
              "        element.appendChild(docLink);\n",
              "      }\n",
              "    </script>\n",
              "  </div>\n",
              "\n",
              "\n",
              "<div id=\"df-d5b6e274-5195-4932-90a5-8371da67c450\">\n",
              "  <button class=\"colab-df-quickchart\" onclick=\"quickchart('df-d5b6e274-5195-4932-90a5-8371da67c450')\"\n",
              "            title=\"Suggest charts\"\n",
              "            style=\"display:none;\">\n",
              "\n",
              "<svg xmlns=\"http://www.w3.org/2000/svg\" height=\"24px\"viewBox=\"0 0 24 24\"\n",
              "     width=\"24px\">\n",
              "    <g>\n",
              "        <path d=\"M19 3H5c-1.1 0-2 .9-2 2v14c0 1.1.9 2 2 2h14c1.1 0 2-.9 2-2V5c0-1.1-.9-2-2-2zM9 17H7v-7h2v7zm4 0h-2V7h2v10zm4 0h-2v-4h2v4z\"/>\n",
              "    </g>\n",
              "</svg>\n",
              "  </button>\n",
              "\n",
              "<style>\n",
              "  .colab-df-quickchart {\n",
              "      --bg-color: #E8F0FE;\n",
              "      --fill-color: #1967D2;\n",
              "      --hover-bg-color: #E2EBFA;\n",
              "      --hover-fill-color: #174EA6;\n",
              "      --disabled-fill-color: #AAA;\n",
              "      --disabled-bg-color: #DDD;\n",
              "  }\n",
              "\n",
              "  [theme=dark] .colab-df-quickchart {\n",
              "      --bg-color: #3B4455;\n",
              "      --fill-color: #D2E3FC;\n",
              "      --hover-bg-color: #434B5C;\n",
              "      --hover-fill-color: #FFFFFF;\n",
              "      --disabled-bg-color: #3B4455;\n",
              "      --disabled-fill-color: #666;\n",
              "  }\n",
              "\n",
              "  .colab-df-quickchart {\n",
              "    background-color: var(--bg-color);\n",
              "    border: none;\n",
              "    border-radius: 50%;\n",
              "    cursor: pointer;\n",
              "    display: none;\n",
              "    fill: var(--fill-color);\n",
              "    height: 32px;\n",
              "    padding: 0;\n",
              "    width: 32px;\n",
              "  }\n",
              "\n",
              "  .colab-df-quickchart:hover {\n",
              "    background-color: var(--hover-bg-color);\n",
              "    box-shadow: 0 1px 2px rgba(60, 64, 67, 0.3), 0 1px 3px 1px rgba(60, 64, 67, 0.15);\n",
              "    fill: var(--button-hover-fill-color);\n",
              "  }\n",
              "\n",
              "  .colab-df-quickchart-complete:disabled,\n",
              "  .colab-df-quickchart-complete:disabled:hover {\n",
              "    background-color: var(--disabled-bg-color);\n",
              "    fill: var(--disabled-fill-color);\n",
              "    box-shadow: none;\n",
              "  }\n",
              "\n",
              "  .colab-df-spinner {\n",
              "    border: 2px solid var(--fill-color);\n",
              "    border-color: transparent;\n",
              "    border-bottom-color: var(--fill-color);\n",
              "    animation:\n",
              "      spin 1s steps(1) infinite;\n",
              "  }\n",
              "\n",
              "  @keyframes spin {\n",
              "    0% {\n",
              "      border-color: transparent;\n",
              "      border-bottom-color: var(--fill-color);\n",
              "      border-left-color: var(--fill-color);\n",
              "    }\n",
              "    20% {\n",
              "      border-color: transparent;\n",
              "      border-left-color: var(--fill-color);\n",
              "      border-top-color: var(--fill-color);\n",
              "    }\n",
              "    30% {\n",
              "      border-color: transparent;\n",
              "      border-left-color: var(--fill-color);\n",
              "      border-top-color: var(--fill-color);\n",
              "      border-right-color: var(--fill-color);\n",
              "    }\n",
              "    40% {\n",
              "      border-color: transparent;\n",
              "      border-right-color: var(--fill-color);\n",
              "      border-top-color: var(--fill-color);\n",
              "    }\n",
              "    60% {\n",
              "      border-color: transparent;\n",
              "      border-right-color: var(--fill-color);\n",
              "    }\n",
              "    80% {\n",
              "      border-color: transparent;\n",
              "      border-right-color: var(--fill-color);\n",
              "      border-bottom-color: var(--fill-color);\n",
              "    }\n",
              "    90% {\n",
              "      border-color: transparent;\n",
              "      border-bottom-color: var(--fill-color);\n",
              "    }\n",
              "  }\n",
              "</style>\n",
              "\n",
              "  <script>\n",
              "    async function quickchart(key) {\n",
              "      const quickchartButtonEl =\n",
              "        document.querySelector('#' + key + ' button');\n",
              "      quickchartButtonEl.disabled = true;  // To prevent multiple clicks.\n",
              "      quickchartButtonEl.classList.add('colab-df-spinner');\n",
              "      try {\n",
              "        const charts = await google.colab.kernel.invokeFunction(\n",
              "            'suggestCharts', [key], {});\n",
              "      } catch (error) {\n",
              "        console.error('Error during call to suggestCharts:', error);\n",
              "      }\n",
              "      quickchartButtonEl.classList.remove('colab-df-spinner');\n",
              "      quickchartButtonEl.classList.add('colab-df-quickchart-complete');\n",
              "    }\n",
              "    (() => {\n",
              "      let quickchartButtonEl =\n",
              "        document.querySelector('#df-d5b6e274-5195-4932-90a5-8371da67c450 button');\n",
              "      quickchartButtonEl.style.display =\n",
              "        google.colab.kernel.accessAllowed ? 'block' : 'none';\n",
              "    })();\n",
              "  </script>\n",
              "</div>\n",
              "\n",
              "    </div>\n",
              "  </div>\n"
            ],
            "application/vnd.google.colaboratory.intrinsic+json": {
              "type": "dataframe",
              "variable_name": "data_americas",
              "summary": "{\n  \"name\": \"data_americas\",\n  \"rows\": 25,\n  \"fields\": [\n    {\n      \"column\": \"country\",\n      \"properties\": {\n        \"dtype\": \"string\",\n        \"num_unique_values\": 25,\n        \"samples\": [\n          \"Dominican Republic\",\n          \"Nicaragua\",\n          \"Argentina\"\n        ],\n        \"semantic_type\": \"\",\n        \"description\": \"\"\n      }\n    },\n    {\n      \"column\": \"continent\",\n      \"properties\": {\n        \"dtype\": \"category\",\n        \"num_unique_values\": 1,\n        \"samples\": [\n          \"Americas\"\n        ],\n        \"semantic_type\": \"\",\n        \"description\": \"\"\n      }\n    },\n    {\n      \"column\": \"gdpPercap_1952\",\n      \"properties\": {\n        \"dtype\": \"number\",\n        \"std\": 3001.7275216326566,\n        \"min\": 1397.717137,\n        \"max\": 13990.48208,\n        \"num_unique_values\": 25,\n        \"samples\": [\n          1397.717137\n        ],\n        \"semantic_type\": \"\",\n        \"description\": \"\"\n      }\n    },\n    {\n      \"column\": \"gdpPercap_1957\",\n      \"properties\": {\n        \"dtype\": \"number\",\n        \"std\": 3312.3810829210124,\n        \"min\": 1544.402995,\n        \"max\": 14847.12712,\n        \"num_unique_values\": 25,\n        \"samples\": [\n          1544.402995\n        ],\n        \"semantic_type\": \"\",\n        \"description\": \"\"\n      }\n    },\n    {\n      \"column\": \"gdpPercap_1962\",\n      \"properties\": {\n        \"dtype\": \"number\",\n        \"std\": 3421.740568771563,\n        \"min\": 1662.137359,\n        \"max\": 16173.14586,\n        \"num_unique_values\": 25,\n        \"samples\": [\n          1662.137359\n        ],\n        \"semantic_type\": \"\",\n        \"description\": \"\"\n      }\n    },\n    {\n      \"column\": \"gdpPercap_1967\",\n      \"properties\": {\n        \"dtype\": \"number\",\n        \"std\": 4160.885559590396,\n        \"min\": 1452.057666,\n        \"max\": 19530.36557,\n        \"num_unique_values\": 25,\n        \"samples\": [\n          1653.723003\n        ],\n        \"semantic_type\": \"\",\n        \"description\": \"\"\n      }\n    },\n    {\n      \"column\": \"gdpPercap_1972\",\n      \"properties\": {\n        \"dtype\": \"number\",\n        \"std\": 4754.40432881002,\n        \"min\": 1654.456946,\n        \"max\": 21806.03594,\n        \"num_unique_values\": 25,\n        \"samples\": [\n          2189.874499\n        ],\n        \"semantic_type\": \"\",\n        \"description\": \"\"\n      }\n    },\n    {\n      \"column\": \"gdpPercap_1977\",\n      \"properties\": {\n        \"dtype\": \"number\",\n        \"std\": 5355.602518251342,\n        \"min\": 1874.298931,\n        \"max\": 24072.63213,\n        \"num_unique_values\": 25,\n        \"samples\": [\n          2681.9889\n        ],\n        \"semantic_type\": \"\",\n        \"description\": \"\"\n      }\n    },\n    {\n      \"column\": \"gdpPercap_1982\",\n      \"properties\": {\n        \"dtype\": \"number\",\n        \"std\": 5530.49047115146,\n        \"min\": 2011.159549,\n        \"max\": 25009.55914,\n        \"num_unique_values\": 25,\n        \"samples\": [\n          2861.092386\n        ],\n        \"semantic_type\": \"\",\n        \"description\": \"\"\n      }\n    },\n    {\n      \"column\": \"gdpPercap_1987\",\n      \"properties\": {\n        \"dtype\": \"number\",\n        \"std\": 6665.039508729742,\n        \"min\": 1823.015995,\n        \"max\": 29884.35041,\n        \"num_unique_values\": 25,\n        \"samples\": [\n          2899.842175\n        ],\n        \"semantic_type\": \"\",\n        \"description\": \"\"\n      }\n    },\n    {\n      \"column\": \"gdpPercap_1992\",\n      \"properties\": {\n        \"dtype\": \"number\",\n        \"std\": 7047.08919137503,\n        \"min\": 1456.309517,\n        \"max\": 32003.93224,\n        \"num_unique_values\": 25,\n        \"samples\": [\n          3044.214214\n        ],\n        \"semantic_type\": \"\",\n        \"description\": \"\"\n      }\n    },\n    {\n      \"column\": \"gdpPercap_1997\",\n      \"properties\": {\n        \"dtype\": \"number\",\n        \"std\": 7874.225144658293,\n        \"min\": 1341.726931,\n        \"max\": 35767.43303,\n        \"num_unique_values\": 25,\n        \"samples\": [\n          3614.101285\n        ],\n        \"semantic_type\": \"\",\n        \"description\": \"\"\n      }\n    },\n    {\n      \"column\": \"gdpPercap_2002\",\n      \"properties\": {\n        \"dtype\": \"number\",\n        \"std\": 8895.817785335206,\n        \"min\": 1270.364932,\n        \"max\": 39097.09955,\n        \"num_unique_values\": 25,\n        \"samples\": [\n          4563.808154\n        ],\n        \"semantic_type\": \"\",\n        \"description\": \"\"\n      }\n    },\n    {\n      \"column\": \"gdpPercap_2007\",\n      \"properties\": {\n        \"dtype\": \"number\",\n        \"std\": 9713.20930239591,\n        \"min\": 1201.637154,\n        \"max\": 42951.65309,\n        \"num_unique_values\": 25,\n        \"samples\": [\n          6025.374752\n        ],\n        \"semantic_type\": \"\",\n        \"description\": \"\"\n      }\n    }\n  ]\n}"
            }
          },
          "metadata": {},
          "execution_count": 89
        }
      ]
    },
    {
      "cell_type": "code",
      "source": [
        "data_americas.tail(4)"
      ],
      "metadata": {
        "colab": {
          "base_uri": "https://localhost:8080/",
          "height": 278
        },
        "id": "d1wit9TPomht",
        "outputId": "b9f6c02f-dbe6-4a7d-8936-177c04a7d16e"
      },
      "execution_count": 90,
      "outputs": [
        {
          "output_type": "execute_result",
          "data": {
            "text/plain": [
              "                    continent  gdpPercap_1952  gdpPercap_1957  gdpPercap_1962  \\\n",
              "country                                                                         \n",
              "Trinidad and Tobago  Americas     3023.271928     4100.393400     4997.523971   \n",
              "United States        Americas    13990.482080    14847.127120    16173.145860   \n",
              "Uruguay              Americas     5716.766744     6150.772969     5603.357717   \n",
              "Venezuela            Americas     7689.799761     9802.466526     8422.974165   \n",
              "\n",
              "                     gdpPercap_1967  gdpPercap_1972  gdpPercap_1977  \\\n",
              "country                                                               \n",
              "Trinidad and Tobago     5621.368472     6619.551419     7899.554209   \n",
              "United States          19530.365570    21806.035940    24072.632130   \n",
              "Uruguay                 5444.619620     5703.408898     6504.339663   \n",
              "Venezuela               9541.474188    10505.259660    13143.950950   \n",
              "\n",
              "                     gdpPercap_1982  gdpPercap_1987  gdpPercap_1992  \\\n",
              "country                                                               \n",
              "Trinidad and Tobago     9119.528607     7388.597823     7370.990932   \n",
              "United States          25009.559140    29884.350410    32003.932240   \n",
              "Uruguay                 6920.223051     7452.398969     8137.004775   \n",
              "Venezuela              11152.410110     9883.584648    10733.926310   \n",
              "\n",
              "                     gdpPercap_1997  gdpPercap_2002  gdpPercap_2007  \n",
              "country                                                              \n",
              "Trinidad and Tobago     8792.573126    11460.600230     18008.50924  \n",
              "United States          35767.433030    39097.099550     42951.65309  \n",
              "Uruguay                 9230.240708     7727.002004     10611.46299  \n",
              "Venezuela              10165.495180     8605.047831     11415.80569  "
            ],
            "text/html": [
              "\n",
              "  <div id=\"df-c73c7d3a-6f78-4c1f-a917-2a8d565c4a46\" class=\"colab-df-container\">\n",
              "    <div>\n",
              "<style scoped>\n",
              "    .dataframe tbody tr th:only-of-type {\n",
              "        vertical-align: middle;\n",
              "    }\n",
              "\n",
              "    .dataframe tbody tr th {\n",
              "        vertical-align: top;\n",
              "    }\n",
              "\n",
              "    .dataframe thead th {\n",
              "        text-align: right;\n",
              "    }\n",
              "</style>\n",
              "<table border=\"1\" class=\"dataframe\">\n",
              "  <thead>\n",
              "    <tr style=\"text-align: right;\">\n",
              "      <th></th>\n",
              "      <th>continent</th>\n",
              "      <th>gdpPercap_1952</th>\n",
              "      <th>gdpPercap_1957</th>\n",
              "      <th>gdpPercap_1962</th>\n",
              "      <th>gdpPercap_1967</th>\n",
              "      <th>gdpPercap_1972</th>\n",
              "      <th>gdpPercap_1977</th>\n",
              "      <th>gdpPercap_1982</th>\n",
              "      <th>gdpPercap_1987</th>\n",
              "      <th>gdpPercap_1992</th>\n",
              "      <th>gdpPercap_1997</th>\n",
              "      <th>gdpPercap_2002</th>\n",
              "      <th>gdpPercap_2007</th>\n",
              "    </tr>\n",
              "    <tr>\n",
              "      <th>country</th>\n",
              "      <th></th>\n",
              "      <th></th>\n",
              "      <th></th>\n",
              "      <th></th>\n",
              "      <th></th>\n",
              "      <th></th>\n",
              "      <th></th>\n",
              "      <th></th>\n",
              "      <th></th>\n",
              "      <th></th>\n",
              "      <th></th>\n",
              "      <th></th>\n",
              "      <th></th>\n",
              "    </tr>\n",
              "  </thead>\n",
              "  <tbody>\n",
              "    <tr>\n",
              "      <th>Trinidad and Tobago</th>\n",
              "      <td>Americas</td>\n",
              "      <td>3023.271928</td>\n",
              "      <td>4100.393400</td>\n",
              "      <td>4997.523971</td>\n",
              "      <td>5621.368472</td>\n",
              "      <td>6619.551419</td>\n",
              "      <td>7899.554209</td>\n",
              "      <td>9119.528607</td>\n",
              "      <td>7388.597823</td>\n",
              "      <td>7370.990932</td>\n",
              "      <td>8792.573126</td>\n",
              "      <td>11460.600230</td>\n",
              "      <td>18008.50924</td>\n",
              "    </tr>\n",
              "    <tr>\n",
              "      <th>United States</th>\n",
              "      <td>Americas</td>\n",
              "      <td>13990.482080</td>\n",
              "      <td>14847.127120</td>\n",
              "      <td>16173.145860</td>\n",
              "      <td>19530.365570</td>\n",
              "      <td>21806.035940</td>\n",
              "      <td>24072.632130</td>\n",
              "      <td>25009.559140</td>\n",
              "      <td>29884.350410</td>\n",
              "      <td>32003.932240</td>\n",
              "      <td>35767.433030</td>\n",
              "      <td>39097.099550</td>\n",
              "      <td>42951.65309</td>\n",
              "    </tr>\n",
              "    <tr>\n",
              "      <th>Uruguay</th>\n",
              "      <td>Americas</td>\n",
              "      <td>5716.766744</td>\n",
              "      <td>6150.772969</td>\n",
              "      <td>5603.357717</td>\n",
              "      <td>5444.619620</td>\n",
              "      <td>5703.408898</td>\n",
              "      <td>6504.339663</td>\n",
              "      <td>6920.223051</td>\n",
              "      <td>7452.398969</td>\n",
              "      <td>8137.004775</td>\n",
              "      <td>9230.240708</td>\n",
              "      <td>7727.002004</td>\n",
              "      <td>10611.46299</td>\n",
              "    </tr>\n",
              "    <tr>\n",
              "      <th>Venezuela</th>\n",
              "      <td>Americas</td>\n",
              "      <td>7689.799761</td>\n",
              "      <td>9802.466526</td>\n",
              "      <td>8422.974165</td>\n",
              "      <td>9541.474188</td>\n",
              "      <td>10505.259660</td>\n",
              "      <td>13143.950950</td>\n",
              "      <td>11152.410110</td>\n",
              "      <td>9883.584648</td>\n",
              "      <td>10733.926310</td>\n",
              "      <td>10165.495180</td>\n",
              "      <td>8605.047831</td>\n",
              "      <td>11415.80569</td>\n",
              "    </tr>\n",
              "  </tbody>\n",
              "</table>\n",
              "</div>\n",
              "    <div class=\"colab-df-buttons\">\n",
              "\n",
              "  <div class=\"colab-df-container\">\n",
              "    <button class=\"colab-df-convert\" onclick=\"convertToInteractive('df-c73c7d3a-6f78-4c1f-a917-2a8d565c4a46')\"\n",
              "            title=\"Convert this dataframe to an interactive table.\"\n",
              "            style=\"display:none;\">\n",
              "\n",
              "  <svg xmlns=\"http://www.w3.org/2000/svg\" height=\"24px\" viewBox=\"0 -960 960 960\">\n",
              "    <path d=\"M120-120v-720h720v720H120Zm60-500h600v-160H180v160Zm220 220h160v-160H400v160Zm0 220h160v-160H400v160ZM180-400h160v-160H180v160Zm440 0h160v-160H620v160ZM180-180h160v-160H180v160Zm440 0h160v-160H620v160Z\"/>\n",
              "  </svg>\n",
              "    </button>\n",
              "\n",
              "  <style>\n",
              "    .colab-df-container {\n",
              "      display:flex;\n",
              "      gap: 12px;\n",
              "    }\n",
              "\n",
              "    .colab-df-convert {\n",
              "      background-color: #E8F0FE;\n",
              "      border: none;\n",
              "      border-radius: 50%;\n",
              "      cursor: pointer;\n",
              "      display: none;\n",
              "      fill: #1967D2;\n",
              "      height: 32px;\n",
              "      padding: 0 0 0 0;\n",
              "      width: 32px;\n",
              "    }\n",
              "\n",
              "    .colab-df-convert:hover {\n",
              "      background-color: #E2EBFA;\n",
              "      box-shadow: 0px 1px 2px rgba(60, 64, 67, 0.3), 0px 1px 3px 1px rgba(60, 64, 67, 0.15);\n",
              "      fill: #174EA6;\n",
              "    }\n",
              "\n",
              "    .colab-df-buttons div {\n",
              "      margin-bottom: 4px;\n",
              "    }\n",
              "\n",
              "    [theme=dark] .colab-df-convert {\n",
              "      background-color: #3B4455;\n",
              "      fill: #D2E3FC;\n",
              "    }\n",
              "\n",
              "    [theme=dark] .colab-df-convert:hover {\n",
              "      background-color: #434B5C;\n",
              "      box-shadow: 0px 1px 3px 1px rgba(0, 0, 0, 0.15);\n",
              "      filter: drop-shadow(0px 1px 2px rgba(0, 0, 0, 0.3));\n",
              "      fill: #FFFFFF;\n",
              "    }\n",
              "  </style>\n",
              "\n",
              "    <script>\n",
              "      const buttonEl =\n",
              "        document.querySelector('#df-c73c7d3a-6f78-4c1f-a917-2a8d565c4a46 button.colab-df-convert');\n",
              "      buttonEl.style.display =\n",
              "        google.colab.kernel.accessAllowed ? 'block' : 'none';\n",
              "\n",
              "      async function convertToInteractive(key) {\n",
              "        const element = document.querySelector('#df-c73c7d3a-6f78-4c1f-a917-2a8d565c4a46');\n",
              "        const dataTable =\n",
              "          await google.colab.kernel.invokeFunction('convertToInteractive',\n",
              "                                                    [key], {});\n",
              "        if (!dataTable) return;\n",
              "\n",
              "        const docLinkHtml = 'Like what you see? Visit the ' +\n",
              "          '<a target=\"_blank\" href=https://colab.research.google.com/notebooks/data_table.ipynb>data table notebook</a>'\n",
              "          + ' to learn more about interactive tables.';\n",
              "        element.innerHTML = '';\n",
              "        dataTable['output_type'] = 'display_data';\n",
              "        await google.colab.output.renderOutput(dataTable, element);\n",
              "        const docLink = document.createElement('div');\n",
              "        docLink.innerHTML = docLinkHtml;\n",
              "        element.appendChild(docLink);\n",
              "      }\n",
              "    </script>\n",
              "  </div>\n",
              "\n",
              "\n",
              "<div id=\"df-4ab37f80-377d-4326-878a-24ffbe387369\">\n",
              "  <button class=\"colab-df-quickchart\" onclick=\"quickchart('df-4ab37f80-377d-4326-878a-24ffbe387369')\"\n",
              "            title=\"Suggest charts\"\n",
              "            style=\"display:none;\">\n",
              "\n",
              "<svg xmlns=\"http://www.w3.org/2000/svg\" height=\"24px\"viewBox=\"0 0 24 24\"\n",
              "     width=\"24px\">\n",
              "    <g>\n",
              "        <path d=\"M19 3H5c-1.1 0-2 .9-2 2v14c0 1.1.9 2 2 2h14c1.1 0 2-.9 2-2V5c0-1.1-.9-2-2-2zM9 17H7v-7h2v7zm4 0h-2V7h2v10zm4 0h-2v-4h2v4z\"/>\n",
              "    </g>\n",
              "</svg>\n",
              "  </button>\n",
              "\n",
              "<style>\n",
              "  .colab-df-quickchart {\n",
              "      --bg-color: #E8F0FE;\n",
              "      --fill-color: #1967D2;\n",
              "      --hover-bg-color: #E2EBFA;\n",
              "      --hover-fill-color: #174EA6;\n",
              "      --disabled-fill-color: #AAA;\n",
              "      --disabled-bg-color: #DDD;\n",
              "  }\n",
              "\n",
              "  [theme=dark] .colab-df-quickchart {\n",
              "      --bg-color: #3B4455;\n",
              "      --fill-color: #D2E3FC;\n",
              "      --hover-bg-color: #434B5C;\n",
              "      --hover-fill-color: #FFFFFF;\n",
              "      --disabled-bg-color: #3B4455;\n",
              "      --disabled-fill-color: #666;\n",
              "  }\n",
              "\n",
              "  .colab-df-quickchart {\n",
              "    background-color: var(--bg-color);\n",
              "    border: none;\n",
              "    border-radius: 50%;\n",
              "    cursor: pointer;\n",
              "    display: none;\n",
              "    fill: var(--fill-color);\n",
              "    height: 32px;\n",
              "    padding: 0;\n",
              "    width: 32px;\n",
              "  }\n",
              "\n",
              "  .colab-df-quickchart:hover {\n",
              "    background-color: var(--hover-bg-color);\n",
              "    box-shadow: 0 1px 2px rgba(60, 64, 67, 0.3), 0 1px 3px 1px rgba(60, 64, 67, 0.15);\n",
              "    fill: var(--button-hover-fill-color);\n",
              "  }\n",
              "\n",
              "  .colab-df-quickchart-complete:disabled,\n",
              "  .colab-df-quickchart-complete:disabled:hover {\n",
              "    background-color: var(--disabled-bg-color);\n",
              "    fill: var(--disabled-fill-color);\n",
              "    box-shadow: none;\n",
              "  }\n",
              "\n",
              "  .colab-df-spinner {\n",
              "    border: 2px solid var(--fill-color);\n",
              "    border-color: transparent;\n",
              "    border-bottom-color: var(--fill-color);\n",
              "    animation:\n",
              "      spin 1s steps(1) infinite;\n",
              "  }\n",
              "\n",
              "  @keyframes spin {\n",
              "    0% {\n",
              "      border-color: transparent;\n",
              "      border-bottom-color: var(--fill-color);\n",
              "      border-left-color: var(--fill-color);\n",
              "    }\n",
              "    20% {\n",
              "      border-color: transparent;\n",
              "      border-left-color: var(--fill-color);\n",
              "      border-top-color: var(--fill-color);\n",
              "    }\n",
              "    30% {\n",
              "      border-color: transparent;\n",
              "      border-left-color: var(--fill-color);\n",
              "      border-top-color: var(--fill-color);\n",
              "      border-right-color: var(--fill-color);\n",
              "    }\n",
              "    40% {\n",
              "      border-color: transparent;\n",
              "      border-right-color: var(--fill-color);\n",
              "      border-top-color: var(--fill-color);\n",
              "    }\n",
              "    60% {\n",
              "      border-color: transparent;\n",
              "      border-right-color: var(--fill-color);\n",
              "    }\n",
              "    80% {\n",
              "      border-color: transparent;\n",
              "      border-right-color: var(--fill-color);\n",
              "      border-bottom-color: var(--fill-color);\n",
              "    }\n",
              "    90% {\n",
              "      border-color: transparent;\n",
              "      border-bottom-color: var(--fill-color);\n",
              "    }\n",
              "  }\n",
              "</style>\n",
              "\n",
              "  <script>\n",
              "    async function quickchart(key) {\n",
              "      const quickchartButtonEl =\n",
              "        document.querySelector('#' + key + ' button');\n",
              "      quickchartButtonEl.disabled = true;  // To prevent multiple clicks.\n",
              "      quickchartButtonEl.classList.add('colab-df-spinner');\n",
              "      try {\n",
              "        const charts = await google.colab.kernel.invokeFunction(\n",
              "            'suggestCharts', [key], {});\n",
              "      } catch (error) {\n",
              "        console.error('Error during call to suggestCharts:', error);\n",
              "      }\n",
              "      quickchartButtonEl.classList.remove('colab-df-spinner');\n",
              "      quickchartButtonEl.classList.add('colab-df-quickchart-complete');\n",
              "    }\n",
              "    (() => {\n",
              "      let quickchartButtonEl =\n",
              "        document.querySelector('#df-4ab37f80-377d-4326-878a-24ffbe387369 button');\n",
              "      quickchartButtonEl.style.display =\n",
              "        google.colab.kernel.accessAllowed ? 'block' : 'none';\n",
              "    })();\n",
              "  </script>\n",
              "</div>\n",
              "\n",
              "    </div>\n",
              "  </div>\n"
            ],
            "application/vnd.google.colaboratory.intrinsic+json": {
              "type": "dataframe",
              "summary": "{\n  \"name\": \"data_americas\",\n  \"rows\": 4,\n  \"fields\": [\n    {\n      \"column\": \"country\",\n      \"properties\": {\n        \"dtype\": \"string\",\n        \"num_unique_values\": 4,\n        \"samples\": [\n          \"United States\",\n          \"Venezuela\",\n          \"Trinidad and Tobago\"\n        ],\n        \"semantic_type\": \"\",\n        \"description\": \"\"\n      }\n    },\n    {\n      \"column\": \"continent\",\n      \"properties\": {\n        \"dtype\": \"category\",\n        \"num_unique_values\": 1,\n        \"samples\": [\n          \"Americas\"\n        ],\n        \"semantic_type\": \"\",\n        \"description\": \"\"\n      }\n    },\n    {\n      \"column\": \"gdpPercap_1952\",\n      \"properties\": {\n        \"dtype\": \"number\",\n        \"std\": 4666.877232961452,\n        \"min\": 3023.271928,\n        \"max\": 13990.48208,\n        \"num_unique_values\": 4,\n        \"samples\": [\n          13990.48208\n        ],\n        \"semantic_type\": \"\",\n        \"description\": \"\"\n      }\n    },\n    {\n      \"column\": \"gdpPercap_1957\",\n      \"properties\": {\n        \"dtype\": \"number\",\n        \"std\": 4713.632903807809,\n        \"min\": 4100.3934,\n        \"max\": 14847.12712,\n        \"num_unique_values\": 4,\n        \"samples\": [\n          14847.12712\n        ],\n        \"semantic_type\": \"\",\n        \"description\": \"\"\n      }\n    },\n    {\n      \"column\": \"gdpPercap_1962\",\n      \"properties\": {\n        \"dtype\": \"number\",\n        \"std\": 5137.53416670697,\n        \"min\": 4997.523971,\n        \"max\": 16173.14586,\n        \"num_unique_values\": 4,\n        \"samples\": [\n          16173.14586\n        ],\n        \"semantic_type\": \"\",\n        \"description\": \"\"\n      }\n    },\n    {\n      \"column\": \"gdpPercap_1967\",\n      \"properties\": {\n        \"dtype\": \"number\",\n        \"std\": 6606.998036262696,\n        \"min\": 5444.61962,\n        \"max\": 19530.36557,\n        \"num_unique_values\": 4,\n        \"samples\": [\n          19530.36557\n        ],\n        \"semantic_type\": \"\",\n        \"description\": \"\"\n      }\n    },\n    {\n      \"column\": \"gdpPercap_1972\",\n      \"properties\": {\n        \"dtype\": \"number\",\n        \"std\": 7397.225102949149,\n        \"min\": 5703.408898,\n        \"max\": 21806.03594,\n        \"num_unique_values\": 4,\n        \"samples\": [\n          21806.03594\n        ],\n        \"semantic_type\": \"\",\n        \"description\": \"\"\n      }\n    },\n    {\n      \"column\": \"gdpPercap_1977\",\n      \"properties\": {\n        \"dtype\": \"number\",\n        \"std\": 7974.878164313401,\n        \"min\": 6504.339663,\n        \"max\": 24072.63213,\n        \"num_unique_values\": 4,\n        \"samples\": [\n          24072.63213\n        ],\n        \"semantic_type\": \"\",\n        \"description\": \"\"\n      }\n    },\n    {\n      \"column\": \"gdpPercap_1982\",\n      \"properties\": {\n        \"dtype\": \"number\",\n        \"std\": 8157.913791509236,\n        \"min\": 6920.223051,\n        \"max\": 25009.55914,\n        \"num_unique_values\": 4,\n        \"samples\": [\n          25009.55914\n        ],\n        \"semantic_type\": \"\",\n        \"description\": \"\"\n      }\n    },\n    {\n      \"column\": \"gdpPercap_1987\",\n      \"properties\": {\n        \"dtype\": \"number\",\n        \"std\": 10883.556613159673,\n        \"min\": 7388.597823,\n        \"max\": 29884.35041,\n        \"num_unique_values\": 4,\n        \"samples\": [\n          29884.35041\n        ],\n        \"semantic_type\": \"\",\n        \"description\": \"\"\n      }\n    },\n    {\n      \"column\": \"gdpPercap_1992\",\n      \"properties\": {\n        \"dtype\": \"number\",\n        \"std\": 11717.029235932621,\n        \"min\": 7370.990932,\n        \"max\": 32003.93224,\n        \"num_unique_values\": 4,\n        \"samples\": [\n          32003.93224\n        ],\n        \"semantic_type\": \"\",\n        \"description\": \"\"\n      }\n    },\n    {\n      \"column\": \"gdpPercap_1997\",\n      \"properties\": {\n        \"dtype\": \"number\",\n        \"std\": 13198.093402889028,\n        \"min\": 8792.573126,\n        \"max\": 35767.43303,\n        \"num_unique_values\": 4,\n        \"samples\": [\n          35767.43303\n        ],\n        \"semantic_type\": \"\",\n        \"description\": \"\"\n      }\n    },\n    {\n      \"column\": \"gdpPercap_2002\",\n      \"properties\": {\n        \"dtype\": \"number\",\n        \"std\": 15001.358917430956,\n        \"min\": 7727.002004,\n        \"max\": 39097.09955,\n        \"num_unique_values\": 4,\n        \"samples\": [\n          39097.09955\n        ],\n        \"semantic_type\": \"\",\n        \"description\": \"\"\n      }\n    },\n    {\n      \"column\": \"gdpPercap_2007\",\n      \"properties\": {\n        \"dtype\": \"number\",\n        \"std\": 15169.555565242845,\n        \"min\": 10611.46299,\n        \"max\": 42951.65309,\n        \"num_unique_values\": 4,\n        \"samples\": [\n          42951.65309\n        ],\n        \"semantic_type\": \"\",\n        \"description\": \"\"\n      }\n    }\n  ]\n}"
            }
          },
          "metadata": {},
          "execution_count": 90
        }
      ]
    },
    {
      "cell_type": "code",
      "source": [
        "# prompt: display the last three columns of data\n",
        "\n",
        "# Assuming your data is in a pandas DataFrame called 'data_americas' (or whatever your DataFrame name is)\n",
        "# You can then use the .iloc method to select the last three columns:\n",
        "# For example, if your DataFrame has 5 columns:\n",
        "\n",
        "# last_three_columns = data_americas.iloc[:, -3:]\n",
        "\n",
        "# print(last_three_columns)\n",
        "\n",
        "\n",
        "# If you don't have a DataFrame loaded, you might want to load the .csv file again and\n",
        "# re-run the code\n",
        "\n",
        "\n",
        "# Here is an example using a sample DataFrame:\n",
        "import pandas as pd\n",
        "data = {'col1': [1, 2, 3], 'col2': [4, 5, 6], 'col3': [7, 8, 9], 'col4': [10, 11, 12], 'col5': [13, 14, 15]}\n",
        "df = pd.DataFrame(data)\n",
        "\n",
        "last_three_columns = df.iloc[:, -3:]\n",
        "\n",
        "last_three_columns\n"
      ],
      "metadata": {
        "id": "3afU726UoqDE"
      },
      "execution_count": null,
      "outputs": []
    },
    {
      "cell_type": "code",
      "source": [
        "data_americas.describe()"
      ],
      "metadata": {
        "colab": {
          "base_uri": "https://localhost:8080/",
          "height": 320
        },
        "id": "tUozFT4GpxdZ",
        "outputId": "a7128033-e1c5-4216-cf51-2f79b405bca7"
      },
      "execution_count": 91,
      "outputs": [
        {
          "output_type": "execute_result",
          "data": {
            "text/plain": [
              "       gdpPercap_1952  gdpPercap_1957  gdpPercap_1962  gdpPercap_1967  \\\n",
              "count       25.000000       25.000000       25.000000       25.000000   \n",
              "mean      4079.062552     4616.043733     4901.541870     5668.253496   \n",
              "std       3001.727522     3312.381083     3421.740569     4160.885560   \n",
              "min       1397.717137     1544.402995     1662.137359     1452.057666   \n",
              "25%       2428.237769     2487.365989     2750.364446     3242.531147   \n",
              "50%       3048.302900     3780.546651     4086.114078     4643.393534   \n",
              "75%       3939.978789     4756.525781     5180.755910     5788.093330   \n",
              "max      13990.482080    14847.127120    16173.145860    19530.365570   \n",
              "\n",
              "       gdpPercap_1972  gdpPercap_1977  gdpPercap_1982  gdpPercap_1987  \\\n",
              "count       25.000000       25.000000       25.000000       25.000000   \n",
              "mean      6491.334139     7352.007126     7506.737088     7793.400261   \n",
              "std       4754.404329     5355.602518     5530.490471     6665.039509   \n",
              "min       1654.456946     1874.298931     2011.159549     1823.015995   \n",
              "25%       4031.408271     4756.763836     4258.503604     4140.442097   \n",
              "50%       5305.445256     6281.290855     6434.501797     6360.943444   \n",
              "75%       6809.406690     7674.929108     8997.897412     7807.095818   \n",
              "max      21806.035940    24072.632130    25009.559140    29884.350410   \n",
              "\n",
              "       gdpPercap_1992  gdpPercap_1997  gdpPercap_2002  gdpPercap_2007  \n",
              "count       25.000000       25.000000       25.000000       25.000000  \n",
              "mean      8044.934406     8889.300863     9287.677107    11003.031625  \n",
              "std       7047.089191     7874.225145     8895.817785     9713.209302  \n",
              "min       1456.309517     1341.726931     1270.364932     1201.637154  \n",
              "25%       4439.450840     4684.313807     4858.347495     5728.353514  \n",
              "50%       6618.743050     7113.692252     6994.774861     8948.102923  \n",
              "75%       8137.004775     9767.297530     8797.640716    11977.574960  \n",
              "max      32003.932240    35767.433030    39097.099550    42951.653090  "
            ],
            "text/html": [
              "\n",
              "  <div id=\"df-5a26f7d5-fc73-4809-bba2-1c1c12e8e78f\" class=\"colab-df-container\">\n",
              "    <div>\n",
              "<style scoped>\n",
              "    .dataframe tbody tr th:only-of-type {\n",
              "        vertical-align: middle;\n",
              "    }\n",
              "\n",
              "    .dataframe tbody tr th {\n",
              "        vertical-align: top;\n",
              "    }\n",
              "\n",
              "    .dataframe thead th {\n",
              "        text-align: right;\n",
              "    }\n",
              "</style>\n",
              "<table border=\"1\" class=\"dataframe\">\n",
              "  <thead>\n",
              "    <tr style=\"text-align: right;\">\n",
              "      <th></th>\n",
              "      <th>gdpPercap_1952</th>\n",
              "      <th>gdpPercap_1957</th>\n",
              "      <th>gdpPercap_1962</th>\n",
              "      <th>gdpPercap_1967</th>\n",
              "      <th>gdpPercap_1972</th>\n",
              "      <th>gdpPercap_1977</th>\n",
              "      <th>gdpPercap_1982</th>\n",
              "      <th>gdpPercap_1987</th>\n",
              "      <th>gdpPercap_1992</th>\n",
              "      <th>gdpPercap_1997</th>\n",
              "      <th>gdpPercap_2002</th>\n",
              "      <th>gdpPercap_2007</th>\n",
              "    </tr>\n",
              "  </thead>\n",
              "  <tbody>\n",
              "    <tr>\n",
              "      <th>count</th>\n",
              "      <td>25.000000</td>\n",
              "      <td>25.000000</td>\n",
              "      <td>25.000000</td>\n",
              "      <td>25.000000</td>\n",
              "      <td>25.000000</td>\n",
              "      <td>25.000000</td>\n",
              "      <td>25.000000</td>\n",
              "      <td>25.000000</td>\n",
              "      <td>25.000000</td>\n",
              "      <td>25.000000</td>\n",
              "      <td>25.000000</td>\n",
              "      <td>25.000000</td>\n",
              "    </tr>\n",
              "    <tr>\n",
              "      <th>mean</th>\n",
              "      <td>4079.062552</td>\n",
              "      <td>4616.043733</td>\n",
              "      <td>4901.541870</td>\n",
              "      <td>5668.253496</td>\n",
              "      <td>6491.334139</td>\n",
              "      <td>7352.007126</td>\n",
              "      <td>7506.737088</td>\n",
              "      <td>7793.400261</td>\n",
              "      <td>8044.934406</td>\n",
              "      <td>8889.300863</td>\n",
              "      <td>9287.677107</td>\n",
              "      <td>11003.031625</td>\n",
              "    </tr>\n",
              "    <tr>\n",
              "      <th>std</th>\n",
              "      <td>3001.727522</td>\n",
              "      <td>3312.381083</td>\n",
              "      <td>3421.740569</td>\n",
              "      <td>4160.885560</td>\n",
              "      <td>4754.404329</td>\n",
              "      <td>5355.602518</td>\n",
              "      <td>5530.490471</td>\n",
              "      <td>6665.039509</td>\n",
              "      <td>7047.089191</td>\n",
              "      <td>7874.225145</td>\n",
              "      <td>8895.817785</td>\n",
              "      <td>9713.209302</td>\n",
              "    </tr>\n",
              "    <tr>\n",
              "      <th>min</th>\n",
              "      <td>1397.717137</td>\n",
              "      <td>1544.402995</td>\n",
              "      <td>1662.137359</td>\n",
              "      <td>1452.057666</td>\n",
              "      <td>1654.456946</td>\n",
              "      <td>1874.298931</td>\n",
              "      <td>2011.159549</td>\n",
              "      <td>1823.015995</td>\n",
              "      <td>1456.309517</td>\n",
              "      <td>1341.726931</td>\n",
              "      <td>1270.364932</td>\n",
              "      <td>1201.637154</td>\n",
              "    </tr>\n",
              "    <tr>\n",
              "      <th>25%</th>\n",
              "      <td>2428.237769</td>\n",
              "      <td>2487.365989</td>\n",
              "      <td>2750.364446</td>\n",
              "      <td>3242.531147</td>\n",
              "      <td>4031.408271</td>\n",
              "      <td>4756.763836</td>\n",
              "      <td>4258.503604</td>\n",
              "      <td>4140.442097</td>\n",
              "      <td>4439.450840</td>\n",
              "      <td>4684.313807</td>\n",
              "      <td>4858.347495</td>\n",
              "      <td>5728.353514</td>\n",
              "    </tr>\n",
              "    <tr>\n",
              "      <th>50%</th>\n",
              "      <td>3048.302900</td>\n",
              "      <td>3780.546651</td>\n",
              "      <td>4086.114078</td>\n",
              "      <td>4643.393534</td>\n",
              "      <td>5305.445256</td>\n",
              "      <td>6281.290855</td>\n",
              "      <td>6434.501797</td>\n",
              "      <td>6360.943444</td>\n",
              "      <td>6618.743050</td>\n",
              "      <td>7113.692252</td>\n",
              "      <td>6994.774861</td>\n",
              "      <td>8948.102923</td>\n",
              "    </tr>\n",
              "    <tr>\n",
              "      <th>75%</th>\n",
              "      <td>3939.978789</td>\n",
              "      <td>4756.525781</td>\n",
              "      <td>5180.755910</td>\n",
              "      <td>5788.093330</td>\n",
              "      <td>6809.406690</td>\n",
              "      <td>7674.929108</td>\n",
              "      <td>8997.897412</td>\n",
              "      <td>7807.095818</td>\n",
              "      <td>8137.004775</td>\n",
              "      <td>9767.297530</td>\n",
              "      <td>8797.640716</td>\n",
              "      <td>11977.574960</td>\n",
              "    </tr>\n",
              "    <tr>\n",
              "      <th>max</th>\n",
              "      <td>13990.482080</td>\n",
              "      <td>14847.127120</td>\n",
              "      <td>16173.145860</td>\n",
              "      <td>19530.365570</td>\n",
              "      <td>21806.035940</td>\n",
              "      <td>24072.632130</td>\n",
              "      <td>25009.559140</td>\n",
              "      <td>29884.350410</td>\n",
              "      <td>32003.932240</td>\n",
              "      <td>35767.433030</td>\n",
              "      <td>39097.099550</td>\n",
              "      <td>42951.653090</td>\n",
              "    </tr>\n",
              "  </tbody>\n",
              "</table>\n",
              "</div>\n",
              "    <div class=\"colab-df-buttons\">\n",
              "\n",
              "  <div class=\"colab-df-container\">\n",
              "    <button class=\"colab-df-convert\" onclick=\"convertToInteractive('df-5a26f7d5-fc73-4809-bba2-1c1c12e8e78f')\"\n",
              "            title=\"Convert this dataframe to an interactive table.\"\n",
              "            style=\"display:none;\">\n",
              "\n",
              "  <svg xmlns=\"http://www.w3.org/2000/svg\" height=\"24px\" viewBox=\"0 -960 960 960\">\n",
              "    <path d=\"M120-120v-720h720v720H120Zm60-500h600v-160H180v160Zm220 220h160v-160H400v160Zm0 220h160v-160H400v160ZM180-400h160v-160H180v160Zm440 0h160v-160H620v160ZM180-180h160v-160H180v160Zm440 0h160v-160H620v160Z\"/>\n",
              "  </svg>\n",
              "    </button>\n",
              "\n",
              "  <style>\n",
              "    .colab-df-container {\n",
              "      display:flex;\n",
              "      gap: 12px;\n",
              "    }\n",
              "\n",
              "    .colab-df-convert {\n",
              "      background-color: #E8F0FE;\n",
              "      border: none;\n",
              "      border-radius: 50%;\n",
              "      cursor: pointer;\n",
              "      display: none;\n",
              "      fill: #1967D2;\n",
              "      height: 32px;\n",
              "      padding: 0 0 0 0;\n",
              "      width: 32px;\n",
              "    }\n",
              "\n",
              "    .colab-df-convert:hover {\n",
              "      background-color: #E2EBFA;\n",
              "      box-shadow: 0px 1px 2px rgba(60, 64, 67, 0.3), 0px 1px 3px 1px rgba(60, 64, 67, 0.15);\n",
              "      fill: #174EA6;\n",
              "    }\n",
              "\n",
              "    .colab-df-buttons div {\n",
              "      margin-bottom: 4px;\n",
              "    }\n",
              "\n",
              "    [theme=dark] .colab-df-convert {\n",
              "      background-color: #3B4455;\n",
              "      fill: #D2E3FC;\n",
              "    }\n",
              "\n",
              "    [theme=dark] .colab-df-convert:hover {\n",
              "      background-color: #434B5C;\n",
              "      box-shadow: 0px 1px 3px 1px rgba(0, 0, 0, 0.15);\n",
              "      filter: drop-shadow(0px 1px 2px rgba(0, 0, 0, 0.3));\n",
              "      fill: #FFFFFF;\n",
              "    }\n",
              "  </style>\n",
              "\n",
              "    <script>\n",
              "      const buttonEl =\n",
              "        document.querySelector('#df-5a26f7d5-fc73-4809-bba2-1c1c12e8e78f button.colab-df-convert');\n",
              "      buttonEl.style.display =\n",
              "        google.colab.kernel.accessAllowed ? 'block' : 'none';\n",
              "\n",
              "      async function convertToInteractive(key) {\n",
              "        const element = document.querySelector('#df-5a26f7d5-fc73-4809-bba2-1c1c12e8e78f');\n",
              "        const dataTable =\n",
              "          await google.colab.kernel.invokeFunction('convertToInteractive',\n",
              "                                                    [key], {});\n",
              "        if (!dataTable) return;\n",
              "\n",
              "        const docLinkHtml = 'Like what you see? Visit the ' +\n",
              "          '<a target=\"_blank\" href=https://colab.research.google.com/notebooks/data_table.ipynb>data table notebook</a>'\n",
              "          + ' to learn more about interactive tables.';\n",
              "        element.innerHTML = '';\n",
              "        dataTable['output_type'] = 'display_data';\n",
              "        await google.colab.output.renderOutput(dataTable, element);\n",
              "        const docLink = document.createElement('div');\n",
              "        docLink.innerHTML = docLinkHtml;\n",
              "        element.appendChild(docLink);\n",
              "      }\n",
              "    </script>\n",
              "  </div>\n",
              "\n",
              "\n",
              "<div id=\"df-563dfc8e-00d3-4fdc-ad9b-8336efc0b667\">\n",
              "  <button class=\"colab-df-quickchart\" onclick=\"quickchart('df-563dfc8e-00d3-4fdc-ad9b-8336efc0b667')\"\n",
              "            title=\"Suggest charts\"\n",
              "            style=\"display:none;\">\n",
              "\n",
              "<svg xmlns=\"http://www.w3.org/2000/svg\" height=\"24px\"viewBox=\"0 0 24 24\"\n",
              "     width=\"24px\">\n",
              "    <g>\n",
              "        <path d=\"M19 3H5c-1.1 0-2 .9-2 2v14c0 1.1.9 2 2 2h14c1.1 0 2-.9 2-2V5c0-1.1-.9-2-2-2zM9 17H7v-7h2v7zm4 0h-2V7h2v10zm4 0h-2v-4h2v4z\"/>\n",
              "    </g>\n",
              "</svg>\n",
              "  </button>\n",
              "\n",
              "<style>\n",
              "  .colab-df-quickchart {\n",
              "      --bg-color: #E8F0FE;\n",
              "      --fill-color: #1967D2;\n",
              "      --hover-bg-color: #E2EBFA;\n",
              "      --hover-fill-color: #174EA6;\n",
              "      --disabled-fill-color: #AAA;\n",
              "      --disabled-bg-color: #DDD;\n",
              "  }\n",
              "\n",
              "  [theme=dark] .colab-df-quickchart {\n",
              "      --bg-color: #3B4455;\n",
              "      --fill-color: #D2E3FC;\n",
              "      --hover-bg-color: #434B5C;\n",
              "      --hover-fill-color: #FFFFFF;\n",
              "      --disabled-bg-color: #3B4455;\n",
              "      --disabled-fill-color: #666;\n",
              "  }\n",
              "\n",
              "  .colab-df-quickchart {\n",
              "    background-color: var(--bg-color);\n",
              "    border: none;\n",
              "    border-radius: 50%;\n",
              "    cursor: pointer;\n",
              "    display: none;\n",
              "    fill: var(--fill-color);\n",
              "    height: 32px;\n",
              "    padding: 0;\n",
              "    width: 32px;\n",
              "  }\n",
              "\n",
              "  .colab-df-quickchart:hover {\n",
              "    background-color: var(--hover-bg-color);\n",
              "    box-shadow: 0 1px 2px rgba(60, 64, 67, 0.3), 0 1px 3px 1px rgba(60, 64, 67, 0.15);\n",
              "    fill: var(--button-hover-fill-color);\n",
              "  }\n",
              "\n",
              "  .colab-df-quickchart-complete:disabled,\n",
              "  .colab-df-quickchart-complete:disabled:hover {\n",
              "    background-color: var(--disabled-bg-color);\n",
              "    fill: var(--disabled-fill-color);\n",
              "    box-shadow: none;\n",
              "  }\n",
              "\n",
              "  .colab-df-spinner {\n",
              "    border: 2px solid var(--fill-color);\n",
              "    border-color: transparent;\n",
              "    border-bottom-color: var(--fill-color);\n",
              "    animation:\n",
              "      spin 1s steps(1) infinite;\n",
              "  }\n",
              "\n",
              "  @keyframes spin {\n",
              "    0% {\n",
              "      border-color: transparent;\n",
              "      border-bottom-color: var(--fill-color);\n",
              "      border-left-color: var(--fill-color);\n",
              "    }\n",
              "    20% {\n",
              "      border-color: transparent;\n",
              "      border-left-color: var(--fill-color);\n",
              "      border-top-color: var(--fill-color);\n",
              "    }\n",
              "    30% {\n",
              "      border-color: transparent;\n",
              "      border-left-color: var(--fill-color);\n",
              "      border-top-color: var(--fill-color);\n",
              "      border-right-color: var(--fill-color);\n",
              "    }\n",
              "    40% {\n",
              "      border-color: transparent;\n",
              "      border-right-color: var(--fill-color);\n",
              "      border-top-color: var(--fill-color);\n",
              "    }\n",
              "    60% {\n",
              "      border-color: transparent;\n",
              "      border-right-color: var(--fill-color);\n",
              "    }\n",
              "    80% {\n",
              "      border-color: transparent;\n",
              "      border-right-color: var(--fill-color);\n",
              "      border-bottom-color: var(--fill-color);\n",
              "    }\n",
              "    90% {\n",
              "      border-color: transparent;\n",
              "      border-bottom-color: var(--fill-color);\n",
              "    }\n",
              "  }\n",
              "</style>\n",
              "\n",
              "  <script>\n",
              "    async function quickchart(key) {\n",
              "      const quickchartButtonEl =\n",
              "        document.querySelector('#' + key + ' button');\n",
              "      quickchartButtonEl.disabled = true;  // To prevent multiple clicks.\n",
              "      quickchartButtonEl.classList.add('colab-df-spinner');\n",
              "      try {\n",
              "        const charts = await google.colab.kernel.invokeFunction(\n",
              "            'suggestCharts', [key], {});\n",
              "      } catch (error) {\n",
              "        console.error('Error during call to suggestCharts:', error);\n",
              "      }\n",
              "      quickchartButtonEl.classList.remove('colab-df-spinner');\n",
              "      quickchartButtonEl.classList.add('colab-df-quickchart-complete');\n",
              "    }\n",
              "    (() => {\n",
              "      let quickchartButtonEl =\n",
              "        document.querySelector('#df-563dfc8e-00d3-4fdc-ad9b-8336efc0b667 button');\n",
              "      quickchartButtonEl.style.display =\n",
              "        google.colab.kernel.accessAllowed ? 'block' : 'none';\n",
              "    })();\n",
              "  </script>\n",
              "</div>\n",
              "\n",
              "    </div>\n",
              "  </div>\n"
            ],
            "application/vnd.google.colaboratory.intrinsic+json": {
              "type": "dataframe",
              "summary": "{\n  \"name\": \"data_americas\",\n  \"rows\": 8,\n  \"fields\": [\n    {\n      \"column\": \"gdpPercap_1952\",\n      \"properties\": {\n        \"dtype\": \"number\",\n        \"std\": 4255.480457334696,\n        \"min\": 25.0,\n        \"max\": 13990.48208,\n        \"num_unique_values\": 8,\n        \"samples\": [\n          4079.0625522,\n          3048.3029,\n          25.0\n        ],\n        \"semantic_type\": \"\",\n        \"description\": \"\"\n      }\n    },\n    {\n      \"column\": \"gdpPercap_1957\",\n      \"properties\": {\n        \"dtype\": \"number\",\n        \"std\": 4501.3097982778145,\n        \"min\": 25.0,\n        \"max\": 14847.12712,\n        \"num_unique_values\": 8,\n        \"samples\": [\n          4616.043733160001,\n          3780.546651,\n          25.0\n        ],\n        \"semantic_type\": \"\",\n        \"description\": \"\"\n      }\n    },\n    {\n      \"column\": \"gdpPercap_1962\",\n      \"properties\": {\n        \"dtype\": \"number\",\n        \"std\": 4909.987162032589,\n        \"min\": 25.0,\n        \"max\": 16173.14586,\n        \"num_unique_values\": 8,\n        \"samples\": [\n          4901.5418704,\n          4086.114078,\n          25.0\n        ],\n        \"semantic_type\": \"\",\n        \"description\": \"\"\n      }\n    },\n    {\n      \"column\": \"gdpPercap_1967\",\n      \"properties\": {\n        \"dtype\": \"number\",\n        \"std\": 5987.063534782346,\n        \"min\": 25.0,\n        \"max\": 19530.36557,\n        \"num_unique_values\": 8,\n        \"samples\": [\n          5668.25349604,\n          4643.393534,\n          25.0\n        ],\n        \"semantic_type\": \"\",\n        \"description\": \"\"\n      }\n    },\n    {\n      \"column\": \"gdpPercap_1972\",\n      \"properties\": {\n        \"dtype\": \"number\",\n        \"std\": 6656.746991299135,\n        \"min\": 25.0,\n        \"max\": 21806.03594,\n        \"num_unique_values\": 8,\n        \"samples\": [\n          6491.334139039999,\n          5305.445256,\n          25.0\n        ],\n        \"semantic_type\": \"\",\n        \"description\": \"\"\n      }\n    },\n    {\n      \"column\": \"gdpPercap_1977\",\n      \"properties\": {\n        \"dtype\": \"number\",\n        \"std\": 7319.132915579492,\n        \"min\": 25.0,\n        \"max\": 24072.63213,\n        \"num_unique_values\": 8,\n        \"samples\": [\n          7352.007126280001,\n          6281.290855,\n          25.0\n        ],\n        \"semantic_type\": \"\",\n        \"description\": \"\"\n      }\n    },\n    {\n      \"column\": \"gdpPercap_1982\",\n      \"properties\": {\n        \"dtype\": \"number\",\n        \"std\": 7656.4310771882465,\n        \"min\": 25.0,\n        \"max\": 25009.55914,\n        \"num_unique_values\": 8,\n        \"samples\": [\n          7506.73708808,\n          6434.501797,\n          25.0\n        ],\n        \"semantic_type\": \"\",\n        \"description\": \"\"\n      }\n    },\n    {\n      \"column\": \"gdpPercap_1987\",\n      \"properties\": {\n        \"dtype\": \"number\",\n        \"std\": 9258.92694222082,\n        \"min\": 25.0,\n        \"max\": 29884.35041,\n        \"num_unique_values\": 8,\n        \"samples\": [\n          7793.40026112,\n          6360.943444,\n          25.0\n        ],\n        \"semantic_type\": \"\",\n        \"description\": \"\"\n      }\n    },\n    {\n      \"column\": \"gdpPercap_1992\",\n      \"properties\": {\n        \"dtype\": \"number\",\n        \"std\": 9973.855444712515,\n        \"min\": 25.0,\n        \"max\": 32003.93224,\n        \"num_unique_values\": 8,\n        \"samples\": [\n          8044.93440552,\n          6618.74305,\n          25.0\n        ],\n        \"semantic_type\": \"\",\n        \"description\": \"\"\n      }\n    },\n    {\n      \"column\": \"gdpPercap_1997\",\n      \"properties\": {\n        \"dtype\": \"number\",\n        \"std\": 11201.070601833684,\n        \"min\": 25.0,\n        \"max\": 35767.43303,\n        \"num_unique_values\": 8,\n        \"samples\": [\n          8889.300862559998,\n          7113.692252,\n          25.0\n        ],\n        \"semantic_type\": \"\",\n        \"description\": \"\"\n      }\n    },\n    {\n      \"column\": \"gdpPercap_2002\",\n      \"properties\": {\n        \"dtype\": \"number\",\n        \"std\": 12310.935148441587,\n        \"min\": 25.0,\n        \"max\": 39097.09955,\n        \"num_unique_values\": 8,\n        \"samples\": [\n          9287.67710732,\n          6994.774861,\n          25.0\n        ],\n        \"semantic_type\": \"\",\n        \"description\": \"\"\n      }\n    },\n    {\n      \"column\": \"gdpPercap_2007\",\n      \"properties\": {\n        \"dtype\": \"number\",\n        \"std\": 13471.688133627827,\n        \"min\": 25.0,\n        \"max\": 42951.65309,\n        \"num_unique_values\": 8,\n        \"samples\": [\n          11003.03162536,\n          8948.102923,\n          25.0\n        ],\n        \"semantic_type\": \"\",\n        \"description\": \"\"\n      }\n    }\n  ]\n}"
            }
          },
          "metadata": {},
          "execution_count": 91
        }
      ]
    },
    {
      "cell_type": "code",
      "source": [
        "data_americas.iloc[2,3]"
      ],
      "metadata": {
        "colab": {
          "base_uri": "https://localhost:8080/"
        },
        "id": "DliXyyfMp1FV",
        "outputId": "e0c11eaf-4bd2-467f-b026-894d36834598"
      },
      "execution_count": 92,
      "outputs": [
        {
          "output_type": "execute_result",
          "data": {
            "text/plain": [
              "np.float64(3336.585802)"
            ]
          },
          "metadata": {},
          "execution_count": 92
        }
      ]
    },
    {
      "cell_type": "code",
      "source": [
        "data_americas.head()"
      ],
      "metadata": {
        "colab": {
          "base_uri": "https://localhost:8080/",
          "height": 257
        },
        "id": "4M3DYRqgsrGo",
        "outputId": "aebf0f9c-d150-4a58-c6ab-7be51a49c61b"
      },
      "execution_count": 93,
      "outputs": [
        {
          "output_type": "execute_result",
          "data": {
            "text/plain": [
              "          continent  gdpPercap_1952  gdpPercap_1957  gdpPercap_1962  \\\n",
              "country                                                               \n",
              "Argentina  Americas     5911.315053     6856.856212     7133.166023   \n",
              "Bolivia    Americas     2677.326347     2127.686326     2180.972546   \n",
              "Brazil     Americas     2108.944355     2487.365989     3336.585802   \n",
              "Canada     Americas    11367.161120    12489.950060    13462.485550   \n",
              "Chile      Americas     3939.978789     4315.622723     4519.094331   \n",
              "\n",
              "           gdpPercap_1967  gdpPercap_1972  gdpPercap_1977  gdpPercap_1982  \\\n",
              "country                                                                     \n",
              "Argentina     8052.953021     9443.038526    10079.026740     8997.897412   \n",
              "Bolivia       2586.886053     2980.331339     3548.097832     3156.510452   \n",
              "Brazil        3429.864357     4985.711467     6660.118654     7030.835878   \n",
              "Canada       16076.588030    18970.570860    22090.883060    22898.792140   \n",
              "Chile         5106.654313     5494.024437     4756.763836     5095.665738   \n",
              "\n",
              "           gdpPercap_1987  gdpPercap_1992  gdpPercap_1997  gdpPercap_2002  \\\n",
              "country                                                                     \n",
              "Argentina     9139.671389     9308.418710    10967.281950     8797.640716   \n",
              "Bolivia       2753.691490     2961.699694     3326.143191     3413.262690   \n",
              "Brazil        7807.095818     6950.283021     7957.980824     8131.212843   \n",
              "Canada       26626.515030    26342.884260    28954.925890    33328.965070   \n",
              "Chile         5547.063754     7596.125964    10118.053180    10778.783850   \n",
              "\n",
              "           gdpPercap_2007  \n",
              "country                    \n",
              "Argentina    12779.379640  \n",
              "Bolivia       3822.137084  \n",
              "Brazil        9065.800825  \n",
              "Canada       36319.235010  \n",
              "Chile        13171.638850  "
            ],
            "text/html": [
              "\n",
              "  <div id=\"df-747151e3-5dbf-40b7-bea4-6c06bc7db815\" class=\"colab-df-container\">\n",
              "    <div>\n",
              "<style scoped>\n",
              "    .dataframe tbody tr th:only-of-type {\n",
              "        vertical-align: middle;\n",
              "    }\n",
              "\n",
              "    .dataframe tbody tr th {\n",
              "        vertical-align: top;\n",
              "    }\n",
              "\n",
              "    .dataframe thead th {\n",
              "        text-align: right;\n",
              "    }\n",
              "</style>\n",
              "<table border=\"1\" class=\"dataframe\">\n",
              "  <thead>\n",
              "    <tr style=\"text-align: right;\">\n",
              "      <th></th>\n",
              "      <th>continent</th>\n",
              "      <th>gdpPercap_1952</th>\n",
              "      <th>gdpPercap_1957</th>\n",
              "      <th>gdpPercap_1962</th>\n",
              "      <th>gdpPercap_1967</th>\n",
              "      <th>gdpPercap_1972</th>\n",
              "      <th>gdpPercap_1977</th>\n",
              "      <th>gdpPercap_1982</th>\n",
              "      <th>gdpPercap_1987</th>\n",
              "      <th>gdpPercap_1992</th>\n",
              "      <th>gdpPercap_1997</th>\n",
              "      <th>gdpPercap_2002</th>\n",
              "      <th>gdpPercap_2007</th>\n",
              "    </tr>\n",
              "    <tr>\n",
              "      <th>country</th>\n",
              "      <th></th>\n",
              "      <th></th>\n",
              "      <th></th>\n",
              "      <th></th>\n",
              "      <th></th>\n",
              "      <th></th>\n",
              "      <th></th>\n",
              "      <th></th>\n",
              "      <th></th>\n",
              "      <th></th>\n",
              "      <th></th>\n",
              "      <th></th>\n",
              "      <th></th>\n",
              "    </tr>\n",
              "  </thead>\n",
              "  <tbody>\n",
              "    <tr>\n",
              "      <th>Argentina</th>\n",
              "      <td>Americas</td>\n",
              "      <td>5911.315053</td>\n",
              "      <td>6856.856212</td>\n",
              "      <td>7133.166023</td>\n",
              "      <td>8052.953021</td>\n",
              "      <td>9443.038526</td>\n",
              "      <td>10079.026740</td>\n",
              "      <td>8997.897412</td>\n",
              "      <td>9139.671389</td>\n",
              "      <td>9308.418710</td>\n",
              "      <td>10967.281950</td>\n",
              "      <td>8797.640716</td>\n",
              "      <td>12779.379640</td>\n",
              "    </tr>\n",
              "    <tr>\n",
              "      <th>Bolivia</th>\n",
              "      <td>Americas</td>\n",
              "      <td>2677.326347</td>\n",
              "      <td>2127.686326</td>\n",
              "      <td>2180.972546</td>\n",
              "      <td>2586.886053</td>\n",
              "      <td>2980.331339</td>\n",
              "      <td>3548.097832</td>\n",
              "      <td>3156.510452</td>\n",
              "      <td>2753.691490</td>\n",
              "      <td>2961.699694</td>\n",
              "      <td>3326.143191</td>\n",
              "      <td>3413.262690</td>\n",
              "      <td>3822.137084</td>\n",
              "    </tr>\n",
              "    <tr>\n",
              "      <th>Brazil</th>\n",
              "      <td>Americas</td>\n",
              "      <td>2108.944355</td>\n",
              "      <td>2487.365989</td>\n",
              "      <td>3336.585802</td>\n",
              "      <td>3429.864357</td>\n",
              "      <td>4985.711467</td>\n",
              "      <td>6660.118654</td>\n",
              "      <td>7030.835878</td>\n",
              "      <td>7807.095818</td>\n",
              "      <td>6950.283021</td>\n",
              "      <td>7957.980824</td>\n",
              "      <td>8131.212843</td>\n",
              "      <td>9065.800825</td>\n",
              "    </tr>\n",
              "    <tr>\n",
              "      <th>Canada</th>\n",
              "      <td>Americas</td>\n",
              "      <td>11367.161120</td>\n",
              "      <td>12489.950060</td>\n",
              "      <td>13462.485550</td>\n",
              "      <td>16076.588030</td>\n",
              "      <td>18970.570860</td>\n",
              "      <td>22090.883060</td>\n",
              "      <td>22898.792140</td>\n",
              "      <td>26626.515030</td>\n",
              "      <td>26342.884260</td>\n",
              "      <td>28954.925890</td>\n",
              "      <td>33328.965070</td>\n",
              "      <td>36319.235010</td>\n",
              "    </tr>\n",
              "    <tr>\n",
              "      <th>Chile</th>\n",
              "      <td>Americas</td>\n",
              "      <td>3939.978789</td>\n",
              "      <td>4315.622723</td>\n",
              "      <td>4519.094331</td>\n",
              "      <td>5106.654313</td>\n",
              "      <td>5494.024437</td>\n",
              "      <td>4756.763836</td>\n",
              "      <td>5095.665738</td>\n",
              "      <td>5547.063754</td>\n",
              "      <td>7596.125964</td>\n",
              "      <td>10118.053180</td>\n",
              "      <td>10778.783850</td>\n",
              "      <td>13171.638850</td>\n",
              "    </tr>\n",
              "  </tbody>\n",
              "</table>\n",
              "</div>\n",
              "    <div class=\"colab-df-buttons\">\n",
              "\n",
              "  <div class=\"colab-df-container\">\n",
              "    <button class=\"colab-df-convert\" onclick=\"convertToInteractive('df-747151e3-5dbf-40b7-bea4-6c06bc7db815')\"\n",
              "            title=\"Convert this dataframe to an interactive table.\"\n",
              "            style=\"display:none;\">\n",
              "\n",
              "  <svg xmlns=\"http://www.w3.org/2000/svg\" height=\"24px\" viewBox=\"0 -960 960 960\">\n",
              "    <path d=\"M120-120v-720h720v720H120Zm60-500h600v-160H180v160Zm220 220h160v-160H400v160Zm0 220h160v-160H400v160ZM180-400h160v-160H180v160Zm440 0h160v-160H620v160ZM180-180h160v-160H180v160Zm440 0h160v-160H620v160Z\"/>\n",
              "  </svg>\n",
              "    </button>\n",
              "\n",
              "  <style>\n",
              "    .colab-df-container {\n",
              "      display:flex;\n",
              "      gap: 12px;\n",
              "    }\n",
              "\n",
              "    .colab-df-convert {\n",
              "      background-color: #E8F0FE;\n",
              "      border: none;\n",
              "      border-radius: 50%;\n",
              "      cursor: pointer;\n",
              "      display: none;\n",
              "      fill: #1967D2;\n",
              "      height: 32px;\n",
              "      padding: 0 0 0 0;\n",
              "      width: 32px;\n",
              "    }\n",
              "\n",
              "    .colab-df-convert:hover {\n",
              "      background-color: #E2EBFA;\n",
              "      box-shadow: 0px 1px 2px rgba(60, 64, 67, 0.3), 0px 1px 3px 1px rgba(60, 64, 67, 0.15);\n",
              "      fill: #174EA6;\n",
              "    }\n",
              "\n",
              "    .colab-df-buttons div {\n",
              "      margin-bottom: 4px;\n",
              "    }\n",
              "\n",
              "    [theme=dark] .colab-df-convert {\n",
              "      background-color: #3B4455;\n",
              "      fill: #D2E3FC;\n",
              "    }\n",
              "\n",
              "    [theme=dark] .colab-df-convert:hover {\n",
              "      background-color: #434B5C;\n",
              "      box-shadow: 0px 1px 3px 1px rgba(0, 0, 0, 0.15);\n",
              "      filter: drop-shadow(0px 1px 2px rgba(0, 0, 0, 0.3));\n",
              "      fill: #FFFFFF;\n",
              "    }\n",
              "  </style>\n",
              "\n",
              "    <script>\n",
              "      const buttonEl =\n",
              "        document.querySelector('#df-747151e3-5dbf-40b7-bea4-6c06bc7db815 button.colab-df-convert');\n",
              "      buttonEl.style.display =\n",
              "        google.colab.kernel.accessAllowed ? 'block' : 'none';\n",
              "\n",
              "      async function convertToInteractive(key) {\n",
              "        const element = document.querySelector('#df-747151e3-5dbf-40b7-bea4-6c06bc7db815');\n",
              "        const dataTable =\n",
              "          await google.colab.kernel.invokeFunction('convertToInteractive',\n",
              "                                                    [key], {});\n",
              "        if (!dataTable) return;\n",
              "\n",
              "        const docLinkHtml = 'Like what you see? Visit the ' +\n",
              "          '<a target=\"_blank\" href=https://colab.research.google.com/notebooks/data_table.ipynb>data table notebook</a>'\n",
              "          + ' to learn more about interactive tables.';\n",
              "        element.innerHTML = '';\n",
              "        dataTable['output_type'] = 'display_data';\n",
              "        await google.colab.output.renderOutput(dataTable, element);\n",
              "        const docLink = document.createElement('div');\n",
              "        docLink.innerHTML = docLinkHtml;\n",
              "        element.appendChild(docLink);\n",
              "      }\n",
              "    </script>\n",
              "  </div>\n",
              "\n",
              "\n",
              "<div id=\"df-46311990-06c0-4183-b396-f41ff8bb6016\">\n",
              "  <button class=\"colab-df-quickchart\" onclick=\"quickchart('df-46311990-06c0-4183-b396-f41ff8bb6016')\"\n",
              "            title=\"Suggest charts\"\n",
              "            style=\"display:none;\">\n",
              "\n",
              "<svg xmlns=\"http://www.w3.org/2000/svg\" height=\"24px\"viewBox=\"0 0 24 24\"\n",
              "     width=\"24px\">\n",
              "    <g>\n",
              "        <path d=\"M19 3H5c-1.1 0-2 .9-2 2v14c0 1.1.9 2 2 2h14c1.1 0 2-.9 2-2V5c0-1.1-.9-2-2-2zM9 17H7v-7h2v7zm4 0h-2V7h2v10zm4 0h-2v-4h2v4z\"/>\n",
              "    </g>\n",
              "</svg>\n",
              "  </button>\n",
              "\n",
              "<style>\n",
              "  .colab-df-quickchart {\n",
              "      --bg-color: #E8F0FE;\n",
              "      --fill-color: #1967D2;\n",
              "      --hover-bg-color: #E2EBFA;\n",
              "      --hover-fill-color: #174EA6;\n",
              "      --disabled-fill-color: #AAA;\n",
              "      --disabled-bg-color: #DDD;\n",
              "  }\n",
              "\n",
              "  [theme=dark] .colab-df-quickchart {\n",
              "      --bg-color: #3B4455;\n",
              "      --fill-color: #D2E3FC;\n",
              "      --hover-bg-color: #434B5C;\n",
              "      --hover-fill-color: #FFFFFF;\n",
              "      --disabled-bg-color: #3B4455;\n",
              "      --disabled-fill-color: #666;\n",
              "  }\n",
              "\n",
              "  .colab-df-quickchart {\n",
              "    background-color: var(--bg-color);\n",
              "    border: none;\n",
              "    border-radius: 50%;\n",
              "    cursor: pointer;\n",
              "    display: none;\n",
              "    fill: var(--fill-color);\n",
              "    height: 32px;\n",
              "    padding: 0;\n",
              "    width: 32px;\n",
              "  }\n",
              "\n",
              "  .colab-df-quickchart:hover {\n",
              "    background-color: var(--hover-bg-color);\n",
              "    box-shadow: 0 1px 2px rgba(60, 64, 67, 0.3), 0 1px 3px 1px rgba(60, 64, 67, 0.15);\n",
              "    fill: var(--button-hover-fill-color);\n",
              "  }\n",
              "\n",
              "  .colab-df-quickchart-complete:disabled,\n",
              "  .colab-df-quickchart-complete:disabled:hover {\n",
              "    background-color: var(--disabled-bg-color);\n",
              "    fill: var(--disabled-fill-color);\n",
              "    box-shadow: none;\n",
              "  }\n",
              "\n",
              "  .colab-df-spinner {\n",
              "    border: 2px solid var(--fill-color);\n",
              "    border-color: transparent;\n",
              "    border-bottom-color: var(--fill-color);\n",
              "    animation:\n",
              "      spin 1s steps(1) infinite;\n",
              "  }\n",
              "\n",
              "  @keyframes spin {\n",
              "    0% {\n",
              "      border-color: transparent;\n",
              "      border-bottom-color: var(--fill-color);\n",
              "      border-left-color: var(--fill-color);\n",
              "    }\n",
              "    20% {\n",
              "      border-color: transparent;\n",
              "      border-left-color: var(--fill-color);\n",
              "      border-top-color: var(--fill-color);\n",
              "    }\n",
              "    30% {\n",
              "      border-color: transparent;\n",
              "      border-left-color: var(--fill-color);\n",
              "      border-top-color: var(--fill-color);\n",
              "      border-right-color: var(--fill-color);\n",
              "    }\n",
              "    40% {\n",
              "      border-color: transparent;\n",
              "      border-right-color: var(--fill-color);\n",
              "      border-top-color: var(--fill-color);\n",
              "    }\n",
              "    60% {\n",
              "      border-color: transparent;\n",
              "      border-right-color: var(--fill-color);\n",
              "    }\n",
              "    80% {\n",
              "      border-color: transparent;\n",
              "      border-right-color: var(--fill-color);\n",
              "      border-bottom-color: var(--fill-color);\n",
              "    }\n",
              "    90% {\n",
              "      border-color: transparent;\n",
              "      border-bottom-color: var(--fill-color);\n",
              "    }\n",
              "  }\n",
              "</style>\n",
              "\n",
              "  <script>\n",
              "    async function quickchart(key) {\n",
              "      const quickchartButtonEl =\n",
              "        document.querySelector('#' + key + ' button');\n",
              "      quickchartButtonEl.disabled = true;  // To prevent multiple clicks.\n",
              "      quickchartButtonEl.classList.add('colab-df-spinner');\n",
              "      try {\n",
              "        const charts = await google.colab.kernel.invokeFunction(\n",
              "            'suggestCharts', [key], {});\n",
              "      } catch (error) {\n",
              "        console.error('Error during call to suggestCharts:', error);\n",
              "      }\n",
              "      quickchartButtonEl.classList.remove('colab-df-spinner');\n",
              "      quickchartButtonEl.classList.add('colab-df-quickchart-complete');\n",
              "    }\n",
              "    (() => {\n",
              "      let quickchartButtonEl =\n",
              "        document.querySelector('#df-46311990-06c0-4183-b396-f41ff8bb6016 button');\n",
              "      quickchartButtonEl.style.display =\n",
              "        google.colab.kernel.accessAllowed ? 'block' : 'none';\n",
              "    })();\n",
              "  </script>\n",
              "</div>\n",
              "\n",
              "    </div>\n",
              "  </div>\n"
            ],
            "application/vnd.google.colaboratory.intrinsic+json": {
              "type": "dataframe",
              "variable_name": "data_americas",
              "summary": "{\n  \"name\": \"data_americas\",\n  \"rows\": 25,\n  \"fields\": [\n    {\n      \"column\": \"country\",\n      \"properties\": {\n        \"dtype\": \"string\",\n        \"num_unique_values\": 25,\n        \"samples\": [\n          \"Dominican Republic\",\n          \"Nicaragua\",\n          \"Argentina\"\n        ],\n        \"semantic_type\": \"\",\n        \"description\": \"\"\n      }\n    },\n    {\n      \"column\": \"continent\",\n      \"properties\": {\n        \"dtype\": \"category\",\n        \"num_unique_values\": 1,\n        \"samples\": [\n          \"Americas\"\n        ],\n        \"semantic_type\": \"\",\n        \"description\": \"\"\n      }\n    },\n    {\n      \"column\": \"gdpPercap_1952\",\n      \"properties\": {\n        \"dtype\": \"number\",\n        \"std\": 3001.7275216326566,\n        \"min\": 1397.717137,\n        \"max\": 13990.48208,\n        \"num_unique_values\": 25,\n        \"samples\": [\n          1397.717137\n        ],\n        \"semantic_type\": \"\",\n        \"description\": \"\"\n      }\n    },\n    {\n      \"column\": \"gdpPercap_1957\",\n      \"properties\": {\n        \"dtype\": \"number\",\n        \"std\": 3312.3810829210124,\n        \"min\": 1544.402995,\n        \"max\": 14847.12712,\n        \"num_unique_values\": 25,\n        \"samples\": [\n          1544.402995\n        ],\n        \"semantic_type\": \"\",\n        \"description\": \"\"\n      }\n    },\n    {\n      \"column\": \"gdpPercap_1962\",\n      \"properties\": {\n        \"dtype\": \"number\",\n        \"std\": 3421.740568771563,\n        \"min\": 1662.137359,\n        \"max\": 16173.14586,\n        \"num_unique_values\": 25,\n        \"samples\": [\n          1662.137359\n        ],\n        \"semantic_type\": \"\",\n        \"description\": \"\"\n      }\n    },\n    {\n      \"column\": \"gdpPercap_1967\",\n      \"properties\": {\n        \"dtype\": \"number\",\n        \"std\": 4160.885559590396,\n        \"min\": 1452.057666,\n        \"max\": 19530.36557,\n        \"num_unique_values\": 25,\n        \"samples\": [\n          1653.723003\n        ],\n        \"semantic_type\": \"\",\n        \"description\": \"\"\n      }\n    },\n    {\n      \"column\": \"gdpPercap_1972\",\n      \"properties\": {\n        \"dtype\": \"number\",\n        \"std\": 4754.40432881002,\n        \"min\": 1654.456946,\n        \"max\": 21806.03594,\n        \"num_unique_values\": 25,\n        \"samples\": [\n          2189.874499\n        ],\n        \"semantic_type\": \"\",\n        \"description\": \"\"\n      }\n    },\n    {\n      \"column\": \"gdpPercap_1977\",\n      \"properties\": {\n        \"dtype\": \"number\",\n        \"std\": 5355.602518251342,\n        \"min\": 1874.298931,\n        \"max\": 24072.63213,\n        \"num_unique_values\": 25,\n        \"samples\": [\n          2681.9889\n        ],\n        \"semantic_type\": \"\",\n        \"description\": \"\"\n      }\n    },\n    {\n      \"column\": \"gdpPercap_1982\",\n      \"properties\": {\n        \"dtype\": \"number\",\n        \"std\": 5530.49047115146,\n        \"min\": 2011.159549,\n        \"max\": 25009.55914,\n        \"num_unique_values\": 25,\n        \"samples\": [\n          2861.092386\n        ],\n        \"semantic_type\": \"\",\n        \"description\": \"\"\n      }\n    },\n    {\n      \"column\": \"gdpPercap_1987\",\n      \"properties\": {\n        \"dtype\": \"number\",\n        \"std\": 6665.039508729742,\n        \"min\": 1823.015995,\n        \"max\": 29884.35041,\n        \"num_unique_values\": 25,\n        \"samples\": [\n          2899.842175\n        ],\n        \"semantic_type\": \"\",\n        \"description\": \"\"\n      }\n    },\n    {\n      \"column\": \"gdpPercap_1992\",\n      \"properties\": {\n        \"dtype\": \"number\",\n        \"std\": 7047.08919137503,\n        \"min\": 1456.309517,\n        \"max\": 32003.93224,\n        \"num_unique_values\": 25,\n        \"samples\": [\n          3044.214214\n        ],\n        \"semantic_type\": \"\",\n        \"description\": \"\"\n      }\n    },\n    {\n      \"column\": \"gdpPercap_1997\",\n      \"properties\": {\n        \"dtype\": \"number\",\n        \"std\": 7874.225144658293,\n        \"min\": 1341.726931,\n        \"max\": 35767.43303,\n        \"num_unique_values\": 25,\n        \"samples\": [\n          3614.101285\n        ],\n        \"semantic_type\": \"\",\n        \"description\": \"\"\n      }\n    },\n    {\n      \"column\": \"gdpPercap_2002\",\n      \"properties\": {\n        \"dtype\": \"number\",\n        \"std\": 8895.817785335206,\n        \"min\": 1270.364932,\n        \"max\": 39097.09955,\n        \"num_unique_values\": 25,\n        \"samples\": [\n          4563.808154\n        ],\n        \"semantic_type\": \"\",\n        \"description\": \"\"\n      }\n    },\n    {\n      \"column\": \"gdpPercap_2007\",\n      \"properties\": {\n        \"dtype\": \"number\",\n        \"std\": 9713.20930239591,\n        \"min\": 1201.637154,\n        \"max\": 42951.65309,\n        \"num_unique_values\": 25,\n        \"samples\": [\n          6025.374752\n        ],\n        \"semantic_type\": \"\",\n        \"description\": \"\"\n      }\n    }\n  ]\n}"
            }
          },
          "metadata": {},
          "execution_count": 93
        }
      ]
    },
    {
      "cell_type": "code",
      "source": [
        "data_americas.loc[\"Argentina\", \"gdpPercap_1952\"]"
      ],
      "metadata": {
        "colab": {
          "base_uri": "https://localhost:8080/"
        },
        "id": "bMg7nJdIs08q",
        "outputId": "58d793ca-0de5-4365-f951-760d9af26910"
      },
      "execution_count": 94,
      "outputs": [
        {
          "output_type": "execute_result",
          "data": {
            "text/plain": [
              "np.float64(5911.315053)"
            ]
          },
          "metadata": {},
          "execution_count": 94
        }
      ]
    },
    {
      "cell_type": "code",
      "source": [
        "#import numpy as np\n",
        "#get GDP for Argentina in 192\n",
        "print(data_americas.loc[\"Argentina\", \"gdpPercap_1952\"])\n"
      ],
      "metadata": {
        "colab": {
          "base_uri": "https://localhost:8080/"
        },
        "id": "pR2jW9JTtK8T",
        "outputId": "5708f03c-f5c1-41e8-b372-c08fa6cddc61"
      },
      "execution_count": 96,
      "outputs": [
        {
          "output_type": "stream",
          "name": "stdout",
          "text": [
            "5911.315053\n"
          ]
        }
      ]
    },
    {
      "cell_type": "code",
      "source": [
        "#dropping a column but making a backup so we don't permanently alter dataframe\n",
        "data = data_americas.drop(\"continent\", axis = 1)\n",
        "data.head()"
      ],
      "metadata": {
        "colab": {
          "base_uri": "https://localhost:8080/",
          "height": 257
        },
        "id": "Te9H-9sct0in",
        "outputId": "325946c4-7f7d-4e0b-bd8c-cffef36e3d61"
      },
      "execution_count": 98,
      "outputs": [
        {
          "output_type": "execute_result",
          "data": {
            "text/plain": [
              "           gdpPercap_1952  gdpPercap_1957  gdpPercap_1962  gdpPercap_1967  \\\n",
              "country                                                                     \n",
              "Argentina     5911.315053     6856.856212     7133.166023     8052.953021   \n",
              "Bolivia       2677.326347     2127.686326     2180.972546     2586.886053   \n",
              "Brazil        2108.944355     2487.365989     3336.585802     3429.864357   \n",
              "Canada       11367.161120    12489.950060    13462.485550    16076.588030   \n",
              "Chile         3939.978789     4315.622723     4519.094331     5106.654313   \n",
              "\n",
              "           gdpPercap_1972  gdpPercap_1977  gdpPercap_1982  gdpPercap_1987  \\\n",
              "country                                                                     \n",
              "Argentina     9443.038526    10079.026740     8997.897412     9139.671389   \n",
              "Bolivia       2980.331339     3548.097832     3156.510452     2753.691490   \n",
              "Brazil        4985.711467     6660.118654     7030.835878     7807.095818   \n",
              "Canada       18970.570860    22090.883060    22898.792140    26626.515030   \n",
              "Chile         5494.024437     4756.763836     5095.665738     5547.063754   \n",
              "\n",
              "           gdpPercap_1992  gdpPercap_1997  gdpPercap_2002  gdpPercap_2007  \n",
              "country                                                                    \n",
              "Argentina     9308.418710    10967.281950     8797.640716    12779.379640  \n",
              "Bolivia       2961.699694     3326.143191     3413.262690     3822.137084  \n",
              "Brazil        6950.283021     7957.980824     8131.212843     9065.800825  \n",
              "Canada       26342.884260    28954.925890    33328.965070    36319.235010  \n",
              "Chile         7596.125964    10118.053180    10778.783850    13171.638850  "
            ],
            "text/html": [
              "\n",
              "  <div id=\"df-e193d6bd-46bf-4bb7-9361-ae506e86cfae\" class=\"colab-df-container\">\n",
              "    <div>\n",
              "<style scoped>\n",
              "    .dataframe tbody tr th:only-of-type {\n",
              "        vertical-align: middle;\n",
              "    }\n",
              "\n",
              "    .dataframe tbody tr th {\n",
              "        vertical-align: top;\n",
              "    }\n",
              "\n",
              "    .dataframe thead th {\n",
              "        text-align: right;\n",
              "    }\n",
              "</style>\n",
              "<table border=\"1\" class=\"dataframe\">\n",
              "  <thead>\n",
              "    <tr style=\"text-align: right;\">\n",
              "      <th></th>\n",
              "      <th>gdpPercap_1952</th>\n",
              "      <th>gdpPercap_1957</th>\n",
              "      <th>gdpPercap_1962</th>\n",
              "      <th>gdpPercap_1967</th>\n",
              "      <th>gdpPercap_1972</th>\n",
              "      <th>gdpPercap_1977</th>\n",
              "      <th>gdpPercap_1982</th>\n",
              "      <th>gdpPercap_1987</th>\n",
              "      <th>gdpPercap_1992</th>\n",
              "      <th>gdpPercap_1997</th>\n",
              "      <th>gdpPercap_2002</th>\n",
              "      <th>gdpPercap_2007</th>\n",
              "    </tr>\n",
              "    <tr>\n",
              "      <th>country</th>\n",
              "      <th></th>\n",
              "      <th></th>\n",
              "      <th></th>\n",
              "      <th></th>\n",
              "      <th></th>\n",
              "      <th></th>\n",
              "      <th></th>\n",
              "      <th></th>\n",
              "      <th></th>\n",
              "      <th></th>\n",
              "      <th></th>\n",
              "      <th></th>\n",
              "    </tr>\n",
              "  </thead>\n",
              "  <tbody>\n",
              "    <tr>\n",
              "      <th>Argentina</th>\n",
              "      <td>5911.315053</td>\n",
              "      <td>6856.856212</td>\n",
              "      <td>7133.166023</td>\n",
              "      <td>8052.953021</td>\n",
              "      <td>9443.038526</td>\n",
              "      <td>10079.026740</td>\n",
              "      <td>8997.897412</td>\n",
              "      <td>9139.671389</td>\n",
              "      <td>9308.418710</td>\n",
              "      <td>10967.281950</td>\n",
              "      <td>8797.640716</td>\n",
              "      <td>12779.379640</td>\n",
              "    </tr>\n",
              "    <tr>\n",
              "      <th>Bolivia</th>\n",
              "      <td>2677.326347</td>\n",
              "      <td>2127.686326</td>\n",
              "      <td>2180.972546</td>\n",
              "      <td>2586.886053</td>\n",
              "      <td>2980.331339</td>\n",
              "      <td>3548.097832</td>\n",
              "      <td>3156.510452</td>\n",
              "      <td>2753.691490</td>\n",
              "      <td>2961.699694</td>\n",
              "      <td>3326.143191</td>\n",
              "      <td>3413.262690</td>\n",
              "      <td>3822.137084</td>\n",
              "    </tr>\n",
              "    <tr>\n",
              "      <th>Brazil</th>\n",
              "      <td>2108.944355</td>\n",
              "      <td>2487.365989</td>\n",
              "      <td>3336.585802</td>\n",
              "      <td>3429.864357</td>\n",
              "      <td>4985.711467</td>\n",
              "      <td>6660.118654</td>\n",
              "      <td>7030.835878</td>\n",
              "      <td>7807.095818</td>\n",
              "      <td>6950.283021</td>\n",
              "      <td>7957.980824</td>\n",
              "      <td>8131.212843</td>\n",
              "      <td>9065.800825</td>\n",
              "    </tr>\n",
              "    <tr>\n",
              "      <th>Canada</th>\n",
              "      <td>11367.161120</td>\n",
              "      <td>12489.950060</td>\n",
              "      <td>13462.485550</td>\n",
              "      <td>16076.588030</td>\n",
              "      <td>18970.570860</td>\n",
              "      <td>22090.883060</td>\n",
              "      <td>22898.792140</td>\n",
              "      <td>26626.515030</td>\n",
              "      <td>26342.884260</td>\n",
              "      <td>28954.925890</td>\n",
              "      <td>33328.965070</td>\n",
              "      <td>36319.235010</td>\n",
              "    </tr>\n",
              "    <tr>\n",
              "      <th>Chile</th>\n",
              "      <td>3939.978789</td>\n",
              "      <td>4315.622723</td>\n",
              "      <td>4519.094331</td>\n",
              "      <td>5106.654313</td>\n",
              "      <td>5494.024437</td>\n",
              "      <td>4756.763836</td>\n",
              "      <td>5095.665738</td>\n",
              "      <td>5547.063754</td>\n",
              "      <td>7596.125964</td>\n",
              "      <td>10118.053180</td>\n",
              "      <td>10778.783850</td>\n",
              "      <td>13171.638850</td>\n",
              "    </tr>\n",
              "  </tbody>\n",
              "</table>\n",
              "</div>\n",
              "    <div class=\"colab-df-buttons\">\n",
              "\n",
              "  <div class=\"colab-df-container\">\n",
              "    <button class=\"colab-df-convert\" onclick=\"convertToInteractive('df-e193d6bd-46bf-4bb7-9361-ae506e86cfae')\"\n",
              "            title=\"Convert this dataframe to an interactive table.\"\n",
              "            style=\"display:none;\">\n",
              "\n",
              "  <svg xmlns=\"http://www.w3.org/2000/svg\" height=\"24px\" viewBox=\"0 -960 960 960\">\n",
              "    <path d=\"M120-120v-720h720v720H120Zm60-500h600v-160H180v160Zm220 220h160v-160H400v160Zm0 220h160v-160H400v160ZM180-400h160v-160H180v160Zm440 0h160v-160H620v160ZM180-180h160v-160H180v160Zm440 0h160v-160H620v160Z\"/>\n",
              "  </svg>\n",
              "    </button>\n",
              "\n",
              "  <style>\n",
              "    .colab-df-container {\n",
              "      display:flex;\n",
              "      gap: 12px;\n",
              "    }\n",
              "\n",
              "    .colab-df-convert {\n",
              "      background-color: #E8F0FE;\n",
              "      border: none;\n",
              "      border-radius: 50%;\n",
              "      cursor: pointer;\n",
              "      display: none;\n",
              "      fill: #1967D2;\n",
              "      height: 32px;\n",
              "      padding: 0 0 0 0;\n",
              "      width: 32px;\n",
              "    }\n",
              "\n",
              "    .colab-df-convert:hover {\n",
              "      background-color: #E2EBFA;\n",
              "      box-shadow: 0px 1px 2px rgba(60, 64, 67, 0.3), 0px 1px 3px 1px rgba(60, 64, 67, 0.15);\n",
              "      fill: #174EA6;\n",
              "    }\n",
              "\n",
              "    .colab-df-buttons div {\n",
              "      margin-bottom: 4px;\n",
              "    }\n",
              "\n",
              "    [theme=dark] .colab-df-convert {\n",
              "      background-color: #3B4455;\n",
              "      fill: #D2E3FC;\n",
              "    }\n",
              "\n",
              "    [theme=dark] .colab-df-convert:hover {\n",
              "      background-color: #434B5C;\n",
              "      box-shadow: 0px 1px 3px 1px rgba(0, 0, 0, 0.15);\n",
              "      filter: drop-shadow(0px 1px 2px rgba(0, 0, 0, 0.3));\n",
              "      fill: #FFFFFF;\n",
              "    }\n",
              "  </style>\n",
              "\n",
              "    <script>\n",
              "      const buttonEl =\n",
              "        document.querySelector('#df-e193d6bd-46bf-4bb7-9361-ae506e86cfae button.colab-df-convert');\n",
              "      buttonEl.style.display =\n",
              "        google.colab.kernel.accessAllowed ? 'block' : 'none';\n",
              "\n",
              "      async function convertToInteractive(key) {\n",
              "        const element = document.querySelector('#df-e193d6bd-46bf-4bb7-9361-ae506e86cfae');\n",
              "        const dataTable =\n",
              "          await google.colab.kernel.invokeFunction('convertToInteractive',\n",
              "                                                    [key], {});\n",
              "        if (!dataTable) return;\n",
              "\n",
              "        const docLinkHtml = 'Like what you see? Visit the ' +\n",
              "          '<a target=\"_blank\" href=https://colab.research.google.com/notebooks/data_table.ipynb>data table notebook</a>'\n",
              "          + ' to learn more about interactive tables.';\n",
              "        element.innerHTML = '';\n",
              "        dataTable['output_type'] = 'display_data';\n",
              "        await google.colab.output.renderOutput(dataTable, element);\n",
              "        const docLink = document.createElement('div');\n",
              "        docLink.innerHTML = docLinkHtml;\n",
              "        element.appendChild(docLink);\n",
              "      }\n",
              "    </script>\n",
              "  </div>\n",
              "\n",
              "\n",
              "<div id=\"df-d5b3dec2-2341-440f-99ff-32c2dd8689f8\">\n",
              "  <button class=\"colab-df-quickchart\" onclick=\"quickchart('df-d5b3dec2-2341-440f-99ff-32c2dd8689f8')\"\n",
              "            title=\"Suggest charts\"\n",
              "            style=\"display:none;\">\n",
              "\n",
              "<svg xmlns=\"http://www.w3.org/2000/svg\" height=\"24px\"viewBox=\"0 0 24 24\"\n",
              "     width=\"24px\">\n",
              "    <g>\n",
              "        <path d=\"M19 3H5c-1.1 0-2 .9-2 2v14c0 1.1.9 2 2 2h14c1.1 0 2-.9 2-2V5c0-1.1-.9-2-2-2zM9 17H7v-7h2v7zm4 0h-2V7h2v10zm4 0h-2v-4h2v4z\"/>\n",
              "    </g>\n",
              "</svg>\n",
              "  </button>\n",
              "\n",
              "<style>\n",
              "  .colab-df-quickchart {\n",
              "      --bg-color: #E8F0FE;\n",
              "      --fill-color: #1967D2;\n",
              "      --hover-bg-color: #E2EBFA;\n",
              "      --hover-fill-color: #174EA6;\n",
              "      --disabled-fill-color: #AAA;\n",
              "      --disabled-bg-color: #DDD;\n",
              "  }\n",
              "\n",
              "  [theme=dark] .colab-df-quickchart {\n",
              "      --bg-color: #3B4455;\n",
              "      --fill-color: #D2E3FC;\n",
              "      --hover-bg-color: #434B5C;\n",
              "      --hover-fill-color: #FFFFFF;\n",
              "      --disabled-bg-color: #3B4455;\n",
              "      --disabled-fill-color: #666;\n",
              "  }\n",
              "\n",
              "  .colab-df-quickchart {\n",
              "    background-color: var(--bg-color);\n",
              "    border: none;\n",
              "    border-radius: 50%;\n",
              "    cursor: pointer;\n",
              "    display: none;\n",
              "    fill: var(--fill-color);\n",
              "    height: 32px;\n",
              "    padding: 0;\n",
              "    width: 32px;\n",
              "  }\n",
              "\n",
              "  .colab-df-quickchart:hover {\n",
              "    background-color: var(--hover-bg-color);\n",
              "    box-shadow: 0 1px 2px rgba(60, 64, 67, 0.3), 0 1px 3px 1px rgba(60, 64, 67, 0.15);\n",
              "    fill: var(--button-hover-fill-color);\n",
              "  }\n",
              "\n",
              "  .colab-df-quickchart-complete:disabled,\n",
              "  .colab-df-quickchart-complete:disabled:hover {\n",
              "    background-color: var(--disabled-bg-color);\n",
              "    fill: var(--disabled-fill-color);\n",
              "    box-shadow: none;\n",
              "  }\n",
              "\n",
              "  .colab-df-spinner {\n",
              "    border: 2px solid var(--fill-color);\n",
              "    border-color: transparent;\n",
              "    border-bottom-color: var(--fill-color);\n",
              "    animation:\n",
              "      spin 1s steps(1) infinite;\n",
              "  }\n",
              "\n",
              "  @keyframes spin {\n",
              "    0% {\n",
              "      border-color: transparent;\n",
              "      border-bottom-color: var(--fill-color);\n",
              "      border-left-color: var(--fill-color);\n",
              "    }\n",
              "    20% {\n",
              "      border-color: transparent;\n",
              "      border-left-color: var(--fill-color);\n",
              "      border-top-color: var(--fill-color);\n",
              "    }\n",
              "    30% {\n",
              "      border-color: transparent;\n",
              "      border-left-color: var(--fill-color);\n",
              "      border-top-color: var(--fill-color);\n",
              "      border-right-color: var(--fill-color);\n",
              "    }\n",
              "    40% {\n",
              "      border-color: transparent;\n",
              "      border-right-color: var(--fill-color);\n",
              "      border-top-color: var(--fill-color);\n",
              "    }\n",
              "    60% {\n",
              "      border-color: transparent;\n",
              "      border-right-color: var(--fill-color);\n",
              "    }\n",
              "    80% {\n",
              "      border-color: transparent;\n",
              "      border-right-color: var(--fill-color);\n",
              "      border-bottom-color: var(--fill-color);\n",
              "    }\n",
              "    90% {\n",
              "      border-color: transparent;\n",
              "      border-bottom-color: var(--fill-color);\n",
              "    }\n",
              "  }\n",
              "</style>\n",
              "\n",
              "  <script>\n",
              "    async function quickchart(key) {\n",
              "      const quickchartButtonEl =\n",
              "        document.querySelector('#' + key + ' button');\n",
              "      quickchartButtonEl.disabled = true;  // To prevent multiple clicks.\n",
              "      quickchartButtonEl.classList.add('colab-df-spinner');\n",
              "      try {\n",
              "        const charts = await google.colab.kernel.invokeFunction(\n",
              "            'suggestCharts', [key], {});\n",
              "      } catch (error) {\n",
              "        console.error('Error during call to suggestCharts:', error);\n",
              "      }\n",
              "      quickchartButtonEl.classList.remove('colab-df-spinner');\n",
              "      quickchartButtonEl.classList.add('colab-df-quickchart-complete');\n",
              "    }\n",
              "    (() => {\n",
              "      let quickchartButtonEl =\n",
              "        document.querySelector('#df-d5b3dec2-2341-440f-99ff-32c2dd8689f8 button');\n",
              "      quickchartButtonEl.style.display =\n",
              "        google.colab.kernel.accessAllowed ? 'block' : 'none';\n",
              "    })();\n",
              "  </script>\n",
              "</div>\n",
              "\n",
              "    </div>\n",
              "  </div>\n"
            ],
            "application/vnd.google.colaboratory.intrinsic+json": {
              "type": "dataframe",
              "variable_name": "data",
              "summary": "{\n  \"name\": \"data\",\n  \"rows\": 25,\n  \"fields\": [\n    {\n      \"column\": \"country\",\n      \"properties\": {\n        \"dtype\": \"string\",\n        \"num_unique_values\": 25,\n        \"samples\": [\n          \"Dominican Republic\",\n          \"Nicaragua\",\n          \"Argentina\"\n        ],\n        \"semantic_type\": \"\",\n        \"description\": \"\"\n      }\n    },\n    {\n      \"column\": \"gdpPercap_1952\",\n      \"properties\": {\n        \"dtype\": \"number\",\n        \"std\": 3001.7275216326566,\n        \"min\": 1397.717137,\n        \"max\": 13990.48208,\n        \"num_unique_values\": 25,\n        \"samples\": [\n          1397.717137,\n          3112.363948,\n          5911.315053\n        ],\n        \"semantic_type\": \"\",\n        \"description\": \"\"\n      }\n    },\n    {\n      \"column\": \"gdpPercap_1957\",\n      \"properties\": {\n        \"dtype\": \"number\",\n        \"std\": 3312.3810829210124,\n        \"min\": 1544.402995,\n        \"max\": 14847.12712,\n        \"num_unique_values\": 25,\n        \"samples\": [\n          1544.402995,\n          3457.415947,\n          6856.856212\n        ],\n        \"semantic_type\": \"\",\n        \"description\": \"\"\n      }\n    },\n    {\n      \"column\": \"gdpPercap_1962\",\n      \"properties\": {\n        \"dtype\": \"number\",\n        \"std\": 3421.740568771563,\n        \"min\": 1662.137359,\n        \"max\": 16173.14586,\n        \"num_unique_values\": 25,\n        \"samples\": [\n          1662.137359,\n          3634.364406,\n          7133.166023\n        ],\n        \"semantic_type\": \"\",\n        \"description\": \"\"\n      }\n    },\n    {\n      \"column\": \"gdpPercap_1967\",\n      \"properties\": {\n        \"dtype\": \"number\",\n        \"std\": 4160.885559590396,\n        \"min\": 1452.057666,\n        \"max\": 19530.36557,\n        \"num_unique_values\": 25,\n        \"samples\": [\n          1653.723003,\n          4643.393534,\n          8052.953021\n        ],\n        \"semantic_type\": \"\",\n        \"description\": \"\"\n      }\n    },\n    {\n      \"column\": \"gdpPercap_1972\",\n      \"properties\": {\n        \"dtype\": \"number\",\n        \"std\": 4754.40432881002,\n        \"min\": 1654.456946,\n        \"max\": 21806.03594,\n        \"num_unique_values\": 25,\n        \"samples\": [\n          2189.874499,\n          4688.593267,\n          9443.038526\n        ],\n        \"semantic_type\": \"\",\n        \"description\": \"\"\n      }\n    },\n    {\n      \"column\": \"gdpPercap_1977\",\n      \"properties\": {\n        \"dtype\": \"number\",\n        \"std\": 5355.602518251342,\n        \"min\": 1874.298931,\n        \"max\": 24072.63213,\n        \"num_unique_values\": 25,\n        \"samples\": [\n          2681.9889,\n          5486.371089,\n          10079.02674\n        ],\n        \"semantic_type\": \"\",\n        \"description\": \"\"\n      }\n    },\n    {\n      \"column\": \"gdpPercap_1982\",\n      \"properties\": {\n        \"dtype\": \"number\",\n        \"std\": 5530.49047115146,\n        \"min\": 2011.159549,\n        \"max\": 25009.55914,\n        \"num_unique_values\": 25,\n        \"samples\": [\n          2861.092386,\n          3470.338156,\n          8997.897412\n        ],\n        \"semantic_type\": \"\",\n        \"description\": \"\"\n      }\n    },\n    {\n      \"column\": \"gdpPercap_1987\",\n      \"properties\": {\n        \"dtype\": \"number\",\n        \"std\": 6665.039508729742,\n        \"min\": 1823.015995,\n        \"max\": 29884.35041,\n        \"num_unique_values\": 25,\n        \"samples\": [\n          2899.842175,\n          2955.984375,\n          9139.671389\n        ],\n        \"semantic_type\": \"\",\n        \"description\": \"\"\n      }\n    },\n    {\n      \"column\": \"gdpPercap_1992\",\n      \"properties\": {\n        \"dtype\": \"number\",\n        \"std\": 7047.08919137503,\n        \"min\": 1456.309517,\n        \"max\": 32003.93224,\n        \"num_unique_values\": 25,\n        \"samples\": [\n          3044.214214,\n          2170.151724,\n          9308.41871\n        ],\n        \"semantic_type\": \"\",\n        \"description\": \"\"\n      }\n    },\n    {\n      \"column\": \"gdpPercap_1997\",\n      \"properties\": {\n        \"dtype\": \"number\",\n        \"std\": 7874.225144658293,\n        \"min\": 1341.726931,\n        \"max\": 35767.43303,\n        \"num_unique_values\": 25,\n        \"samples\": [\n          3614.101285,\n          2253.023004,\n          10967.28195\n        ],\n        \"semantic_type\": \"\",\n        \"description\": \"\"\n      }\n    },\n    {\n      \"column\": \"gdpPercap_2002\",\n      \"properties\": {\n        \"dtype\": \"number\",\n        \"std\": 8895.817785335206,\n        \"min\": 1270.364932,\n        \"max\": 39097.09955,\n        \"num_unique_values\": 25,\n        \"samples\": [\n          4563.808154,\n          2474.548819,\n          8797.640716\n        ],\n        \"semantic_type\": \"\",\n        \"description\": \"\"\n      }\n    },\n    {\n      \"column\": \"gdpPercap_2007\",\n      \"properties\": {\n        \"dtype\": \"number\",\n        \"std\": 9713.20930239591,\n        \"min\": 1201.637154,\n        \"max\": 42951.65309,\n        \"num_unique_values\": 25,\n        \"samples\": [\n          6025.374752,\n          2749.320965,\n          12779.37964\n        ],\n        \"semantic_type\": \"\",\n        \"description\": \"\"\n      }\n    }\n  ]\n}"
            }
          },
          "metadata": {},
          "execution_count": 98
        }
      ]
    },
    {
      "cell_type": "code",
      "source": [
        "#display all values for the rows under a particular column\n",
        "print(data_americas.loc[:, \"gdpPercap_1952\"])"
      ],
      "metadata": {
        "colab": {
          "base_uri": "https://localhost:8080/"
        },
        "id": "Mtc7sPsrut5l",
        "outputId": "059f1b23-9274-4a45-b4db-ca96e2ac164d"
      },
      "execution_count": 100,
      "outputs": [
        {
          "output_type": "stream",
          "name": "stdout",
          "text": [
            "country\n",
            "Argentina               5911.315053\n",
            "Bolivia                 2677.326347\n",
            "Brazil                  2108.944355\n",
            "Canada                 11367.161120\n",
            "Chile                   3939.978789\n",
            "Colombia                2144.115096\n",
            "Costa Rica              2627.009471\n",
            "Cuba                    5586.538780\n",
            "Dominican Republic      1397.717137\n",
            "Ecuador                 3522.110717\n",
            "El Salvador             3048.302900\n",
            "Guatemala               2428.237769\n",
            "Haiti                   1840.366939\n",
            "Honduras                2194.926204\n",
            "Jamaica                 2898.530881\n",
            "Mexico                  3478.125529\n",
            "Nicaragua               3112.363948\n",
            "Panama                  2480.380334\n",
            "Paraguay                1952.308701\n",
            "Peru                    3758.523437\n",
            "Puerto Rico             3081.959785\n",
            "Trinidad and Tobago     3023.271928\n",
            "United States          13990.482080\n",
            "Uruguay                 5716.766744\n",
            "Venezuela               7689.799761\n",
            "Name: gdpPercap_1952, dtype: float64\n"
          ]
        }
      ]
    },
    {
      "cell_type": "code",
      "source": [
        "#testing this with the other data frame name\n",
        "print(data.loc[:, \"gdpPercap_1952\"])"
      ],
      "metadata": {
        "colab": {
          "base_uri": "https://localhost:8080/"
        },
        "id": "ubxd_X_SvbFz",
        "outputId": "0e9ddb25-9c99-448f-90a3-38bd5dfe4759"
      },
      "execution_count": 101,
      "outputs": [
        {
          "output_type": "stream",
          "name": "stdout",
          "text": [
            "country\n",
            "Argentina               5911.315053\n",
            "Bolivia                 2677.326347\n",
            "Brazil                  2108.944355\n",
            "Canada                 11367.161120\n",
            "Chile                   3939.978789\n",
            "Colombia                2144.115096\n",
            "Costa Rica              2627.009471\n",
            "Cuba                    5586.538780\n",
            "Dominican Republic      1397.717137\n",
            "Ecuador                 3522.110717\n",
            "El Salvador             3048.302900\n",
            "Guatemala               2428.237769\n",
            "Haiti                   1840.366939\n",
            "Honduras                2194.926204\n",
            "Jamaica                 2898.530881\n",
            "Mexico                  3478.125529\n",
            "Nicaragua               3112.363948\n",
            "Panama                  2480.380334\n",
            "Paraguay                1952.308701\n",
            "Peru                    3758.523437\n",
            "Puerto Rico             3081.959785\n",
            "Trinidad and Tobago     3023.271928\n",
            "United States          13990.482080\n",
            "Uruguay                 5716.766744\n",
            "Venezuela               7689.799761\n",
            "Name: gdpPercap_1952, dtype: float64\n"
          ]
        }
      ]
    },
    {
      "cell_type": "code",
      "source": [
        "#looking at a smaller slice of data - countries with names starting with C and for gdp across several years\n",
        "data.loc[\"Canada\":\"Cuba\", \"gdpPercap_1962\":\"gdpPercap_1972\"]"
      ],
      "metadata": {
        "colab": {
          "base_uri": "https://localhost:8080/",
          "height": 237
        },
        "id": "-vWtTOLyvmY3",
        "outputId": "9f9eda1c-8858-4c78-f868-8f0432416b8d"
      },
      "execution_count": 102,
      "outputs": [
        {
          "output_type": "execute_result",
          "data": {
            "text/plain": [
              "            gdpPercap_1962  gdpPercap_1967  gdpPercap_1972\n",
              "country                                                   \n",
              "Canada        13462.485550    16076.588030    18970.570860\n",
              "Chile          4519.094331     5106.654313     5494.024437\n",
              "Colombia       2492.351109     2678.729839     3264.660041\n",
              "Costa Rica     3460.937025     4161.727834     5118.146939\n",
              "Cuba           5180.755910     5690.268015     5305.445256"
            ],
            "text/html": [
              "\n",
              "  <div id=\"df-79b33ce2-8f4f-47a1-9e9b-a6a8f16f9268\" class=\"colab-df-container\">\n",
              "    <div>\n",
              "<style scoped>\n",
              "    .dataframe tbody tr th:only-of-type {\n",
              "        vertical-align: middle;\n",
              "    }\n",
              "\n",
              "    .dataframe tbody tr th {\n",
              "        vertical-align: top;\n",
              "    }\n",
              "\n",
              "    .dataframe thead th {\n",
              "        text-align: right;\n",
              "    }\n",
              "</style>\n",
              "<table border=\"1\" class=\"dataframe\">\n",
              "  <thead>\n",
              "    <tr style=\"text-align: right;\">\n",
              "      <th></th>\n",
              "      <th>gdpPercap_1962</th>\n",
              "      <th>gdpPercap_1967</th>\n",
              "      <th>gdpPercap_1972</th>\n",
              "    </tr>\n",
              "    <tr>\n",
              "      <th>country</th>\n",
              "      <th></th>\n",
              "      <th></th>\n",
              "      <th></th>\n",
              "    </tr>\n",
              "  </thead>\n",
              "  <tbody>\n",
              "    <tr>\n",
              "      <th>Canada</th>\n",
              "      <td>13462.485550</td>\n",
              "      <td>16076.588030</td>\n",
              "      <td>18970.570860</td>\n",
              "    </tr>\n",
              "    <tr>\n",
              "      <th>Chile</th>\n",
              "      <td>4519.094331</td>\n",
              "      <td>5106.654313</td>\n",
              "      <td>5494.024437</td>\n",
              "    </tr>\n",
              "    <tr>\n",
              "      <th>Colombia</th>\n",
              "      <td>2492.351109</td>\n",
              "      <td>2678.729839</td>\n",
              "      <td>3264.660041</td>\n",
              "    </tr>\n",
              "    <tr>\n",
              "      <th>Costa Rica</th>\n",
              "      <td>3460.937025</td>\n",
              "      <td>4161.727834</td>\n",
              "      <td>5118.146939</td>\n",
              "    </tr>\n",
              "    <tr>\n",
              "      <th>Cuba</th>\n",
              "      <td>5180.755910</td>\n",
              "      <td>5690.268015</td>\n",
              "      <td>5305.445256</td>\n",
              "    </tr>\n",
              "  </tbody>\n",
              "</table>\n",
              "</div>\n",
              "    <div class=\"colab-df-buttons\">\n",
              "\n",
              "  <div class=\"colab-df-container\">\n",
              "    <button class=\"colab-df-convert\" onclick=\"convertToInteractive('df-79b33ce2-8f4f-47a1-9e9b-a6a8f16f9268')\"\n",
              "            title=\"Convert this dataframe to an interactive table.\"\n",
              "            style=\"display:none;\">\n",
              "\n",
              "  <svg xmlns=\"http://www.w3.org/2000/svg\" height=\"24px\" viewBox=\"0 -960 960 960\">\n",
              "    <path d=\"M120-120v-720h720v720H120Zm60-500h600v-160H180v160Zm220 220h160v-160H400v160Zm0 220h160v-160H400v160ZM180-400h160v-160H180v160Zm440 0h160v-160H620v160ZM180-180h160v-160H180v160Zm440 0h160v-160H620v160Z\"/>\n",
              "  </svg>\n",
              "    </button>\n",
              "\n",
              "  <style>\n",
              "    .colab-df-container {\n",
              "      display:flex;\n",
              "      gap: 12px;\n",
              "    }\n",
              "\n",
              "    .colab-df-convert {\n",
              "      background-color: #E8F0FE;\n",
              "      border: none;\n",
              "      border-radius: 50%;\n",
              "      cursor: pointer;\n",
              "      display: none;\n",
              "      fill: #1967D2;\n",
              "      height: 32px;\n",
              "      padding: 0 0 0 0;\n",
              "      width: 32px;\n",
              "    }\n",
              "\n",
              "    .colab-df-convert:hover {\n",
              "      background-color: #E2EBFA;\n",
              "      box-shadow: 0px 1px 2px rgba(60, 64, 67, 0.3), 0px 1px 3px 1px rgba(60, 64, 67, 0.15);\n",
              "      fill: #174EA6;\n",
              "    }\n",
              "\n",
              "    .colab-df-buttons div {\n",
              "      margin-bottom: 4px;\n",
              "    }\n",
              "\n",
              "    [theme=dark] .colab-df-convert {\n",
              "      background-color: #3B4455;\n",
              "      fill: #D2E3FC;\n",
              "    }\n",
              "\n",
              "    [theme=dark] .colab-df-convert:hover {\n",
              "      background-color: #434B5C;\n",
              "      box-shadow: 0px 1px 3px 1px rgba(0, 0, 0, 0.15);\n",
              "      filter: drop-shadow(0px 1px 2px rgba(0, 0, 0, 0.3));\n",
              "      fill: #FFFFFF;\n",
              "    }\n",
              "  </style>\n",
              "\n",
              "    <script>\n",
              "      const buttonEl =\n",
              "        document.querySelector('#df-79b33ce2-8f4f-47a1-9e9b-a6a8f16f9268 button.colab-df-convert');\n",
              "      buttonEl.style.display =\n",
              "        google.colab.kernel.accessAllowed ? 'block' : 'none';\n",
              "\n",
              "      async function convertToInteractive(key) {\n",
              "        const element = document.querySelector('#df-79b33ce2-8f4f-47a1-9e9b-a6a8f16f9268');\n",
              "        const dataTable =\n",
              "          await google.colab.kernel.invokeFunction('convertToInteractive',\n",
              "                                                    [key], {});\n",
              "        if (!dataTable) return;\n",
              "\n",
              "        const docLinkHtml = 'Like what you see? Visit the ' +\n",
              "          '<a target=\"_blank\" href=https://colab.research.google.com/notebooks/data_table.ipynb>data table notebook</a>'\n",
              "          + ' to learn more about interactive tables.';\n",
              "        element.innerHTML = '';\n",
              "        dataTable['output_type'] = 'display_data';\n",
              "        await google.colab.output.renderOutput(dataTable, element);\n",
              "        const docLink = document.createElement('div');\n",
              "        docLink.innerHTML = docLinkHtml;\n",
              "        element.appendChild(docLink);\n",
              "      }\n",
              "    </script>\n",
              "  </div>\n",
              "\n",
              "\n",
              "<div id=\"df-ad8769cd-1e80-495d-9701-b6ee59e89d61\">\n",
              "  <button class=\"colab-df-quickchart\" onclick=\"quickchart('df-ad8769cd-1e80-495d-9701-b6ee59e89d61')\"\n",
              "            title=\"Suggest charts\"\n",
              "            style=\"display:none;\">\n",
              "\n",
              "<svg xmlns=\"http://www.w3.org/2000/svg\" height=\"24px\"viewBox=\"0 0 24 24\"\n",
              "     width=\"24px\">\n",
              "    <g>\n",
              "        <path d=\"M19 3H5c-1.1 0-2 .9-2 2v14c0 1.1.9 2 2 2h14c1.1 0 2-.9 2-2V5c0-1.1-.9-2-2-2zM9 17H7v-7h2v7zm4 0h-2V7h2v10zm4 0h-2v-4h2v4z\"/>\n",
              "    </g>\n",
              "</svg>\n",
              "  </button>\n",
              "\n",
              "<style>\n",
              "  .colab-df-quickchart {\n",
              "      --bg-color: #E8F0FE;\n",
              "      --fill-color: #1967D2;\n",
              "      --hover-bg-color: #E2EBFA;\n",
              "      --hover-fill-color: #174EA6;\n",
              "      --disabled-fill-color: #AAA;\n",
              "      --disabled-bg-color: #DDD;\n",
              "  }\n",
              "\n",
              "  [theme=dark] .colab-df-quickchart {\n",
              "      --bg-color: #3B4455;\n",
              "      --fill-color: #D2E3FC;\n",
              "      --hover-bg-color: #434B5C;\n",
              "      --hover-fill-color: #FFFFFF;\n",
              "      --disabled-bg-color: #3B4455;\n",
              "      --disabled-fill-color: #666;\n",
              "  }\n",
              "\n",
              "  .colab-df-quickchart {\n",
              "    background-color: var(--bg-color);\n",
              "    border: none;\n",
              "    border-radius: 50%;\n",
              "    cursor: pointer;\n",
              "    display: none;\n",
              "    fill: var(--fill-color);\n",
              "    height: 32px;\n",
              "    padding: 0;\n",
              "    width: 32px;\n",
              "  }\n",
              "\n",
              "  .colab-df-quickchart:hover {\n",
              "    background-color: var(--hover-bg-color);\n",
              "    box-shadow: 0 1px 2px rgba(60, 64, 67, 0.3), 0 1px 3px 1px rgba(60, 64, 67, 0.15);\n",
              "    fill: var(--button-hover-fill-color);\n",
              "  }\n",
              "\n",
              "  .colab-df-quickchart-complete:disabled,\n",
              "  .colab-df-quickchart-complete:disabled:hover {\n",
              "    background-color: var(--disabled-bg-color);\n",
              "    fill: var(--disabled-fill-color);\n",
              "    box-shadow: none;\n",
              "  }\n",
              "\n",
              "  .colab-df-spinner {\n",
              "    border: 2px solid var(--fill-color);\n",
              "    border-color: transparent;\n",
              "    border-bottom-color: var(--fill-color);\n",
              "    animation:\n",
              "      spin 1s steps(1) infinite;\n",
              "  }\n",
              "\n",
              "  @keyframes spin {\n",
              "    0% {\n",
              "      border-color: transparent;\n",
              "      border-bottom-color: var(--fill-color);\n",
              "      border-left-color: var(--fill-color);\n",
              "    }\n",
              "    20% {\n",
              "      border-color: transparent;\n",
              "      border-left-color: var(--fill-color);\n",
              "      border-top-color: var(--fill-color);\n",
              "    }\n",
              "    30% {\n",
              "      border-color: transparent;\n",
              "      border-left-color: var(--fill-color);\n",
              "      border-top-color: var(--fill-color);\n",
              "      border-right-color: var(--fill-color);\n",
              "    }\n",
              "    40% {\n",
              "      border-color: transparent;\n",
              "      border-right-color: var(--fill-color);\n",
              "      border-top-color: var(--fill-color);\n",
              "    }\n",
              "    60% {\n",
              "      border-color: transparent;\n",
              "      border-right-color: var(--fill-color);\n",
              "    }\n",
              "    80% {\n",
              "      border-color: transparent;\n",
              "      border-right-color: var(--fill-color);\n",
              "      border-bottom-color: var(--fill-color);\n",
              "    }\n",
              "    90% {\n",
              "      border-color: transparent;\n",
              "      border-bottom-color: var(--fill-color);\n",
              "    }\n",
              "  }\n",
              "</style>\n",
              "\n",
              "  <script>\n",
              "    async function quickchart(key) {\n",
              "      const quickchartButtonEl =\n",
              "        document.querySelector('#' + key + ' button');\n",
              "      quickchartButtonEl.disabled = true;  // To prevent multiple clicks.\n",
              "      quickchartButtonEl.classList.add('colab-df-spinner');\n",
              "      try {\n",
              "        const charts = await google.colab.kernel.invokeFunction(\n",
              "            'suggestCharts', [key], {});\n",
              "      } catch (error) {\n",
              "        console.error('Error during call to suggestCharts:', error);\n",
              "      }\n",
              "      quickchartButtonEl.classList.remove('colab-df-spinner');\n",
              "      quickchartButtonEl.classList.add('colab-df-quickchart-complete');\n",
              "    }\n",
              "    (() => {\n",
              "      let quickchartButtonEl =\n",
              "        document.querySelector('#df-ad8769cd-1e80-495d-9701-b6ee59e89d61 button');\n",
              "      quickchartButtonEl.style.display =\n",
              "        google.colab.kernel.accessAllowed ? 'block' : 'none';\n",
              "    })();\n",
              "  </script>\n",
              "</div>\n",
              "\n",
              "    </div>\n",
              "  </div>\n"
            ],
            "application/vnd.google.colaboratory.intrinsic+json": {
              "type": "dataframe",
              "summary": "{\n  \"name\": \"data\",\n  \"rows\": 5,\n  \"fields\": [\n    {\n      \"column\": \"country\",\n      \"properties\": {\n        \"dtype\": \"string\",\n        \"num_unique_values\": 5,\n        \"samples\": [\n          \"Chile\",\n          \"Cuba\",\n          \"Colombia\"\n        ],\n        \"semantic_type\": \"\",\n        \"description\": \"\"\n      }\n    },\n    {\n      \"column\": \"gdpPercap_1962\",\n      \"properties\": {\n        \"dtype\": \"number\",\n        \"std\": 4391.666835854524,\n        \"min\": 2492.351109,\n        \"max\": 13462.48555,\n        \"num_unique_values\": 5,\n        \"samples\": [\n          4519.094331,\n          5180.75591,\n          2492.351109\n        ],\n        \"semantic_type\": \"\",\n        \"description\": \"\"\n      }\n    },\n    {\n      \"column\": \"gdpPercap_1967\",\n      \"properties\": {\n        \"dtype\": \"number\",\n        \"std\": 5340.482072737772,\n        \"min\": 2678.729839,\n        \"max\": 16076.58803,\n        \"num_unique_values\": 5,\n        \"samples\": [\n          5106.654313,\n          5690.268015,\n          2678.729839\n        ],\n        \"semantic_type\": \"\",\n        \"description\": \"\"\n      }\n    },\n    {\n      \"column\": \"gdpPercap_1972\",\n      \"properties\": {\n        \"dtype\": \"number\",\n        \"std\": 6401.954602507651,\n        \"min\": 3264.660041,\n        \"max\": 18970.57086,\n        \"num_unique_values\": 5,\n        \"samples\": [\n          5494.024437,\n          5305.445256,\n          3264.660041\n        ],\n        \"semantic_type\": \"\",\n        \"description\": \"\"\n      }\n    }\n  ]\n}"
            }
          },
          "metadata": {},
          "execution_count": 102
        }
      ]
    },
    {
      "cell_type": "code",
      "source": [],
      "metadata": {
        "id": "GdVGoR_iwIgI"
      },
      "execution_count": null,
      "outputs": []
    }
  ],
  "metadata": {
    "colab": {
      "provenance": [],
      "include_colab_link": true
    },
    "language_info": {
      "name": "python"
    },
    "kernelspec": {
      "name": "python3",
      "display_name": "Python 3"
    }
  },
  "nbformat": 4,
  "nbformat_minor": 0
}