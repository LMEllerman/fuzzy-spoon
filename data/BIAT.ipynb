{
  "cells": [
    {
      "cell_type": "markdown",
      "metadata": {
        "id": "V16pJ6-nbgPT"
      },
      "source": [
        "# Bring It All Together (pt. 1)\n",
        "\n",
        "All thanks go to Sarah Stueve and Megh Krishnaswamy for their work on the notebook.\n",
        "\n",
        "The goal of this notebook is to exercise the acquired Python knowledge obtained on day 2 of the Software Carpentries workshop.\n",
        "\n",
        "You will be:\n",
        "1. Importing the `gapminder_all.csv` file\n",
        "2. Index contries, filter and remove redundant columns\n",
        "3. Create a list of desired countries to compare and create a simple graph (frequency distribution table and word cloud)"
      ]
    },
    {
      "cell_type": "markdown",
      "metadata": {
        "id": "A9R583KUbgPX"
      },
      "source": [
        "---\n",
        "\n",
        "## 1. Import required Packages"
      ]
    },
    {
      "cell_type": "code",
      "execution_count": null,
      "metadata": {
        "id": "wans9dWYbgPY"
      },
      "outputs": [],
      "source": [
        "import pandas as pd\n",
        "import matplotlib.pyplot as plt"
      ]
    },
    {
      "cell_type": "markdown",
      "metadata": {
        "id": "3jkZzl2gbgPZ"
      },
      "source": [
        "---\n",
        "\n",
        "## 2. Download, Import and Clean Data\n",
        "\n",
        "In the next cell, use a bash one-liner (`wget <raw github url>`) to download the dataset from the github repository into Google Colab's file system, and use the correct functions to import the raw csv file and index by country."
      ]
    },
    {
      "cell_type": "markdown",
      "source": [
        "To find the raw Github url for a file, click on the 'raw' button on the top right corner in the Github link to a file.\n",
        "\n",
        "![](https://raw.githubusercontent.com/CosiMichele/2503-carp-biat/main/github_raw_button.png)"
      ],
      "metadata": {
        "id": "lgE_IzVFeSYW"
      }
    },
    {
      "cell_type": "code",
      "source": [
        "# gt CSV file from a web url:\n",
        "!wget https://raw.githubusercontent.com/CosiMichele/2503-carp-biat/refs/heads/main/gapminder_all.csv"
      ],
      "metadata": {
        "colab": {
          "base_uri": "https://localhost:8080/"
        },
        "id": "TOaugNVWbnVH",
        "outputId": "950e7c51-9dc2-4835-d462-a1c5f0993659"
      },
      "execution_count": null,
      "outputs": [
        {
          "output_type": "stream",
          "name": "stdout",
          "text": [
            "--2025-03-23 05:17:31--  https://raw.githubusercontent.com/CosiMichele/2503-carp-biat/refs/heads/main/gapminder_all.csv\n",
            "Resolving raw.githubusercontent.com (raw.githubusercontent.com)... 185.199.108.133, 185.199.109.133, 185.199.110.133, ...\n",
            "Connecting to raw.githubusercontent.com (raw.githubusercontent.com)|185.199.108.133|:443... connected.\n",
            "HTTP request sent, awaiting response... 200 OK\n",
            "Length: 49082 (48K) [text/plain]\n",
            "Saving to: ‘gapminder_all.csv’\n",
            "\n",
            "gapminder_all.csv   100%[===================>]  47.93K  --.-KB/s    in 0.05s   \n",
            "\n",
            "2025-03-23 05:17:31 (883 KB/s) - ‘gapminder_all.csv’ saved [49082/49082]\n",
            "\n"
          ]
        }
      ]
    },
    {
      "cell_type": "code",
      "execution_count": null,
      "metadata": {
        "id": "ROakOqACbgPZ"
      },
      "outputs": [],
      "source": [
        "raw_data = pd.read_csv(\"gapminder_all.csv\").set_index(\"country\")\n"
      ]
    },
    {
      "cell_type": "markdown",
      "metadata": {
        "id": "tITh1F7_bgPZ"
      },
      "source": [
        "### 2.1 Use the right function to drop the `continent` column."
      ]
    },
    {
      "cell_type": "code",
      "execution_count": null,
      "metadata": {
        "id": "DE_QAY2hbgPZ"
      },
      "outputs": [],
      "source": [
        "data = raw_data.drop(columns=\"continent\")"
      ]
    },
    {
      "cell_type": "markdown",
      "metadata": {
        "id": "1MT3dQYQbgPa"
      },
      "source": [
        "### 2.2 Filter the columns\n",
        "\n",
        "When filtering columns, you can use `data.drop(columns=data.filter(like=\"<column to drop>\").columns)`. Here, `like` is used to search for a string in the column name, and `filter` removes all matches.\n",
        "\n",
        "In the next 2 cells, first filter the `lifeExp_` column and the the `pop_` column."
      ]
    },
    {
      "cell_type": "code",
      "execution_count": null,
      "metadata": {
        "id": "AsQaKKShbgPa"
      },
      "outputs": [],
      "source": [
        "data = data.drop(columns=data.filter(like=\"lifeExp_\").columns)"
      ]
    },
    {
      "cell_type": "code",
      "execution_count": null,
      "metadata": {
        "id": "h0zqswXvbgPa"
      },
      "outputs": [],
      "source": [
        "data = data.drop(columns=data.filter(like=\"pop_\").columns)"
      ]
    },
    {
      "cell_type": "markdown",
      "metadata": {
        "id": "StAntv6nbgPa"
      },
      "source": [
        "### 2.3 Print index\n",
        "\n",
        "In order to continue, you will need to use the correct format for each country's name (as they appear in data frame). In the next cell, use a `for` loop to print the index (that in this case, is the countries)."
      ]
    },
    {
      "cell_type": "code",
      "execution_count": null,
      "metadata": {
        "colab": {
          "base_uri": "https://localhost:8080/"
        },
        "id": "sDKbmgTYbgPb",
        "outputId": "31839c46-333f-4a03-f95d-fdb5c070ceb5"
      },
      "outputs": [
        {
          "output_type": "stream",
          "name": "stdout",
          "text": [
            "Algeria\n",
            "Angola\n",
            "Benin\n",
            "Botswana\n",
            "Burkina Faso\n",
            "Burundi\n",
            "Cameroon\n",
            "Central African Republic\n",
            "Chad\n",
            "Comoros\n",
            "Congo Dem. Rep.\n",
            "Congo Rep.\n",
            "Cote d'Ivoire\n",
            "Djibouti\n",
            "Egypt\n",
            "Equatorial Guinea\n",
            "Eritrea\n",
            "Ethiopia\n",
            "Gabon\n",
            "Gambia\n",
            "Ghana\n",
            "Guinea\n",
            "Guinea-Bissau\n",
            "Kenya\n",
            "Lesotho\n",
            "Liberia\n",
            "Libya\n",
            "Madagascar\n",
            "Malawi\n",
            "Mali\n",
            "Mauritania\n",
            "Mauritius\n",
            "Morocco\n",
            "Mozambique\n",
            "Namibia\n",
            "Niger\n",
            "Nigeria\n",
            "Reunion\n",
            "Rwanda\n",
            "Sao Tome and Principe\n",
            "Senegal\n",
            "Sierra Leone\n",
            "Somalia\n",
            "South Africa\n",
            "Sudan\n",
            "Swaziland\n",
            "Tanzania\n",
            "Togo\n",
            "Tunisia\n",
            "Uganda\n",
            "Zambia\n",
            "Zimbabwe\n",
            "Argentina\n",
            "Bolivia\n",
            "Brazil\n",
            "Canada\n",
            "Chile\n",
            "Colombia\n",
            "Costa Rica\n",
            "Cuba\n",
            "Dominican Republic\n",
            "Ecuador\n",
            "El Salvador\n",
            "Guatemala\n",
            "Haiti\n",
            "Honduras\n",
            "Jamaica\n",
            "Mexico\n",
            "Nicaragua\n",
            "Panama\n",
            "Paraguay\n",
            "Peru\n",
            "Puerto Rico\n",
            "Trinidad and Tobago\n",
            "United States\n",
            "Uruguay\n",
            "Venezuela\n",
            "Afghanistan\n",
            "Bahrain\n",
            "Bangladesh\n",
            "Cambodia\n",
            "China\n",
            "Hong Kong China\n",
            "India\n",
            "Indonesia\n",
            "Iran\n",
            "Iraq\n",
            "Israel\n",
            "Japan\n",
            "Jordan\n",
            "Korea Dem. Rep.\n",
            "Korea Rep.\n",
            "Kuwait\n",
            "Lebanon\n",
            "Malaysia\n",
            "Mongolia\n",
            "Myanmar\n",
            "Nepal\n",
            "Oman\n",
            "Pakistan\n",
            "Philippines\n",
            "Saudi Arabia\n",
            "Singapore\n",
            "Sri Lanka\n",
            "Syria\n",
            "Taiwan\n",
            "Thailand\n",
            "Vietnam\n",
            "West Bank and Gaza\n",
            "Yemen Rep.\n",
            "Albania\n",
            "Austria\n",
            "Belgium\n",
            "Bosnia and Herzegovina\n",
            "Bulgaria\n",
            "Croatia\n",
            "Czech Republic\n",
            "Denmark\n",
            "Finland\n",
            "France\n",
            "Germany\n",
            "Greece\n",
            "Hungary\n",
            "Iceland\n",
            "Ireland\n",
            "Italy\n",
            "Montenegro\n",
            "Netherlands\n",
            "Norway\n",
            "Poland\n",
            "Portugal\n",
            "Romania\n",
            "Serbia\n",
            "Slovak Republic\n",
            "Slovenia\n",
            "Spain\n",
            "Sweden\n",
            "Switzerland\n",
            "Turkey\n",
            "United Kingdom\n",
            "Australia\n",
            "New Zealand\n"
          ]
        }
      ],
      "source": [
        "for i in data.index:\n",
        "    print(i)"
      ]
    },
    {
      "cell_type": "markdown",
      "metadata": {
        "id": "saW4hFVIbgPb"
      },
      "source": [
        "### 2.4 Extract years\n",
        "\n",
        "Extract year from last 4 characters of each column name.\n",
        "\n",
        "The current column names are structured as `gdpPercap_(year)`, so we want to keep the `(year)` part only for clarity when plotting GDP vs. years.\n",
        "\n",
        "To do this we use `replace()`, which removes from the string the characters stated in the argument. This method works on strings, so we use `replace()` from Pandas Series.str vectorized string functions."
      ]
    },
    {
      "cell_type": "code",
      "execution_count": null,
      "metadata": {
        "id": "aouDudptbgPb"
      },
      "outputs": [],
      "source": [
        "years = data.columns.str.replace('gdpPercap_', '')\n",
        "\n",
        "# Convert year values to integers, saving results back to dataframe\n",
        "\n",
        "data.columns = years.astype(int)"
      ]
    },
    {
      "cell_type": "markdown",
      "metadata": {
        "id": "ZryIJghybgPc"
      },
      "source": [
        "---\n",
        "\n",
        "## 3 Visualizing Numerical Data: Listing and Plotting\n",
        "\n",
        "In the next cell, select a country to plot."
      ]
    },
    {
      "cell_type": "code",
      "execution_count": null,
      "metadata": {
        "colab": {
          "base_uri": "https://localhost:8080/",
          "height": 466
        },
        "id": "llYCChc_bgPc",
        "outputId": "71fabf95-2785-44a1-dd3c-ffce2e4c8c00"
      },
      "outputs": [
        {
          "output_type": "execute_result",
          "data": {
            "text/plain": [
              "<Axes: >"
            ]
          },
          "metadata": {},
          "execution_count": 10
        },
        {
          "output_type": "display_data",
          "data": {
            "text/plain": [
              "<Figure size 640x480 with 1 Axes>"
            ],
            "image/png": "[encoded data removed]"
          },
          "metadata": {}
        }
      ],
      "source": [
        "\n",
        "data.loc['Algeria'].plot()"
      ]
    },
    {
      "cell_type": "markdown",
      "metadata": {
        "id": "XH-WOxgfbgPc"
      },
      "source": [
        "### 3.1 Create a list\n",
        "\n",
        "Compare 5 countries of your choice. Create a list of countries that you are interested in."
      ]
    },
    {
      "cell_type": "code",
      "execution_count": null,
      "metadata": {
        "id": "x5Zq6xU5bgPc"
      },
      "outputs": [],
      "source": [
        "sel_countries = [\"Algeria\", \"Angola\", \"Burundi\", \"Australia\", \"Italy\"]"
      ]
    },
    {
      "cell_type": "markdown",
      "metadata": {
        "id": "pv7X5xi2bgPd"
      },
      "source": [
        "### 3.2 Use index.isin() to filter\n",
        "\n",
        "`.isin(sel_countries)` checks whether each value in the index is present in the list `sel_countries`. Make sure to save to a different dataframe."
      ]
    },
    {
      "cell_type": "code",
      "execution_count": null,
      "metadata": {
        "id": "q_c0O79LbgPd"
      },
      "outputs": [],
      "source": [
        "data_countries = data[data.index.isin(sel_countries)]"
      ]
    },
    {
      "cell_type": "code",
      "execution_count": null,
      "metadata": {
        "colab": {
          "base_uri": "https://localhost:8080/",
          "height": 469
        },
        "id": "yRJ219c1bgPd",
        "outputId": "84948f4c-da1b-49cd-8a00-9634efc5fc8d"
      },
      "outputs": [
        {
          "output_type": "display_data",
          "data": {
            "text/plain": [
              "<Figure size 640x480 with 1 Axes>"
            ],
            "image/png": "[encoded data removed]"
          },
          "metadata": {}
        }
      ],
      "source": [
        "data_countries.T.plot()\n",
        "plt.ylabel('GDP per capita')\n",
        "plt.xlabel('years')\n",
        "plt.savefig(\"countries_comparison.png\", dpi=300)"
      ]
    },
    {
      "cell_type": "markdown",
      "metadata": {
        "id": "ruPfeg4ZbgPe"
      },
      "source": [
        "## 4 Visualizing Text Data: Plotting and Representing Frequency Distributions\n"
      ]
    },
    {
      "cell_type": "markdown",
      "source": [
        "For data distributed continuously, plots are straighforward to generate. But what about strings?\n",
        "\n",
        "Let's say you want to find out how many countries there are in each continent. For this, we need to access the `continent` column in each row, and count how many rows each continent bin contains. This allows us numerical data from strings, that can then be plotted.\n"
      ],
      "metadata": {
        "id": "PJ1oQmvpfxuh"
      }
    },
    {
      "cell_type": "markdown",
      "source": [
        "### 4.1 Using the right data"
      ],
      "metadata": {
        "id": "vOd3WFfehaar"
      }
    },
    {
      "cell_type": "code",
      "source": [
        "print(raw_data.head(), \"\\n\")"
      ],
      "metadata": {
        "id": "i5qoaCZngbYL",
        "outputId": "ffff9caf-76f6-4922-e214-05b29a1f4f92",
        "colab": {
          "base_uri": "https://localhost:8080/"
        }
      },
      "execution_count": null,
      "outputs": [
        {
          "output_type": "stream",
          "name": "stdout",
          "text": [
            "             continent  gdpPercap_1952  gdpPercap_1957  gdpPercap_1962  \\\n",
            "country                                                                  \n",
            "Algeria         Africa     2449.008185     3013.976023     2550.816880   \n",
            "Angola          Africa     3520.610273     3827.940465     4269.276742   \n",
            "Benin           Africa     1062.752200      959.601080      949.499064   \n",
            "Botswana        Africa      851.241141      918.232535      983.653976   \n",
            "Burkina Faso    Africa      543.255241      617.183465      722.512021   \n",
            "\n",
            "              gdpPercap_1967  gdpPercap_1972  gdpPercap_1977  gdpPercap_1982  \\\n",
            "country                                                                        \n",
            "Algeria          3246.991771     4182.663766     4910.416756     5745.160213   \n",
            "Angola           5522.776375     5473.288005     3008.647355     2756.953672   \n",
            "Benin            1035.831411     1085.796879     1029.161251     1277.897616   \n",
            "Botswana         1214.709294     2263.611114     3214.857818     4551.142150   \n",
            "Burkina Faso      794.826560      854.735976      743.387037      807.198586   \n",
            "\n",
            "              gdpPercap_1987  gdpPercap_1992  ...    pop_1962    pop_1967  \\\n",
            "country                                       ...                           \n",
            "Algeria          5681.358539     5023.216647  ...  11000948.0  12760499.0   \n",
            "Angola           2430.208311     2627.845685  ...   4826015.0   5247469.0   \n",
            "Benin            1225.856010     1191.207681  ...   2151895.0   2427334.0   \n",
            "Botswana         6205.883850     7954.111645  ...    512764.0    553541.0   \n",
            "Burkina Faso      912.063142      931.752773  ...   4919632.0   5127935.0   \n",
            "\n",
            "                pop_1972    pop_1977    pop_1982    pop_1987    pop_1992  \\\n",
            "country                                                                    \n",
            "Algeria       14760787.0  17152804.0  20033753.0  23254956.0  26298373.0   \n",
            "Angola         5894858.0   6162675.0   7016384.0   7874230.0   8735988.0   \n",
            "Benin          2761407.0   3168267.0   3641603.0   4243788.0   4981671.0   \n",
            "Botswana        619351.0    781472.0    970347.0   1151184.0   1342614.0   \n",
            "Burkina Faso   5433886.0   5889574.0   6634596.0   7586551.0   8878303.0   \n",
            "\n",
            "                pop_1997  pop_2002  pop_2007  \n",
            "country                                       \n",
            "Algeria       29072015.0  31287142  33333216  \n",
            "Angola         9875024.0  10866106  12420476  \n",
            "Benin          6066080.0   7026113   8078314  \n",
            "Botswana       1536536.0   1630347   1639131  \n",
            "Burkina Faso  10352843.0  12251209  14326203  \n",
            "\n",
            "[5 rows x 37 columns] \n",
            "\n"
          ]
        }
      ]
    },
    {
      "cell_type": "code",
      "source": [
        "print(data.head())"
      ],
      "metadata": {
        "id": "QAn0ueIBhOKg",
        "outputId": "5098b0cc-1cf8-4cd6-8a37-01cf187cf49d",
        "colab": {
          "base_uri": "https://localhost:8080/"
        }
      },
      "execution_count": null,
      "outputs": [
        {
          "output_type": "stream",
          "name": "stdout",
          "text": [
            "                     1952         1957         1962         1967         1972  \\\n",
            "country                                                                         \n",
            "Algeria       2449.008185  3013.976023  2550.816880  3246.991771  4182.663766   \n",
            "Angola        3520.610273  3827.940465  4269.276742  5522.776375  5473.288005   \n",
            "Benin         1062.752200   959.601080   949.499064  1035.831411  1085.796879   \n",
            "Botswana       851.241141   918.232535   983.653976  1214.709294  2263.611114   \n",
            "Burkina Faso   543.255241   617.183465   722.512021   794.826560   854.735976   \n",
            "\n",
            "                     1977         1982         1987         1992         1997  \\\n",
            "country                                                                         \n",
            "Algeria       4910.416756  5745.160213  5681.358539  5023.216647  4797.295051   \n",
            "Angola        3008.647355  2756.953672  2430.208311  2627.845685  2277.140884   \n",
            "Benin         1029.161251  1277.897616  1225.856010  1191.207681  1232.975292   \n",
            "Botswana      3214.857818  4551.142150  6205.883850  7954.111645  8647.142313   \n",
            "Burkina Faso   743.387037   807.198586   912.063142   931.752773   946.294962   \n",
            "\n",
            "                      2002          2007  \n",
            "country                                   \n",
            "Algeria        5288.040382   6223.367465  \n",
            "Angola         2773.287312   4797.231267  \n",
            "Benin          1372.877931   1441.284873  \n",
            "Botswana      11003.605080  12569.851770  \n",
            "Burkina Faso   1037.645221   1217.032994  \n"
          ]
        }
      ]
    },
    {
      "cell_type": "markdown",
      "source": [
        "Can we use the filtered dataframe we created in Step 2? Why/Why not?"
      ],
      "metadata": {
        "id": "9lONVfLigbLK"
      }
    },
    {
      "cell_type": "markdown",
      "source": [
        "### 4.2 What are the continent names in this dataframe?"
      ],
      "metadata": {
        "id": "kSjNLTjRh3m2"
      }
    },
    {
      "cell_type": "markdown",
      "source": [
        "Multiple countries can belong to the same continent. And so, the values in the column `continent` is repeated.\n",
        "\n",
        "If we want to find out which continents are listed in the dataframe, we only need to list each possible value in the column `continent` once, i.e., unique values in the column.\n",
        "\n",
        "We use the function `<dataframe>['col_name'].unique()` for this:"
      ],
      "metadata": {
        "id": "BIR7IU20h-Cl"
      }
    },
    {
      "cell_type": "code",
      "source": [
        "# Print unique values in the column\n",
        "continents = raw_data['continent'].unique()\n",
        "print(continents)\n"
      ],
      "metadata": {
        "id": "w-W8xB7zi0Xi",
        "outputId": "02774b2d-df1a-41bf-e6de-18b0b5137524",
        "colab": {
          "base_uri": "https://localhost:8080/"
        }
      },
      "execution_count": null,
      "outputs": [
        {
          "output_type": "stream",
          "name": "stdout",
          "text": [
            "['Africa' 'Americas' 'Asia' 'Europe' 'Oceania']\n"
          ]
        }
      ]
    },
    {
      "cell_type": "markdown",
      "source": [
        "How many continents are present in this dataframe? Are any continents missing?"
      ],
      "metadata": {
        "id": "1SdOa7aFjF_P"
      }
    },
    {
      "cell_type": "markdown",
      "source": [
        "### 4.2 Filtering rows by continent:"
      ],
      "metadata": {
        "id": "0v8Lz90CkAh4"
      }
    },
    {
      "cell_type": "markdown",
      "source": [
        "Create a list of continents you want to plot:"
      ],
      "metadata": {
        "id": "fWQ1rIfLkNlM"
      }
    },
    {
      "cell_type": "code",
      "source": [
        "# Filter the DataFrame to keep only specified continents\n",
        "allowed_continents = ['Asia', 'Europe', 'Oceania']\n"
      ],
      "metadata": {
        "id": "eGyGdu0xkIWE"
      },
      "execution_count": null,
      "outputs": []
    },
    {
      "cell_type": "code",
      "source": [
        "filtered_data = raw_data[raw_data['continent'].isin(allowed_continents)]\n"
      ],
      "metadata": {
        "id": "80cWQjcPkNFa"
      },
      "execution_count": null,
      "outputs": []
    },
    {
      "cell_type": "markdown",
      "source": [
        "### 4.3 Counting Countries in each continent"
      ],
      "metadata": {
        "id": "Wd0LNNCchj1K"
      }
    },
    {
      "cell_type": "markdown",
      "source": [
        "Next, we want to use the column `continent`, and count how many rows a given continent name is observed in. This gives us a frequency distribition!\n",
        "\n",
        "For this, we use the `.value_counts())` function:"
      ],
      "metadata": {
        "id": "gUkucvPhjNB4"
      }
    },
    {
      "cell_type": "code",
      "source": [
        "# Print frequency table for each continent in the filtered dataframe\n",
        "filtered_continent_freq_distr = filtered_data['continent'].value_counts()\n",
        "print(filtered_continent_freq_distr)\n"
      ],
      "metadata": {
        "id": "9f5uO1mUjmQx",
        "outputId": "54bb7bcc-2449-4262-e8b4-3bbf22de446b",
        "colab": {
          "base_uri": "https://localhost:8080/"
        }
      },
      "execution_count": null,
      "outputs": [
        {
          "output_type": "stream",
          "name": "stdout",
          "text": [
            "continent\n",
            "Asia       33\n",
            "Europe     30\n",
            "Oceania     2\n",
            "Name: count, dtype: int64\n"
          ]
        }
      ]
    },
    {
      "cell_type": "code",
      "source": [
        "# Print frequency table for each continent in the raw dataframe\n",
        "raw_continent_freq_distr = raw_data['continent'].value_counts()\n",
        "print(raw_continent_freq_distr)"
      ],
      "metadata": {
        "id": "HiqciJM3juOX",
        "outputId": "91508c34-fa65-4e71-c8ce-15861b7d09dd",
        "colab": {
          "base_uri": "https://localhost:8080/"
        }
      },
      "execution_count": null,
      "outputs": [
        {
          "output_type": "stream",
          "name": "stdout",
          "text": [
            "continent\n",
            "Africa      52\n",
            "Asia        33\n",
            "Europe      30\n",
            "Americas    25\n",
            "Oceania      2\n",
            "Name: count, dtype: int64\n"
          ]
        }
      ]
    },
    {
      "cell_type": "markdown",
      "source": [
        "This allows us to also check if our  filter worked correctly."
      ],
      "metadata": {
        "id": "UVEr3fuZkzQ4"
      }
    },
    {
      "cell_type": "markdown",
      "source": [
        "### 4.4 Visualising word frequencies with Bar Plots\n",
        "\n",
        "We will now use the frequency distributions saved in the variables `filtered_continent_freq_distr` and `raw_continent_freq_distr` to count represent how many countries each continent has:\n",
        "\n"
      ],
      "metadata": {
        "id": "ke2bYU1GkzMq"
      }
    },
    {
      "cell_type": "code",
      "source": [
        "# Generate bar plot for continent frequency in filtered dataframe:\n",
        "filtered_continent_freq_distr.plot(kind='bar')\n",
        "plt.xlabel('Continent')\n",
        "plt.ylabel('Frequency')\n",
        "plt.title('Continent Frequency Bar Plot')\n",
        "plt.savefig(\"continents_comparison.png\", dpi=300)"
      ],
      "metadata": {
        "id": "vgOXBPxWkvBd",
        "outputId": "618eb129-57d9-430e-e470-690ae994f933",
        "colab": {
          "base_uri": "https://localhost:8080/",
          "height": 535
        }
      },
      "execution_count": null,
      "outputs": [
        {
          "output_type": "display_data",
          "data": {
            "text/plain": [
              "<Figure size 640x480 with 1 Axes>"
            ],
            "image/png": "[encoded data removed]"
          },
          "metadata": {}
        }
      ]
    },
    {
      "cell_type": "code",
      "source": [
        "# use the code above to generate a bar plot for all continents:\n",
        "# Generate bar plot for continent frequency in filtered dataframe:\n",
        "raw_continent_freq_distr.plot(kind='bar')\n",
        "plt.xlabel('Continent')\n",
        "plt.ylabel('Frequency')\n",
        "plt.title('Continent Frequency Bar Plot')"
      ],
      "metadata": {
        "id": "rdZmw3dZpijX",
        "outputId": "5adb0cac-c25e-496e-962e-faa501bc711f",
        "colab": {
          "base_uri": "https://localhost:8080/",
          "height": 559
        }
      },
      "execution_count": null,
      "outputs": [
        {
          "output_type": "execute_result",
          "data": {
            "text/plain": [
              "Text(0.5, 1.0, 'Continent Frequency Bar Plot')"
            ]
          },
          "metadata": {},
          "execution_count": 66
        },
        {
          "output_type": "display_data",
          "data": {
            "text/plain": [
              "<Figure size 640x480 with 1 Axes>"
            ],
            "image/png": "[encoded data removed]"
          },
          "metadata": {}
        }
      ]
    },
    {
      "cell_type": "markdown",
      "source": [
        "### 4.5 Visualising word frequencies with Wordclouds\n"
      ],
      "metadata": {
        "id": "iMuBXAoZlYkr"
      }
    },
    {
      "cell_type": "markdown",
      "source": [
        "Wordclouds are a fun tool to visualise how frequently a set of strings appear in a dataset. More frequent strings will be larger in size.\n",
        "\n",
        "For this we will import the `wordcloud` python library, and the frequency distributions we printed in 4.3:"
      ],
      "metadata": {
        "id": "rsw7h4otleqC"
      }
    },
    {
      "cell_type": "code",
      "source": [
        "import pandas as pd\n",
        "import matplotlib.pyplot as plt\n",
        "from wordcloud import WordCloud"
      ],
      "metadata": {
        "id": "3yz_ZJiPlPqT"
      },
      "execution_count": null,
      "outputs": []
    },
    {
      "cell_type": "code",
      "source": [
        "filtered_wordcloud = WordCloud(width=500, height=500,\n",
        "                      background_color='white').generate_from_frequencies(\n",
        "                       filtered_continent_freq_distr)"
      ],
      "metadata": {
        "id": "FB7JrjVNlyZJ"
      },
      "execution_count": null,
      "outputs": []
    },
    {
      "cell_type": "code",
      "source": [
        "# Display the word cloud\n",
        "plt.figure(figsize=(10, 5))\n",
        "plt.imshow(filtered_wordcloud)\n",
        "plt.axis('off')\n",
        "plt.savefig(\"continents_comparison_wordcloud.png\", dpi=300)"
      ],
      "metadata": {
        "id": "rT68d75Pl4O2",
        "outputId": "465f6138-9ea3-43a5-c0ff-02897d06710e",
        "colab": {
          "base_uri": "https://localhost:8080/",
          "height": 442
        }
      },
      "execution_count": null,
      "outputs": [
        {
          "output_type": "display_data",
          "data": {
            "text/plain": [
              "<Figure size 1000x500 with 1 Axes>"
            ],
            "image/png": "[encoded data removed]"
          },
          "metadata": {}
        }
      ]
    },
    {
      "cell_type": "markdown",
      "source": [
        "### Which continent has the most countries?"
      ],
      "metadata": {
        "id": "2nZjrsA9oaCU"
      }
    }
  ],
  "metadata": {
    "kernelspec": {
      "display_name": "Python 3",
      "name": "python3"
    },
    "language_info": {
      "codemirror_mode": {
        "name": "ipython",
        "version": 3
      },
      "file_extension": ".py",
      "mimetype": "text/x-python",
      "name": "python",
      "nbconvert_exporter": "python",
      "pygments_lexer": "ipython3",
      "version": "3.12.9"
    },
    "colab": {
      "provenance": []
    }
  },
  "nbformat": 4,
  "nbformat_minor": 0
}